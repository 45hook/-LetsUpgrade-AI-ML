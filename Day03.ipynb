{
 "cells": [
  {
   "cell_type": "markdown",
   "id": "662ecaf3",
   "metadata": {},
   "source": [
    "# Question 1:\n",
    "## Write a program to subtract two complex numbers in Python."
   ]
  },
  {
   "cell_type": "code",
   "execution_count": 16,
   "id": "9cfe44f5",
   "metadata": {},
   "outputs": [
    {
     "name": "stdout",
     "output_type": "stream",
     "text": [
      "Result is : (6+3j)\n"
     ]
    }
   ],
   "source": [
    "complex1 = complex(9, 8) \n",
    "complex2 = complex(3, 5) \n",
    "\n",
    "print (\"Result is :\",complex1 - complex2)\n",
    "\n",
    "# we can also use a function to do the subtraction - as below\n",
    "\n",
    "# def SubComplexNumbers( complex1 , complex2): \n",
    "#     return  complex1 - complex2\n",
    "# print( \"Result is : \", SubComplexNumbers( complex1 , complex2)) \n",
    "\n",
    "\n"
   ]
  },
  {
   "cell_type": "markdown",
   "id": "be62cada",
   "metadata": {},
   "source": [
    "# Question 2 :\n",
    "## Write a program to find the fourth root of a number."
   ]
  },
  {
   "cell_type": "code",
   "execution_count": 24,
   "id": "d9c447aa",
   "metadata": {},
   "outputs": [
    {
     "name": "stdout",
     "output_type": "stream",
     "text": [
      "Enter the Number to find its fourth root: 625\n",
      "square root: 5.0\n"
     ]
    }
   ],
   "source": [
    "number = int(input(\"Enter the Number to find its fourth root: \"))\n",
    "\n",
    "# finding fourth root by finding square root of square root\n",
    "sqrt = (((number ** 0.5 ) ** 0.5 ) )    \n",
    "\n",
    "print(\"square root:\", sqrt)"
   ]
  },
  {
   "cell_type": "markdown",
   "id": "8d69b3b2",
   "metadata": {},
   "source": [
    "# Question 3:\n",
    "## Write a program to swap two numbers in Python with the help of a temporary variable\n"
   ]
  },
  {
   "cell_type": "code",
   "execution_count": 28,
   "id": "d0248d9c",
   "metadata": {},
   "outputs": [
    {
     "name": "stdout",
     "output_type": "stream",
     "text": [
      "Original Numbers : A is  3 and B is  7\n",
      "Numbers after swapping : A is  7 and B is  3\n"
     ]
    }
   ],
   "source": [
    "a , b = 3 , 7\n",
    "print(\"Original Numbers : A is \",a,\"and B is \",b )\n",
    "#temp variable c\n",
    "c=a\n",
    "a=b\n",
    "b=c\n",
    "print(\"Numbers after swapping : A is \",a,\"and B is \",b )\n"
   ]
  },
  {
   "cell_type": "markdown",
   "id": "9c309aec",
   "metadata": {},
   "source": [
    "# Question 4:\n",
    "## Write a program to swap two numbers in Python without using a temporary variable."
   ]
  },
  {
   "cell_type": "code",
   "execution_count": 31,
   "id": "db835332",
   "metadata": {},
   "outputs": [
    {
     "name": "stdout",
     "output_type": "stream",
     "text": [
      "Original Numbers : A is  3 and B is  7\n",
      "Numbers after swapping : A is  7 and B is  3\n"
     ]
    }
   ],
   "source": [
    "a,b = 3,7\n",
    "print(\"Original Numbers : A is \",a,\"and B is \",b )\n",
    "\n",
    "# swapping code \n",
    "a,b = b,a \n",
    "\n",
    "print(\"Numbers after swapping : A is \",a,\"and B is \",b )\n"
   ]
  },
  {
   "cell_type": "markdown",
   "id": "a259317a",
   "metadata": {},
   "source": [
    "# Question 5:\n",
    "## Write a program to convert Fahrenheit to kelvin and celsius both."
   ]
  },
  {
   "cell_type": "code",
   "execution_count": 48,
   "id": "06d5fbbf",
   "metadata": {},
   "outputs": [
    {
     "name": "stdout",
     "output_type": "stream",
     "text": [
      "24\n",
      "Temperature in Kelvin ( K ) = 269.05555555555554\n",
      "Temperature in Celsius( c ) = -4.444444444444445\n"
     ]
    }
   ],
   "source": [
    "\n",
    "F = float(input())\n",
    "\n",
    "print(\"Temperature in Kelvin ( K ) =\" , 273.5 + ((F - 32.0) * (5.0/9.0)))\n",
    "\n",
    "print(\"Temperature in Celsius( c ) =\" , (F-32)/1.8 )"
   ]
  },
  {
   "cell_type": "markdown",
   "id": "5d908655",
   "metadata": {},
   "source": [
    "# Question 6:\n",
    "## Write a program to demonstrate all the available data types in Python. Hint: Use type() function."
   ]
  },
  {
   "cell_type": "markdown",
   "id": "fd9ed776",
   "metadata": {},
   "source": [
    "\"\"\"As per w3schools , below are the data type in python\n",
    ">Text Type:\tstr<br>\n",
    ">Numeric Types:\tint, float, complex<br>\n",
    ">Sequence Types:\tlist, tuple, range<br>\n",
    ">Mapping Type:\tdict<br>\n",
    ">Set Types:\tset, frozenset<br>\n",
    ">Boolean Type:\tbool<br>\n",
    ">Binary Types:\tbytes, bytearray, memoryview<br>"
   ]
  },
  {
   "cell_type": "code",
   "execution_count": 68,
   "id": "f9497e42",
   "metadata": {},
   "outputs": [
    {
     "name": "stdout",
     "output_type": "stream",
     "text": [
      "twinkle twinkle is of Type  <class 'str'>\n",
      "-------------------------------\n",
      "5 is of Type  <class 'int'>\n",
      "5.0 is of Type  <class 'float'>\n",
      "(2+4j) is of Type  <class 'complex'>\n",
      "-------------------------------\n",
      "[1, 2, 3, 4] is of Type  <class 'list'>\n",
      "(1, 2, 3, 4) is of Type  <class 'tuple'>\n",
      "range(0, 5) is of Type  <class 'range'>\n",
      "-------------------------------\n",
      "{'name': 'John', 'age': 36} is of Type  <class 'dict'>\n",
      "-------------------------------\n",
      "{'banana', 'cherry', 'apple'} is of Type  <class 'set'>\n",
      "frozenset({'banana', 'cherry', 'apple'}) is of Type  <class 'frozenset'>\n",
      "-------------------------------\n",
      "True is of Type  <class 'bool'>\n",
      "-------------------------------\n",
      "b'Hello' is of type  <class 'bytes'>\n",
      "bytearray(b'\\x00\\x00\\x00\\x00\\x00') is of type  <class 'bytearray'>\n",
      "-------------------------------\n"
     ]
    }
   ],
   "source": [
    "# Text/string type\n",
    "poem = \"twinkle twinkle\"\n",
    "print(poem , \"is of Type \", type(poem))\n",
    "\n",
    "print(\"-------------------------------\")\n",
    "# Numeric type\n",
    "a = 5\n",
    "print(a ,\"is of Type \", type(a))\n",
    " \n",
    "b = 5.0\n",
    "print(b ,\"is of Type \", type(b))\n",
    " \n",
    "c = 2 + 4j\n",
    "print(c ,\"is of Type \",type(c))\n",
    "print(\"-------------------------------\")\n",
    "#sequence type\n",
    "\n",
    "vlist = [1,2,3,4]\n",
    "print( vlist  ,\"is of Type \",type(vlist))\n",
    "\n",
    "vtup = (1,2,3,4)\n",
    "print(vtup  ,\"is of Type \",type(vtup))\n",
    "\n",
    "firing = range(5)\n",
    "print(firing  ,\"is of Type \",type(firing))\n",
    "\n",
    "print(\"-------------------------------\")\n",
    "# Mapping type\n",
    "\n",
    "userid =  {\"name\" : \"John\", \"age\" : 36}\n",
    "print(userid  ,\"is of Type \",type(userid))\n",
    "\n",
    "\n",
    "print(\"-------------------------------\")\n",
    "# Set type\n",
    "shoppinglist = {\"apple\", \"banana\", \"cherry\"}\n",
    "print(shoppinglist  ,\"is of Type \",type(shoppinglist))\n",
    "\n",
    "fixshop = frozenset({\"apple\", \"banana\", \"cherry\"})\n",
    "print(fixshop,\"is of Type \",type(fixshop))\n",
    "\n",
    "print(\"-------------------------------\")\n",
    "# Boolean type\n",
    "\n",
    "firewall_active = True\n",
    "print(firewall_active,\"is of Type \",type(firewall_active))\n",
    "\n",
    "\n",
    "print(\"-------------------------------\")\n",
    "# Binary Type\n",
    "\n",
    "bitss = b\"Hello\"\n",
    "print( bitss , \"is of type \", type(bitss))\n",
    "\n",
    "bitarray = bytearray(5)\n",
    "print(bitarray, \"is of type \", type(bitarray )  )\n",
    "\n",
    "\n",
    "\n",
    "print(\"-------------------------------\")"
   ]
  },
  {
   "cell_type": "code",
   "execution_count": null,
   "id": "7531e3d5",
   "metadata": {},
   "outputs": [],
   "source": []
  },
  {
   "cell_type": "code",
   "execution_count": null,
   "id": "c0f708aa",
   "metadata": {},
   "outputs": [],
   "source": []
  }
 ],
 "metadata": {
  "kernelspec": {
   "display_name": "Python 3",
   "language": "python",
   "name": "python3"
  },
  "language_info": {
   "codemirror_mode": {
    "name": "ipython",
    "version": 3
   },
   "file_extension": ".py",
   "mimetype": "text/x-python",
   "name": "python",
   "nbconvert_exporter": "python",
   "pygments_lexer": "ipython3",
   "version": "3.8.8"
  }
 },
 "nbformat": 4,
 "nbformat_minor": 5
}
