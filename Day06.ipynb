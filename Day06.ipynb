{
 "cells": [
  {
   "cell_type": "markdown",
   "id": "e61d90d6",
   "metadata": {},
   "source": [
    "## Question 1 :\n",
    "Assuming that we have some email addresses in the \"username@companyname.com\" format, please\n",
    "write a program to print the company name of a given email address. Both user names and company names are composed of letters only.\n",
    "\n",
    "**Input Format:**\n",
    "The first line of the input contains an email address.\n",
    "\n",
    "**Output Format:**\n",
    "Print the company name in a single line.\n",
    "\n",
    "**Example;**\n",
    "\n",
    "**Input:**\n",
    "john@google.com\n",
    "\n",
    "**Output:**\n",
    "google.\n",
    "\n",
    "\n",
    "\n"
   ]
  },
  {
   "cell_type": "code",
   "execution_count": 2,
   "id": "4a1a964e",
   "metadata": {},
   "outputs": [
    {
     "name": "stdout",
     "output_type": "stream",
     "text": [
      "Enter the email address: ashokSaini@google.com\n",
      "Company name:  google\n",
      "<class 'str'>\n"
     ]
    }
   ],
   "source": [
    "def companyname_in_mail(x):\n",
    "    name = x.split('@')[1].split('.')[0]\n",
    "    print(\"Company name: \",name)\n",
    "    print(type(name))\n",
    "    \n",
    "email = input(\"Enter the email address: \")\n",
    "companyname_in_mail(email)"
   ]
  },
  {
   "cell_type": "markdown",
   "id": "1553a13c",
   "metadata": {},
   "source": [
    "\n",
    "\n",
    "## Question 2 :\n",
    "### Write a program that accepts a comma-separated sequence of words as input and prints the words in a comma-separated sequence after sorting them alphabetically.\n",
    "\n",
    "**Input Format:**\n",
    "The first line of input contains words separated by the comma.\n",
    "\n",
    "**Output Format**:\n",
    "Print the sorted words separated by the comma.\n",
    "\n",
    "**Example:**\n",
    "\n",
    "**Input:**\n",
    "without,hello,bag,world\n",
    "\n",
    "**Output:**\n",
    "bag,hello,without,world\n",
    "\n"
   ]
  },
  {
   "cell_type": "code",
   "execution_count": 12,
   "id": "74ee6204",
   "metadata": {},
   "outputs": [
    {
     "name": "stdout",
     "output_type": "stream",
     "text": [
      "Enter a comma-separated sequence:xmas, zebra, lion, monkey, apes, fish, monkey, lion, cat\n",
      "sorted list :  apes, cat, fish, lion, lion, monkey, monkey, zebra,xmas\n"
     ]
    }
   ],
   "source": [
    "y = input('Enter a comma-separated sequence:').split(',')\n",
    "y1 = sorted(y)\n",
    "sorted_str = (\",\").join(y1)\n",
    "print(\"sorted list :\",str(sorted_str))"
   ]
  },
  {
   "cell_type": "markdown",
   "id": "216cdc46",
   "metadata": {},
   "source": [
    "## Question 3:\n",
    "### Create your own Jupyter Notebook for Sets. Reference link:\n",
    "### https://www.w3schools.com/python/python_sets.asp\n",
    "\n",
    "\n",
    "\n"
   ]
  },
  {
   "cell_type": "markdown",
   "id": "85507ea6",
   "metadata": {},
   "source": [
    "__[My sets notebook ](https://github.com/45hook/-LetsUpgrade-AI-ML/blob/main/Day06%20sets%20notes.ipynb)__"
   ]
  },
  {
   "cell_type": "markdown",
   "id": "2886a591",
   "metadata": {},
   "source": [
    "## Question 4:\n",
    "### Given a list of n-1 numbers ranging from 1 to n, your task is to find the missing number. There are no duplicates.\n",
    "**Input Format:**\n",
    "The first line contains n-1 numbers with each number separated by a space.\n",
    "**Output Format:**\n",
    "Print the missing number\n",
    "\n",
    "**Example:**\n",
    "Input:\n",
    "1 2 4 6 3 7 8\n",
    "Output:\n",
    "5\n",
    "\n",
    "**Explanation:**\n",
    "In the above list of numbers 5 is missing and hence 5 is the inputQuestion 4:\n",
    "Given a list of n-1 numbers ranging from 1 to n, your task is to find the missing number. There are no\n",
    "duplicates.\n",
    "\n",
    "**Input Format:**\n",
    "The first line contains n-1 numbers with each number separated by a space.\n",
    "\n",
    "**Output Format:**\n",
    "Print the missing number\n",
    "\n",
    "**Example:**\n",
    "\n",
    "Input:\n",
    "1 2 4 6 3 7 8\n",
    "\n",
    "Output:\n",
    "5\n",
    "\n",
    "**Explanation:**\n",
    "In the above list of numbers 5 is missing and hence 5 is the input\n",
    "\n",
    "\n",
    "\n"
   ]
  },
  {
   "cell_type": "code",
   "execution_count": 45,
   "id": "d6ffe8f0",
   "metadata": {},
   "outputs": [
    {
     "name": "stdout",
     "output_type": "stream",
     "text": [
      "enter numbers sequence seprated by spaces:1 2 3 4 5 7 8\n",
      "Missing No :  6\n"
     ]
    }
   ],
   "source": [
    "\n",
    "list1 = input(\"enter numbers sequence seprated by spaces:\").split(\" \")\n",
    "list1 = [int(i) for i in list1]\n",
    "\n",
    "pointer=1\n",
    "while pointer<(len(list1)+1):\n",
    "    if pointer in list1:\n",
    "        pointer=pointer+1\n",
    "        continue\n",
    "    else:\n",
    "        print(\"Missing No : \" , pointer)\n",
    "        break\n"
   ]
  },
  {
   "cell_type": "markdown",
   "id": "5325bdfb",
   "metadata": {},
   "source": [
    "## Question 5:\n",
    "**With a given list L, write a program to print this list L after removing all duplicate values with original order reserved.**\n",
    "\n",
    "**Example:**\n",
    "\n",
    "If the input list is\n",
    "12 24 35 24 88 120 155 88 120 155\n",
    "\n",
    "Then the output should be\n",
    "12 24 35 88 120 155\n",
    "\n",
    "**Explanation:**\n",
    "\n",
    "Third, the seventh and ninth element of the list L has been removed because it was already present.\n",
    "\n",
    "Input Format:\n",
    "In one line take the elements of the list L with each element separated by a space.\n",
    "\n",
    "Output Format:\n",
    "Print the elements of the modified list in one line with each element separated by a space.\n",
    "\n",
    "**Example:**\n",
    "\n",
    "Input:\n",
    "12 24 35 24\n",
    "\n",
    "Output:\n",
    "12 24 35"
   ]
  },
  {
   "cell_type": "code",
   "execution_count": 46,
   "id": "dd1c6f0d",
   "metadata": {},
   "outputs": [
    {
     "name": "stdout",
     "output_type": "stream",
     "text": [
      "Enter any numbers seperated by spaces also some duplicates:9 8 7 6 5 6 7 8 9\n",
      "Filtered List :  [9, 8, 7, 6, 5]\n"
     ]
    }
   ],
   "source": [
    "test_list = input('Enter any numbers seperated by spaces also some duplicates:')\n",
    "test_list = [int(x) for x in test_list.split(\" \")]\n",
    "res=[]\n",
    "for i in test_list: #original order reserved\n",
    "    if i not in res: # filtering duplicaate values\n",
    "        res.append(i) \n",
    "print(\"Filtered List : \",res)"
   ]
  },
  {
   "cell_type": "code",
   "execution_count": null,
   "id": "01476e4e",
   "metadata": {},
   "outputs": [],
   "source": []
  }
 ],
 "metadata": {
  "kernelspec": {
   "display_name": "Python 3",
   "language": "python",
   "name": "python3"
  },
  "language_info": {
   "codemirror_mode": {
    "name": "ipython",
    "version": 3
   },
   "file_extension": ".py",
   "mimetype": "text/x-python",
   "name": "python",
   "nbconvert_exporter": "python",
   "pygments_lexer": "ipython3",
   "version": "3.8.8"
  }
 },
 "nbformat": 4,
 "nbformat_minor": 5
}
