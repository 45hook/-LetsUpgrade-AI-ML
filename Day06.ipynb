{
 "cells": [
  {
   "cell_type": "markdown",
   "id": "e61d90d6",
   "metadata": {},
   "source": [
    "## Question 1 :\n",
    "### Assuming that we have some email addresses in the \"username@companyname.com\" format, please\n",
    "### write a program to print the company name of a given email address. Both user names and company names are composed of letters only.\n",
    "\n",
    "### Input Format:\n",
    "### The first line of the input contains an email address.\n",
    "### Output Format:\n",
    "### Print the company name in a single line.\n",
    "\n",
    "### Example;\n",
    "### Input:\n",
    "### john@google.com\n",
    "### Output:\n",
    "### google.\n",
    "\n",
    "\n",
    "\n"
   ]
  },
  {
   "cell_type": "code",
   "execution_count": null,
   "id": "4a1a964e",
   "metadata": {},
   "outputs": [],
   "source": []
  },
  {
   "cell_type": "markdown",
   "id": "1553a13c",
   "metadata": {},
   "source": [
    "\n",
    "\n",
    "## Question 2 :\n",
    "### Write a program that accepts a comma-separated sequence of words as input and prints the words in a comma-separated sequence after sorting them alphabetically.\n",
    "### Input Format:\n",
    "### The first line of input contains words separated by the comma.\n",
    "### Output Format:\n",
    "### Print the sorted words separated by the comma.\n",
    "### Example:\n",
    "### Input:\n",
    "### without,hello,bag,world\n",
    "### Output:\n",
    "### bag,hello,without,world\n",
    "\n"
   ]
  },
  {
   "cell_type": "code",
   "execution_count": null,
   "id": "74ee6204",
   "metadata": {},
   "outputs": [],
   "source": [
    "\n",
    "\n",
    "\n"
   ]
  },
  {
   "cell_type": "markdown",
   "id": "216cdc46",
   "metadata": {},
   "source": [
    "## Question 3:\n",
    "### Create your own Jupyter Notebook for Sets. Reference link:\n",
    "### https://www.w3schools.com/python/python_sets.asp\n",
    "\n",
    "\n",
    "\n"
   ]
  },
  {
   "cell_type": "code",
   "execution_count": null,
   "id": "5faf5a38",
   "metadata": {},
   "outputs": [],
   "source": []
  },
  {
   "cell_type": "code",
   "execution_count": null,
   "id": "ce04301c",
   "metadata": {},
   "outputs": [],
   "source": []
  },
  {
   "cell_type": "markdown",
   "id": "2886a591",
   "metadata": {},
   "source": [
    "## Question 4:\n",
    "### Given a list of n-1 numbers ranging from 1 to n, your task is to find the missing number. There are no duplicates.\n",
    "### Input Format:\n",
    "The first line contains n-1 numbers with each number separated by a space.\n",
    "Output Format:\n",
    "Print the missing number\n",
    "### Example:\n",
    "Input:\n",
    "1 2 4 6 3 7 8\n",
    "Output:\n",
    "5\n",
    "### Explanation:\n",
    "In the above list of numbers 5 is missing and hence 5 is the inputQuestion 4:\n",
    "Given a list of n-1 numbers ranging from 1 to n, your task is to find the missing number. There are no\n",
    "duplicates.\n",
    "### Input Format:\n",
    "The first line contains n-1 numbers with each number separated by a space.\n",
    "Output Format:\n",
    "Print the missing number\n",
    "Example:\n",
    "Input:\n",
    "1 2 4 6 3 7 8\n",
    "Output:\n",
    "5\n",
    "### Explanation:\n",
    "In the above list of numbers 5 is missing and hence 5 is the input\n",
    "\n",
    "\n",
    "\n"
   ]
  },
  {
   "cell_type": "code",
   "execution_count": null,
   "id": "d6ffe8f0",
   "metadata": {},
   "outputs": [],
   "source": []
  },
  {
   "cell_type": "markdown",
   "id": "5325bdfb",
   "metadata": {},
   "source": [
    "## Question 5:\n",
    "### With a given list L, write a program to print this list L after removing all duplicate values with original order reserved.\n",
    "### Example:\n",
    "If the input list is\n",
    "12 24 35 24 88 120 155 88 120 155\n",
    "Then the output should be\n",
    "12 24 35 88 120 155\n",
    "### Explanation:\n",
    "Third, the seventh and ninth element of the list L has been removed because it was already present.\n",
    "Input Format:\n",
    "In one line take the elements of the list L with each element separated by a space.\n",
    "Output Format:\n",
    "Print the elements of the modified list in one line with each element separated by a space.\n",
    "### Example:\n",
    "Input:\n",
    "12 24 35 24\n",
    "Output:\n",
    "12 24 35\n",
    "\n",
    "\n",
    "\n"
   ]
  },
  {
   "cell_type": "code",
   "execution_count": null,
   "id": "dd1c6f0d",
   "metadata": {},
   "outputs": [],
   "source": []
  },
  {
   "cell_type": "code",
   "execution_count": null,
   "id": "96a0725d",
   "metadata": {},
   "outputs": [],
   "source": []
  },
  {
   "cell_type": "markdown",
   "id": "d40bbeb8",
   "metadata": {},
   "source": [
    "\n",
    "\n",
    "\n",
    "\n"
   ]
  },
  {
   "cell_type": "code",
   "execution_count": null,
   "id": "b02f3c72",
   "metadata": {},
   "outputs": [],
   "source": []
  }
 ],
 "metadata": {
  "kernelspec": {
   "display_name": "Python 3",
   "language": "python",
   "name": "python3"
  },
  "language_info": {
   "codemirror_mode": {
    "name": "ipython",
    "version": 3
   },
   "file_extension": ".py",
   "mimetype": "text/x-python",
   "name": "python",
   "nbconvert_exporter": "python",
   "pygments_lexer": "ipython3",
   "version": "3.8.8"
  }
 },
 "nbformat": 4,
 "nbformat_minor": 5
}
