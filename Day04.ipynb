{
 "cells": [
  {
   "cell_type": "markdown",
   "id": "f2921ddf",
   "metadata": {},
   "source": [
    "\n",
    "# Day 4 Assignment\n"
   ]
  },
  {
   "cell_type": "markdown",
   "id": "c96d68b2",
   "metadata": {},
   "source": [
    "\n",
    "## Question 1 :\n",
    "### Research on whether addition, subtraction, multiplication, division, floor division, and modulo operations be performed on complex numbers. Based on your study, implement a Python program to demonstrate these operations.\n",
    "            "
   ]
  },
  {
   "cell_type": "code",
   "execution_count": 4,
   "id": "11020eec",
   "metadata": {},
   "outputs": [
    {
     "name": "stdout",
     "output_type": "stream",
     "text": [
      "Addition of the Two Complex Number is (7+11j)\n",
      "Substraction of the Two Complex Number is (1+3j)\n",
      "Multiplication of the Two Complex Number is (-16+37j)\n",
      "Division of the Two Complex Number is (1.6+0.2j)\n"
     ]
    }
   ],
   "source": [
    "# complex numbers\n",
    "c1=4+7j\n",
    "c2=3+4j\n",
    "\n",
    "# mathematical operations\n",
    "add= c1+c2\n",
    "sub= c1-c2\n",
    "mul= c1*c2\n",
    "div= c1/c2\n",
    "\n",
    "print(\"Addition of the Two Complex Number is\", add)\n",
    "print(\"Substraction of the Two Complex Number is\", sub)\n",
    "print(\"Multiplication of the Two Complex Number is\", mul)\n",
    "print(\"Division of the Two Complex Number is\", div)"
   ]
  },
  {
   "cell_type": "markdown",
   "id": "8acf2bab",
   "metadata": {},
   "source": [
    "\n",
    "#### The Modulo and Floor-Division can't be performed on the Complex Number, without using Advance methods\n"
   ]
  },
  {
   "cell_type": "markdown",
   "id": "ac5c6322",
   "metadata": {},
   "source": [
    "\n",
    "\n",
    "##   Question 2 :\n",
    "### Research on range() functions and its parameters. Create a markdown cell and write in your own words(no copy-paste from google please) what you understand about it. Implement a small program of your choice on the same.\n",
    "    \n"
   ]
  },
  {
   "cell_type": "markdown",
   "id": "fc8150fa",
   "metadata": {},
   "source": [
    "## range(start, stop, Step)\n",
    "\n",
    ">it is a inbuilt python Function<br>\n",
    ">It requires 3 parameters : Start, Stop, Step<br>\n",
    ">It generates numbers based on a the parameters given.<br>\n",
    ">if only one value is passed it is considered as stop parameter<br>\n",
    ">mostly used in looping\n",
    "\n",
    "#### start\n",
    "(optional parameter- default -> 0) > starting point for range , default 0 starting point.\n",
    "\n",
    "#### stop  \n",
    "(required parameter) > stop point for range , this no is non-inclusve in generated list,(eg , range(n) will generate (0,1,...,n-1) \n",
    "\n",
    "#### step parameter\n",
    "(optional parameter -Default-> 1) > it means that by what value you want the loop to increment\n",
    "for example : range(1,8,2): the loop starts from 1 and goes till 7 and output would be : 1 3 5 7 \n",
    "\n"
   ]
  },
  {
   "cell_type": "code",
   "execution_count": 1,
   "id": "6ec5cddc",
   "metadata": {},
   "outputs": [
    {
     "name": "stdout",
     "output_type": "stream",
     "text": [
      "11 22 33 44 55 66 77 88 99 110 "
     ]
    }
   ],
   "source": [
    "a= range(11,111 , 11)\n",
    "for i in a:\n",
    "    print(i,end=\" \")"
   ]
  },
  {
   "cell_type": "code",
   "execution_count": 2,
   "id": "74758425",
   "metadata": {},
   "outputs": [
    {
     "name": "stdout",
     "output_type": "stream",
     "text": [
      "range(0, 11)\n"
     ]
    }
   ],
   "source": [
    "range2 = range(11)\n",
    "print(range2)"
   ]
  },
  {
   "cell_type": "code",
   "execution_count": 3,
   "id": "34fcadf4",
   "metadata": {},
   "outputs": [
    {
     "name": "stdout",
     "output_type": "stream",
     "text": [
      "0 1 2 3 4 5 6 7 8 9 10 "
     ]
    }
   ],
   "source": [
    "for i in range2:\n",
    "    print(i,end=\" \")"
   ]
  },
  {
   "cell_type": "markdown",
   "id": "6addff74",
   "metadata": {},
   "source": [
    "\n",
    "## Question 3:\n",
    "### Consider two numbers. Perform their subtraction and if the result of subtraction is greater than 25, print their multiplication result else print their division result.\n",
    "\n",
    "    "
   ]
  },
  {
   "cell_type": "code",
   "execution_count": 5,
   "id": "0467824b",
   "metadata": {},
   "outputs": [
    {
     "name": "stdout",
     "output_type": "stream",
     "text": [
      "Enter a Number: \n"
     ]
    },
    {
     "ename": "ValueError",
     "evalue": "invalid literal for int() with base 10: ''",
     "output_type": "error",
     "traceback": [
      "\u001b[0;31m---------------------------------------------------------------------------\u001b[0m",
      "\u001b[0;31mValueError\u001b[0m                                Traceback (most recent call last)",
      "\u001b[0;32m<ipython-input-5-12d057f3a828>\u001b[0m in \u001b[0;36m<module>\u001b[0;34m\u001b[0m\n\u001b[0;32m----> 1\u001b[0;31m \u001b[0mnum1\u001b[0m \u001b[0;34m=\u001b[0m \u001b[0mint\u001b[0m\u001b[0;34m(\u001b[0m\u001b[0minput\u001b[0m\u001b[0;34m(\u001b[0m\u001b[0;34m\"Enter a Number: \"\u001b[0m\u001b[0;34m)\u001b[0m\u001b[0;34m)\u001b[0m\u001b[0;34m\u001b[0m\u001b[0;34m\u001b[0m\u001b[0m\n\u001b[0m\u001b[1;32m      2\u001b[0m \u001b[0mnum2\u001b[0m \u001b[0;34m=\u001b[0m \u001b[0mint\u001b[0m\u001b[0;34m(\u001b[0m\u001b[0minput\u001b[0m\u001b[0;34m(\u001b[0m\u001b[0;34m\"Enter another Number: \"\u001b[0m\u001b[0;34m)\u001b[0m\u001b[0;34m)\u001b[0m\u001b[0;34m\u001b[0m\u001b[0;34m\u001b[0m\u001b[0m\n\u001b[1;32m      3\u001b[0m \u001b[0;34m\u001b[0m\u001b[0m\n\u001b[1;32m      4\u001b[0m \u001b[0mresult\u001b[0m \u001b[0;34m=\u001b[0m \u001b[0mnum1\u001b[0m \u001b[0;34m-\u001b[0m \u001b[0mnum2\u001b[0m\u001b[0;34m\u001b[0m\u001b[0;34m\u001b[0m\u001b[0m\n\u001b[1;32m      5\u001b[0m \u001b[0;32mif\u001b[0m \u001b[0mresult\u001b[0m \u001b[0;34m>\u001b[0m \u001b[0;36m25\u001b[0m\u001b[0;34m:\u001b[0m\u001b[0;34m\u001b[0m\u001b[0;34m\u001b[0m\u001b[0m\n",
      "\u001b[0;31mValueError\u001b[0m: invalid literal for int() with base 10: ''"
     ]
    }
   ],
   "source": [
    "num1 = int(input(\"Enter a Number: \"))\n",
    "num2 = int(input(\"Enter another Number: \"))\n",
    "\n",
    "result = num1 - num2 \n",
    "if result > 25:\n",
    "    print(\"Their substraction is not less than 25\") \n",
    "    print(\"Their Multiplication result : \",num1 * num2)\n",
    "else:\n",
    "    print(\"Their substraction is less than 25\")\n",
    "    print(\"Their Division result when result of \",num1 / num2)"
   ]
  },
  {
   "cell_type": "markdown",
   "id": "6c8dea74",
   "metadata": {},
   "source": [
    "<div class=\"alert alert-block alert-warning\">\n",
    "    Question 4:<br>\n",
    "Consider a list of 10 elements of integer values. If the number in the list is divisible by 2, print the result as\n",
    "\"square of that number minus 2\".</div>"
   ]
  },
  {
   "cell_type": "code",
   "execution_count": 6,
   "id": "a4a17ce5",
   "metadata": {},
   "outputs": [
    {
     "name": "stdout",
     "output_type": "stream",
     "text": [
      "Enter the starting point for the list\n",
      "\n",
      "2\n",
      "square of even numbers in this list minus 2\n",
      "2\n",
      "14\n",
      "34\n",
      "62\n",
      "98\n",
      "142\n"
     ]
    }
   ],
   "source": [
    "print(\"Enter the starting point for the list\\n\")\n",
    "startingpoint = int(input())\n",
    "\n",
    "print(\"square of even numbers in this list minus 2\")\n",
    "for i in range(startingpoint, startingpoint+11):\n",
    "    if i%2 == 0 :\n",
    "        print((i**2) - 2)"
   ]
  },
  {
   "cell_type": "code",
   "execution_count": null,
   "id": "febb0c65",
   "metadata": {},
   "outputs": [],
   "source": []
  },
  {
   "cell_type": "markdown",
   "id": "eae2d2c3",
   "metadata": {},
   "source": [
    "\n",
    "## Question 5:\n",
    "### Consider a list of 10 elements. Print all the elements in the list which are greater than 7 when that number is divided 2."
   ]
  },
  {
   "cell_type": "code",
   "execution_count": 7,
   "id": "e519be81",
   "metadata": {},
   "outputs": [
    {
     "name": "stdout",
     "output_type": "stream",
     "text": [
      "28\n",
      "96\n",
      "15\n",
      "55\n",
      "87\n",
      "56\n"
     ]
    }
   ],
   "source": [
    "a=(13,28,96,7,15,55,87,12,4,56,2)\n",
    "for i in a:\n",
    "    if i/2>7:\n",
    "        print(i)"
   ]
  },
  {
   "cell_type": "code",
   "execution_count": null,
   "id": "7c1a7594",
   "metadata": {},
   "outputs": [],
   "source": []
  }
 ],
 "metadata": {
  "kernelspec": {
   "display_name": "Python 3",
   "language": "python",
   "name": "python3"
  },
  "language_info": {
   "codemirror_mode": {
    "name": "ipython",
    "version": 3
   },
   "file_extension": ".py",
   "mimetype": "text/x-python",
   "name": "python",
   "nbconvert_exporter": "python",
   "pygments_lexer": "ipython3",
   "version": "3.8.8"
  }
 },
 "nbformat": 4,
 "nbformat_minor": 5
}
