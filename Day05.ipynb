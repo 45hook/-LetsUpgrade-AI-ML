{
 "cells": [
  {
   "cell_type": "markdown",
   "id": "5b046f4b",
   "metadata": {},
   "source": [
    "## Question 1 :\n",
    "\n",
    "### Write a Python program to find the first 20 non-even prime natural numbers."
   ]
  },
  {
   "cell_type": "code",
   "execution_count": 30,
   "id": "7067601a",
   "metadata": {},
   "outputs": [
    {
     "name": "stdout",
     "output_type": "stream",
     "text": [
      "[3, 5, 7, 11, 13, 17, 19, 23, 29, 31, 37, 41, 43, 47, 53, 59, 61, 67, 71, 73]\n"
     ]
    }
   ],
   "source": [
    "prime=[]\n",
    "num=3\n",
    "while(len(prime)<20): \n",
    "    for i in range(2,num):\n",
    "        if (num % i) == 0:\n",
    "            break\n",
    "    else:\n",
    "        prime.append(num)\n",
    "    num+=1\n",
    "print(prime)    "
   ]
  },
  {
   "cell_type": "markdown",
   "id": "4b90e3d5",
   "metadata": {},
   "source": [
    "### Question 2 :\n",
    "### Write a Python program to implement 15 functions of string."
   ]
  },
  {
   "cell_type": "code",
   "execution_count": 74,
   "id": "1e1ed564",
   "metadata": {},
   "outputs": [
    {
     "name": "stdout",
     "output_type": "stream",
     "text": [
      "MY NAME ISS CHIKA CHIKA SLIM SHADY\n",
      "y\n",
      " \n",
      "56\n",
      "CHIKA CHIKA SLIM SHADY\n",
      "my Name iss chika chika slim shady\n",
      "My name iss chika chika slim shady\n",
      "my Name iss chika chika slim shady\n",
      "3\n",
      "False\n",
      "9\n",
      "29\n",
      "False\n",
      "my name iss chika chika slim shady\n",
      "idhar udhar gap in string     \n",
      "     idhar udhar gap in string\n",
      "True\n"
     ]
    }
   ],
   "source": [
    "str=\"my Name iss chika chika slim shady\"\n",
    "\n",
    "print(str.upper())\n",
    "print(max(str))\n",
    "print(min(str1))\n",
    "print(len(str+str1))\n",
    "print(str1.swapcase())\n",
    "\n",
    "print(str.replace('A','M',))\n",
    "print(str.capitalize() )    #       Converts the first character to upper case\n",
    "print(str.center(20))       #           Returns a centered string\n",
    "print(str.count(\"h\"))       #      Returns the number of times a specified value occurs in a string\n",
    "print(str.endswith(\".\"))    #    Returns true if the string ends with the specified value\n",
    "\n",
    "print(str.find(\"s\"))        # Searches the string for a specified value and returns the position of where it was found\n",
    "print(str.index(\"shady\"))              #  Searches the string for a specified value and returns the position of where it was fou\n",
    "print(str.isalpha())        # Returns True if all characters in the string are in the alphabet\n",
    "print(str.lower())          # Converts a string into lower case\n",
    "\n",
    "\n",
    "gaptxt = \"     idhar udhar gap in string     \"  \n",
    "print(gaptxt.lstrip())      # Returns a left trim version of the string\n",
    "print(gaptxt.rstrip())      #   Returns a right trim version of the string\n",
    "print(gaptxt.islower())        #     Returns True if all characters in the string are lower case)print() "
   ]
  },
  {
   "cell_type": "markdown",
   "id": "437dd2eb",
   "metadata": {},
   "source": [
    "## Question 3:\n",
    "### Write a Python program to check if the given string is a Palindrome or Anagram or None of them.\n",
    "### Display the message accordingly to the user."
   ]
  },
  {
   "cell_type": "code",
   "execution_count": 82,
   "id": "508c3eba",
   "metadata": {},
   "outputs": [
    {
     "name": "stdout",
     "output_type": "stream",
     "text": [
      "Enter First String   : dad\n",
      "Enter Second String  : add\n",
      "dad is Palindrome\n",
      "They are anagram\n"
     ]
    }
   ],
   "source": [
    "word1=input( \"Enter First String   : \")\n",
    "word2=input(\"Enter Second String  : \")\n",
    "\n",
    "if word1==word1[::-1]:\n",
    "    print(word1,\"is Palindrome\")\n",
    "if word2==word2[::-1]:\n",
    "    print(word2,\"is Palindrome\")\n",
    "    \n",
    "else:\n",
    "    if sorted(word1)==sorted(word2):\n",
    "        print(\"They are anagram\")\n",
    "    else:\n",
    "        print(\"None of them\")"
   ]
  },
  {
   "cell_type": "markdown",
   "id": "237a6af9",
   "metadata": {},
   "source": [
    "## Question 4:\n",
    "### Write a Python's user defined function that removes all the additional characters from the string and converts it finally to lower case using built-in lower(). eg: If the string is \"Dr. Darshan Ingle @AI-ML Trainer\", then the output be \"drdarshaningle aimltrainer\"."
   ]
  },
  {
   "cell_type": "code",
   "execution_count": 76,
   "id": "b4d2fe01",
   "metadata": {},
   "outputs": [
    {
     "name": "stdout",
     "output_type": "stream",
     "text": [
      "drdarshaningleaimltrainer\n"
     ]
    }
   ],
   "source": [
    "test_str=\"Dr. Darshan Ingle @AIML Trainer\"\n",
    "result_str=\"\"\n",
    "\n",
    "# picking alpha letter from the given strng\n",
    "for i in test_str:\n",
    "    if i.isalnum():\n",
    "        result_str+=i\n",
    "\n",
    "print(result_str.lower())"
   ]
  },
  {
   "cell_type": "code",
   "execution_count": null,
   "id": "213ce0a2",
   "metadata": {},
   "outputs": [],
   "source": []
  }
 ],
 "metadata": {
  "kernelspec": {
   "display_name": "Python 3",
   "language": "python",
   "name": "python3"
  },
  "language_info": {
   "codemirror_mode": {
    "name": "ipython",
    "version": 3
   },
   "file_extension": ".py",
   "mimetype": "text/x-python",
   "name": "python",
   "nbconvert_exporter": "python",
   "pygments_lexer": "ipython3",
   "version": "3.8.8"
  }
 },
 "nbformat": 4,
 "nbformat_minor": 5
}
