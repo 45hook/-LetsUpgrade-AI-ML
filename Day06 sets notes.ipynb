{
 "cells": [
  {
   "cell_type": "markdown",
   "id": "748c96cc",
   "metadata": {},
   "source": [
    "<h2 align='center'> Ques3. Create own jupyter notebook for Sets </h2>\n",
    "<hr>\n",
    "\n",
    "# Sets"
   ]
  },
  {
   "cell_type": "markdown",
   "id": "a15d0d64",
   "metadata": {},
   "source": [
    "* A set is a collection which is unordered and unindexed\n",
    "* Just like dictionary It is also written in Curly Braces { } "
   ]
  },
  {
   "cell_type": "markdown",
   "id": "13ff7b86",
   "metadata": {},
   "source": [
    "### 1.  Acessing Item \n",
    "\n",
    "* As we cannot access items in a set by referring to an index, since sets are unordered the items has no index \n",
    "* We can access the element in a set by using for loop\n",
    "* Sets are unordered, so We cannot be sure in which order the items will appear."
   ]
  },
  {
   "cell_type": "code",
   "execution_count": 8,
   "id": "86e400a5",
   "metadata": {},
   "outputs": [
    {
     "name": "stdout",
     "output_type": "stream",
     "text": [
      "games\n",
      "black\n",
      "color\n",
      "ashok\n"
     ]
    }
   ],
   "source": [
    "items = {'ashok','games','black','color'}\n",
    "for i in items:\n",
    "    print(i)"
   ]
  },
  {
   "cell_type": "markdown",
   "id": "2e4300d4",
   "metadata": {},
   "source": [
    "### 2. Change Item\n",
    "* Just like Tuple , Once a set is created, you cannot change its items.\n",
    "* But we can add new items \n",
    "<hr>\n",
    "\n",
    "### Adding New item \n",
    "* For **adding single item** to a set use the **add()** method.\n",
    "\n",
    "* For **adding more than one item** to a set use the **update()** method."
   ]
  },
  {
   "cell_type": "code",
   "execution_count": 9,
   "id": "cab23b04",
   "metadata": {},
   "outputs": [
    {
     "name": "stdout",
     "output_type": "stream",
     "text": [
      "SET is:  {'games', 'black', 'color', 'ashok'}\n",
      "Single element added by using add fnction:  {'color', 'and', 'ashok', 'black', 'games'}\n",
      "Multiple elements are added by using update fnction:  {'colors', 'color', 'hates', 'and', 'ashok', 'black', 'games', 'pink'}\n"
     ]
    }
   ],
   "source": [
    "items = {'ashok','games','black','color'}\n",
    "print('SET is: ',items)\n",
    "\n",
    "# add( ) method :\n",
    "items.add('and')\n",
    "print('Single element added by using add fnction: ', items)\n",
    "\n",
    "# update( ) method : \n",
    "items.update(['hates','pink','colors'])\n",
    "print('Multiple elements are added by using update fnction: ', items)"
   ]
  },
  {
   "cell_type": "markdown",
   "id": "3bde8e54",
   "metadata": {},
   "source": [
    "### Methods of Set :\n",
    "* len()\n",
    "* remove()\n",
    "* clear()\n",
    "* pop()\n",
    "* discard()\n",
    "* add()\n",
    "* update()\n",
    "* copy()\n",
    "* difference()\n",
    "* union()\n",
    "* intersection()\n",
    "* symmetric difference()\n",
    "... Etc"
   ]
  },
  {
   "cell_type": "code",
   "execution_count": 10,
   "id": "ec3b291f",
   "metadata": {},
   "outputs": [
    {
     "name": "stdout",
     "output_type": "stream",
     "text": [
      "SET1:  {'colors', 'color', 'play', 'and', 'ashok', 'black', 'games', 'pink'}\n",
      "SET2:  {'colors', 'in', 'ashok', 'dont', 'life', 'any', 'have'}\n",
      "Length of Set1:  8\n",
      "Length of Set2:  7\n"
     ]
    }
   ],
   "source": [
    "set1 = {'black', 'colors', 'ashok', 'pink', 'color', 'play', 'games', 'and'}\n",
    "set2 = {'ashok','dont','have','any','colors','in','life'}\n",
    "print('SET1: ',set1)\n",
    "print('SET2: ',set2)\n",
    "print('Length of Set1: ',len(set1))\n",
    "print('Length of Set2: ', len(set2))"
   ]
  },
  {
   "cell_type": "code",
   "execution_count": 11,
   "id": "2fdd27ba",
   "metadata": {},
   "outputs": [
    {
     "name": "stdout",
     "output_type": "stream",
     "text": [
      "Removing one element from set1: \n",
      "After removing SET1 is:  {'colors', 'color', 'play', 'ashok', 'black', 'games', 'pink'}\n"
     ]
    }
   ],
   "source": [
    "print('Removing one element from set1: ')\n",
    "set1.remove('and')\n",
    "print('After removing SET1 is: ',set1)"
   ]
  },
  {
   "cell_type": "markdown",
   "id": "f29a1b11",
   "metadata": {},
   "source": [
    "* To **remove an item** in a set, you can use **remove() or discard()**\n",
    "* If you use **remove( )** if the item is not in a set , It will **raise an error** .\n",
    "* If you use **discard( )**  if the item is not in a set , It will **not raise an error** .\n"
   ]
  },
  {
   "cell_type": "code",
   "execution_count": 12,
   "id": "7d8e6842",
   "metadata": {},
   "outputs": [
    {
     "name": "stdout",
     "output_type": "stream",
     "text": [
      "SET3:  {'mango', 'cherry', 'apple', 'banana'}\n",
      "Clearing a set: set()\n"
     ]
    }
   ],
   "source": [
    "set3 = {'apple','banana','cherry','mango'}\n",
    "print(\"SET3: \", set3)\n",
    "set3.clear()\n",
    "print('Clearing a set:',set3)"
   ]
  },
  {
   "cell_type": "code",
   "execution_count": 13,
   "id": "7e133d1d",
   "metadata": {},
   "outputs": [
    {
     "name": "stdout",
     "output_type": "stream",
     "text": [
      "Deleting set3:\n",
      "Set Deleted Succesfully\n"
     ]
    }
   ],
   "source": [
    "print('Deleting set3:')\n",
    "del set3\n",
    "print('Set Deleted Succesfully')"
   ]
  },
  {
   "cell_type": "code",
   "execution_count": 14,
   "id": "5d8dd479",
   "metadata": {},
   "outputs": [
    {
     "name": "stdout",
     "output_type": "stream",
     "text": [
      "Join two sets: SET1 and SET2:\n",
      "SET1:  {'colors', 'color', 'play', 'ashok', 'black', 'games', 'pink'}\n",
      "SET2:  {'colors', 'in', 'ashok', 'dont', 'life', 'any', 'have'}\n",
      "After joining two sets:  {'colors', 'color', 'have', 'play', 'in', 'ashok', 'dont', 'life', 'black', 'games', 'any', 'pink'}\n"
     ]
    }
   ],
   "source": [
    "print('Join two sets: SET1 and SET2:')\n",
    "print('SET1: ',set1)\n",
    "print('SET2: ',set2)\n",
    "set3 = set1.union(set2)\n",
    "print('After joining two sets: ', set3)"
   ]
  },
  {
   "cell_type": "markdown",
   "id": "85498a0a",
   "metadata": {},
   "source": [
    "* In a set , No repetiton is allowed (exclude any duplicate items)"
   ]
  },
  {
   "cell_type": "code",
   "execution_count": 15,
   "id": "119c7ed9",
   "metadata": {},
   "outputs": [
    {
     "name": "stdout",
     "output_type": "stream",
     "text": [
      "Checking the Common/Duplicate Items: \n",
      "Intersection of sets: {'colors', 'ashok'}\n"
     ]
    }
   ],
   "source": [
    "print('Checking the Common/Duplicate Items: ')\n",
    "seta = set1.intersection(set2)\n",
    "print('Intersection of sets:', seta)"
   ]
  },
  {
   "cell_type": "code",
   "execution_count": null,
   "id": "d0589548",
   "metadata": {},
   "outputs": [],
   "source": []
  },
  {
   "cell_type": "code",
   "execution_count": null,
   "id": "2e2be6e7",
   "metadata": {},
   "outputs": [],
   "source": []
  }
 ],
 "metadata": {
  "kernelspec": {
   "display_name": "Python 3",
   "language": "python",
   "name": "python3"
  },
  "language_info": {
   "codemirror_mode": {
    "name": "ipython",
    "version": 3
   },
   "file_extension": ".py",
   "mimetype": "text/x-python",
   "name": "python",
   "nbconvert_exporter": "python",
   "pygments_lexer": "ipython3",
   "version": "3.8.8"
  }
 },
 "nbformat": 4,
 "nbformat_minor": 5
}
