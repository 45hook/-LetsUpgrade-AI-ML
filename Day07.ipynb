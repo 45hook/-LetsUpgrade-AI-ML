{
 "cells": [
  {
   "cell_type": "markdown",
   "id": "f2c830bd",
   "metadata": {},
   "source": [
    "## Question 1:\n",
    "**Write a program to copy the contents of one file to another using a for loop. (Don’t use built-in copy\n",
    "function)**\n",
    "\n"
   ]
  },
  {
   "cell_type": "code",
   "execution_count": 8,
   "id": "a08aaa81",
   "metadata": {},
   "outputs": [],
   "source": [
    "a= open (\"register.txt\",'w')\n",
    "a.write(\"3000 received\")\n",
    "a.close()\n",
    "\n",
    "b= open (\"logs.txt\",'w')\n",
    "b.write(\" \")\n",
    "b.close()\n",
    "\n",
    "a= open (\"register.txt\") \n",
    "b= open (\"logs.txt\",'a') \n",
    "for lines in a:\n",
    "    b.write(lines)\n",
    "a.close()\n",
    "b.close()"
   ]
  },
  {
   "cell_type": "markdown",
   "id": "bc04cb12",
   "metadata": {},
   "source": [
    "## Question 2:\n",
    "**Write a Python program to find maximum and minimum values in the dictionary. Do not use built-in min\n",
    "and max functions.**"
   ]
  },
  {
   "cell_type": "code",
   "execution_count": 4,
   "id": "43e055f1",
   "metadata": {},
   "outputs": [
    {
     "name": "stdout",
     "output_type": "stream",
     "text": [
      "The Minimum value of dictionary is 5\n",
      "The Maximum value of dictionary is 52\n"
     ]
    }
   ],
   "source": [
    "\n",
    "dic = {'delhi': 23, 'mumbai': 16, 'chennai':52 , 'dehradun': 14, 'etawa':5 }\n",
    "lst = []\n",
    "for y in dic.values():\n",
    "    lst.append(y)\n",
    "\n",
    "lst = sorted(lst)\n",
    "print(f'The Minimum value of dictionary is {lst[0]}')\n",
    "print(f'The Maximum value of dictionary is {lst[-1]}')"
   ]
  }
 ],
 "metadata": {
  "kernelspec": {
   "display_name": "Python 3",
   "language": "python",
   "name": "python3"
  },
  "language_info": {
   "codemirror_mode": {
    "name": "ipython",
    "version": 3
   },
   "file_extension": ".py",
   "mimetype": "text/x-python",
   "name": "python",
   "nbconvert_exporter": "python",
   "pygments_lexer": "ipython3",
   "version": "3.8.8"
  }
 },
 "nbformat": 4,
 "nbformat_minor": 5
}
