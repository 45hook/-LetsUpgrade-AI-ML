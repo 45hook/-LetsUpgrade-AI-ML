{
 "cells": [
  {
   "cell_type": "markdown",
   "metadata": {
    "id": "7XbMWGR-e1IF"
   },
   "source": [
    "# ***Project 4 - Twitter Sentiment Analyser***"
   ]
  },
  {
   "cell_type": "code",
   "execution_count": 1,
   "metadata": {
    "colab": {
     "base_uri": "https://localhost:8080/"
    },
    "id": "zoE2CfE7eVNA",
    "outputId": "a707f390-5799-4afd-fccc-c78bf628a0e2"
   },
   "outputs": [
    {
     "name": "stdout",
     "output_type": "stream",
     "text": [
      "Requirement already satisfied: tweepy in /home/fenicx/anaconda3/lib/python3.8/site-packages (3.10.0)\n",
      "Requirement already satisfied: requests[socks]>=2.11.1 in /home/fenicx/anaconda3/lib/python3.8/site-packages (from tweepy) (2.25.1)\n",
      "Requirement already satisfied: six>=1.10.0 in /home/fenicx/anaconda3/lib/python3.8/site-packages (from tweepy) (1.15.0)\n",
      "Requirement already satisfied: requests-oauthlib>=0.7.0 in /home/fenicx/anaconda3/lib/python3.8/site-packages (from tweepy) (1.3.0)\n",
      "Requirement already satisfied: oauthlib>=3.0.0 in /home/fenicx/anaconda3/lib/python3.8/site-packages (from requests-oauthlib>=0.7.0->tweepy) (3.1.1)\n",
      "Requirement already satisfied: chardet<5,>=3.0.2 in /home/fenicx/anaconda3/lib/python3.8/site-packages (from requests[socks]>=2.11.1->tweepy) (4.0.0)\n",
      "Requirement already satisfied: urllib3<1.27,>=1.21.1 in /home/fenicx/anaconda3/lib/python3.8/site-packages (from requests[socks]>=2.11.1->tweepy) (1.26.4)\n",
      "Requirement already satisfied: certifi>=2017.4.17 in /home/fenicx/anaconda3/lib/python3.8/site-packages (from requests[socks]>=2.11.1->tweepy) (2020.12.5)\n",
      "Requirement already satisfied: idna<3,>=2.5 in /home/fenicx/anaconda3/lib/python3.8/site-packages (from requests[socks]>=2.11.1->tweepy) (2.10)\n",
      "Requirement already satisfied: PySocks!=1.5.7,>=1.5.6 in /home/fenicx/anaconda3/lib/python3.8/site-packages (from requests[socks]>=2.11.1->tweepy) (1.7.1)\n",
      "Note: you may need to restart the kernel to use updated packages.\n"
     ]
    }
   ],
   "source": [
    "pip install tweepy"
   ]
  },
  {
   "cell_type": "code",
   "execution_count": 2,
   "metadata": {
    "colab": {
     "base_uri": "https://localhost:8080/"
    },
    "id": "_nKeUaAffCcN",
    "outputId": "69b4da40-49e7-400c-e65b-0ed73475e83b"
   },
   "outputs": [
    {
     "name": "stdout",
     "output_type": "stream",
     "text": [
      "Requirement already satisfied: openpyxl in /home/fenicx/anaconda3/lib/python3.8/site-packages (3.0.7)\n",
      "Requirement already satisfied: et-xmlfile in /home/fenicx/anaconda3/lib/python3.8/site-packages (from openpyxl) (1.0.1)\n",
      "Note: you may need to restart the kernel to use updated packages.\n"
     ]
    }
   ],
   "source": [
    "pip install openpyxl"
   ]
  },
  {
   "cell_type": "code",
   "execution_count": 3,
   "metadata": {
    "id": "IfqJcxmQfcoa"
   },
   "outputs": [],
   "source": [
    "import numpy as np\n",
    "import pandas as pd\n",
    "import tweepy\n",
    "import json\n",
    "from tweepy import OAuthHandler"
   ]
  },
  {
   "cell_type": "code",
   "execution_count": 4,
   "metadata": {
    "id": "4euMhA6Efqbz"
   },
   "outputs": [],
   "source": [
    "consumer_key = \"LzsCOl12ZZ79FObx7BV9a1R3a\"\n",
    "consumer_secret = \"gODxZ1kHJHDGgYfyP12AUN37UTlDd6yn3OsSV9Tl0iwu0K0cRY\"\n",
    "access_token = \"296102538-kYIK8SULCmRK4vgvYD2DhKbwvSXrgTdTkWh0Nvsp\"\n",
    "access_token_secret = \"Ib9obwgcE5tZk4S6tY5rAqI5iXOeJc9FGFg28qHoa4YpP\""
   ]
  },
  {
   "cell_type": "code",
   "execution_count": 5,
   "metadata": {
    "id": "ZZv0imnCgAXY"
   },
   "outputs": [],
   "source": [
    "auth = tweepy.OAuthHandler( consumer_key , consumer_secret )\n",
    "auth.set_access_token( access_token , access_token_secret )\n",
    "api = tweepy.API(auth)"
   ]
  },
  {
   "cell_type": "code",
   "execution_count": 6,
   "metadata": {
    "id": "KkMX4gIegGN2"
   },
   "outputs": [],
   "source": [
    "query = \"corona virus\""
   ]
  },
  {
   "cell_type": "code",
   "execution_count": 7,
   "metadata": {
    "colab": {
     "base_uri": "https://localhost:8080/"
    },
    "id": "qNKwf9pkgJk4",
    "outputId": "34024666-e48d-4e17-b561-cb029a99b113"
   },
   "outputs": [
    {
     "name": "stdout",
     "output_type": "stream",
     "text": [
      "Status(_api=<tweepy.api.API object at 0x7fc9618f0040>, _json={'created_at': 'Wed Jun 30 17:58:52 +0000 2021', 'id': 1410296792420388866, 'id_str': '1410296792420388866', 'full_text': '@H_M_Parker @AlexMorgan1984 Covid hasnt been verified ,isolated , or purified.   And c d c cant even send a sample of the corona virus', 'truncated': False, 'display_text_range': [28, 134], 'entities': {'hashtags': [], 'symbols': [], 'user_mentions': [{'screen_name': 'H_M_Parker', 'name': '♥️ 𝐻𝑒𝑡𝑡𝑖𝑒 ♥️', 'id': 1330433172300046338, 'id_str': '1330433172300046338', 'indices': [0, 11]}, {'screen_name': 'AlexMorgan1984', 'name': 'Alex Morgan', 'id': 483064211, 'id_str': '483064211', 'indices': [12, 27]}], 'urls': []}, 'metadata': {'iso_language_code': 'en', 'result_type': 'recent'}, 'source': '<a href=\"http://twitter.com/download/android\" rel=\"nofollow\">Twitter for Android</a>', 'in_reply_to_status_id': 1410252615875768320, 'in_reply_to_status_id_str': '1410252615875768320', 'in_reply_to_user_id': 1330433172300046338, 'in_reply_to_user_id_str': '1330433172300046338', 'in_reply_to_screen_name': 'H_M_Parker', 'user': {'id': 1337502772778905600, 'id_str': '1337502772778905600', 'name': 'Dillon Dualy', 'screen_name': 'DilonDually', 'location': 'Roanoke, VA', 'description': 'All glory goes to the alpha and omega', 'url': None, 'entities': {'description': {'urls': []}}, 'protected': False, 'followers_count': 191, 'friends_count': 782, 'listed_count': 0, 'created_at': 'Fri Dec 11 21:01:40 +0000 2020', 'favourites_count': 968, 'utc_offset': None, 'time_zone': None, 'geo_enabled': True, 'verified': False, 'statuses_count': 752, 'lang': None, 'contributors_enabled': False, 'is_translator': False, 'is_translation_enabled': False, 'profile_background_color': 'F5F8FA', 'profile_background_image_url': None, 'profile_background_image_url_https': None, 'profile_background_tile': False, 'profile_image_url': 'http://pbs.twimg.com/profile_images/1337503959410483205/46sF8BPJ_normal.jpg', 'profile_image_url_https': 'https://pbs.twimg.com/profile_images/1337503959410483205/46sF8BPJ_normal.jpg', 'profile_banner_url': 'https://pbs.twimg.com/profile_banners/1337502772778905600/1607721650', 'profile_link_color': '1DA1F2', 'profile_sidebar_border_color': 'C0DEED', 'profile_sidebar_fill_color': 'DDEEF6', 'profile_text_color': '333333', 'profile_use_background_image': True, 'has_extended_profile': True, 'default_profile': True, 'default_profile_image': False, 'following': False, 'follow_request_sent': False, 'notifications': False, 'translator_type': 'none', 'withheld_in_countries': []}, 'geo': None, 'coordinates': None, 'place': None, 'contributors': None, 'is_quote_status': False, 'retweet_count': 0, 'favorite_count': 0, 'favorited': False, 'retweeted': False, 'lang': 'en'}, created_at=datetime.datetime(2021, 6, 30, 17, 58, 52), id=1410296792420388866, id_str='1410296792420388866', full_text='@H_M_Parker @AlexMorgan1984 Covid hasnt been verified ,isolated , or purified.   And c d c cant even send a sample of the corona virus', truncated=False, display_text_range=[28, 134], entities={'hashtags': [], 'symbols': [], 'user_mentions': [{'screen_name': 'H_M_Parker', 'name': '♥️ 𝐻𝑒𝑡𝑡𝑖𝑒 ♥️', 'id': 1330433172300046338, 'id_str': '1330433172300046338', 'indices': [0, 11]}, {'screen_name': 'AlexMorgan1984', 'name': 'Alex Morgan', 'id': 483064211, 'id_str': '483064211', 'indices': [12, 27]}], 'urls': []}, metadata={'iso_language_code': 'en', 'result_type': 'recent'}, source='Twitter for Android', source_url='http://twitter.com/download/android', in_reply_to_status_id=1410252615875768320, in_reply_to_status_id_str='1410252615875768320', in_reply_to_user_id=1330433172300046338, in_reply_to_user_id_str='1330433172300046338', in_reply_to_screen_name='H_M_Parker', author=User(_api=<tweepy.api.API object at 0x7fc9618f0040>, _json={'id': 1337502772778905600, 'id_str': '1337502772778905600', 'name': 'Dillon Dualy', 'screen_name': 'DilonDually', 'location': 'Roanoke, VA', 'description': 'All glory goes to the alpha and omega', 'url': None, 'entities': {'description': {'urls': []}}, 'protected': False, 'followers_count': 191, 'friends_count': 782, 'listed_count': 0, 'created_at': 'Fri Dec 11 21:01:40 +0000 2020', 'favourites_count': 968, 'utc_offset': None, 'time_zone': None, 'geo_enabled': True, 'verified': False, 'statuses_count': 752, 'lang': None, 'contributors_enabled': False, 'is_translator': False, 'is_translation_enabled': False, 'profile_background_color': 'F5F8FA', 'profile_background_image_url': None, 'profile_background_image_url_https': None, 'profile_background_tile': False, 'profile_image_url': 'http://pbs.twimg.com/profile_images/1337503959410483205/46sF8BPJ_normal.jpg', 'profile_image_url_https': 'https://pbs.twimg.com/profile_images/1337503959410483205/46sF8BPJ_normal.jpg', 'profile_banner_url': 'https://pbs.twimg.com/profile_banners/1337502772778905600/1607721650', 'profile_link_color': '1DA1F2', 'profile_sidebar_border_color': 'C0DEED', 'profile_sidebar_fill_color': 'DDEEF6', 'profile_text_color': '333333', 'profile_use_background_image': True, 'has_extended_profile': True, 'default_profile': True, 'default_profile_image': False, 'following': False, 'follow_request_sent': False, 'notifications': False, 'translator_type': 'none', 'withheld_in_countries': []}, id=1337502772778905600, id_str='1337502772778905600', name='Dillon Dualy', screen_name='DilonDually', location='Roanoke, VA', description='All glory goes to the alpha and omega', url=None, entities={'description': {'urls': []}}, protected=False, followers_count=191, friends_count=782, listed_count=0, created_at=datetime.datetime(2020, 12, 11, 21, 1, 40), favourites_count=968, utc_offset=None, time_zone=None, geo_enabled=True, verified=False, statuses_count=752, lang=None, contributors_enabled=False, is_translator=False, is_translation_enabled=False, profile_background_color='F5F8FA', profile_background_image_url=None, profile_background_image_url_https=None, profile_background_tile=False, profile_image_url='http://pbs.twimg.com/profile_images/1337503959410483205/46sF8BPJ_normal.jpg', profile_image_url_https='https://pbs.twimg.com/profile_images/1337503959410483205/46sF8BPJ_normal.jpg', profile_banner_url='https://pbs.twimg.com/profile_banners/1337502772778905600/1607721650', profile_link_color='1DA1F2', profile_sidebar_border_color='C0DEED', profile_sidebar_fill_color='DDEEF6', profile_text_color='333333', profile_use_background_image=True, has_extended_profile=True, default_profile=True, default_profile_image=False, following=False, follow_request_sent=False, notifications=False, translator_type='none', withheld_in_countries=[]), user=User(_api=<tweepy.api.API object at 0x7fc9618f0040>, _json={'id': 1337502772778905600, 'id_str': '1337502772778905600', 'name': 'Dillon Dualy', 'screen_name': 'DilonDually', 'location': 'Roanoke, VA', 'description': 'All glory goes to the alpha and omega', 'url': None, 'entities': {'description': {'urls': []}}, 'protected': False, 'followers_count': 191, 'friends_count': 782, 'listed_count': 0, 'created_at': 'Fri Dec 11 21:01:40 +0000 2020', 'favourites_count': 968, 'utc_offset': None, 'time_zone': None, 'geo_enabled': True, 'verified': False, 'statuses_count': 752, 'lang': None, 'contributors_enabled': False, 'is_translator': False, 'is_translation_enabled': False, 'profile_background_color': 'F5F8FA', 'profile_background_image_url': None, 'profile_background_image_url_https': None, 'profile_background_tile': False, 'profile_image_url': 'http://pbs.twimg.com/profile_images/1337503959410483205/46sF8BPJ_normal.jpg', 'profile_image_url_https': 'https://pbs.twimg.com/profile_images/1337503959410483205/46sF8BPJ_normal.jpg', 'profile_banner_url': 'https://pbs.twimg.com/profile_banners/1337502772778905600/1607721650', 'profile_link_color': '1DA1F2', 'profile_sidebar_border_color': 'C0DEED', 'profile_sidebar_fill_color': 'DDEEF6', 'profile_text_color': '333333', 'profile_use_background_image': True, 'has_extended_profile': True, 'default_profile': True, 'default_profile_image': False, 'following': False, 'follow_request_sent': False, 'notifications': False, 'translator_type': 'none', 'withheld_in_countries': []}, id=1337502772778905600, id_str='1337502772778905600', name='Dillon Dualy', screen_name='DilonDually', location='Roanoke, VA', description='All glory goes to the alpha and omega', url=None, entities={'description': {'urls': []}}, protected=False, followers_count=191, friends_count=782, listed_count=0, created_at=datetime.datetime(2020, 12, 11, 21, 1, 40), favourites_count=968, utc_offset=None, time_zone=None, geo_enabled=True, verified=False, statuses_count=752, lang=None, contributors_enabled=False, is_translator=False, is_translation_enabled=False, profile_background_color='F5F8FA', profile_background_image_url=None, profile_background_image_url_https=None, profile_background_tile=False, profile_image_url='http://pbs.twimg.com/profile_images/1337503959410483205/46sF8BPJ_normal.jpg', profile_image_url_https='https://pbs.twimg.com/profile_images/1337503959410483205/46sF8BPJ_normal.jpg', profile_banner_url='https://pbs.twimg.com/profile_banners/1337502772778905600/1607721650', profile_link_color='1DA1F2', profile_sidebar_border_color='C0DEED', profile_sidebar_fill_color='DDEEF6', profile_text_color='333333', profile_use_background_image=True, has_extended_profile=True, default_profile=True, default_profile_image=False, following=False, follow_request_sent=False, notifications=False, translator_type='none', withheld_in_countries=[]), geo=None, coordinates=None, place=None, contributors=None, is_quote_status=False, retweet_count=0, favorite_count=0, favorited=False, retweeted=False, lang='en') \n",
      "\n",
      ".....................................\n",
      "\n",
      "Status(_api=<tweepy.api.API object at 0x7fc9618f0040>, _json={'created_at': 'Wed Jun 30 17:58:41 +0000 2021', 'id': 1410296748594155520, 'id_str': '1410296748594155520', 'full_text': 'When you need extended losing weight read up on this online page https://t.co/KG5Zx4KbXs', 'truncated': False, 'display_text_range': [0, 88], 'entities': {'hashtags': [], 'symbols': [], 'user_mentions': [], 'urls': [{'url': 'https://t.co/KG5Zx4KbXs', 'expanded_url': 'http://blog.warriornetwork.global/how-to-combat-the-corona-virus-and-any-other-illness/', 'display_url': 'blog.warriornetwork.global/how-to-combat-…', 'indices': [65, 88]}]}, 'metadata': {'iso_language_code': 'en', 'result_type': 'recent'}, 'source': '<a href=\"https://blog.workwithjameshicks.com\" rel=\"nofollow\">JamesHicksTWI Publishing App</a>', 'in_reply_to_status_id': None, 'in_reply_to_status_id_str': None, 'in_reply_to_user_id': None, 'in_reply_to_user_id_str': None, 'in_reply_to_screen_name': None, 'user': {'id': 830386142797320192, 'id_str': '830386142797320192', 'name': 'Lazy Marketing🏆', 'screen_name': 'jameshickstwi', 'location': 'London, England', 'description': 'On a mission to teach people how to get paid to LIVE.. not live to work! Secret lazy income creation method available now at https://t.co/Dg8ZwumN3Q', 'url': 'https://t.co/r5uzPUUGYO', 'entities': {'url': {'urls': [{'url': 'https://t.co/r5uzPUUGYO', 'expanded_url': 'http://bit.ly/2FrlFin', 'display_url': 'bit.ly/2FrlFin', 'indices': [0, 23]}]}, 'description': {'urls': [{'url': 'https://t.co/Dg8ZwumN3Q', 'expanded_url': 'http://bit.ly/2FysmLt', 'display_url': 'bit.ly/2FysmLt', 'indices': [125, 148]}]}}, 'protected': False, 'followers_count': 39853, 'friends_count': 34134, 'listed_count': 171, 'created_at': 'Sat Feb 11 12:00:59 +0000 2017', 'favourites_count': 66, 'utc_offset': None, 'time_zone': None, 'geo_enabled': False, 'verified': False, 'statuses_count': 645974, 'lang': None, 'contributors_enabled': False, 'is_translator': False, 'is_translation_enabled': False, 'profile_background_color': '000000', 'profile_background_image_url': 'http://abs.twimg.com/images/themes/theme1/bg.png', 'profile_background_image_url_https': 'https://abs.twimg.com/images/themes/theme1/bg.png', 'profile_background_tile': False, 'profile_image_url': 'http://pbs.twimg.com/profile_images/985390369444716544/vD5iUSmV_normal.jpg', 'profile_image_url_https': 'https://pbs.twimg.com/profile_images/985390369444716544/vD5iUSmV_normal.jpg', 'profile_banner_url': 'https://pbs.twimg.com/profile_banners/830386142797320192/1535272145', 'profile_link_color': 'FF691F', 'profile_sidebar_border_color': '000000', 'profile_sidebar_fill_color': '000000', 'profile_text_color': '000000', 'profile_use_background_image': False, 'has_extended_profile': True, 'default_profile': False, 'default_profile_image': False, 'following': False, 'follow_request_sent': False, 'notifications': False, 'translator_type': 'none', 'withheld_in_countries': []}, 'geo': None, 'coordinates': None, 'place': None, 'contributors': None, 'is_quote_status': False, 'retweet_count': 0, 'favorite_count': 0, 'favorited': False, 'retweeted': False, 'possibly_sensitive': False, 'lang': 'en'}, created_at=datetime.datetime(2021, 6, 30, 17, 58, 41), id=1410296748594155520, id_str='1410296748594155520', full_text='When you need extended losing weight read up on this online page https://t.co/KG5Zx4KbXs', truncated=False, display_text_range=[0, 88], entities={'hashtags': [], 'symbols': [], 'user_mentions': [], 'urls': [{'url': 'https://t.co/KG5Zx4KbXs', 'expanded_url': 'http://blog.warriornetwork.global/how-to-combat-the-corona-virus-and-any-other-illness/', 'display_url': 'blog.warriornetwork.global/how-to-combat-…', 'indices': [65, 88]}]}, metadata={'iso_language_code': 'en', 'result_type': 'recent'}, source='JamesHicksTWI Publishing App', source_url='https://blog.workwithjameshicks.com', in_reply_to_status_id=None, in_reply_to_status_id_str=None, in_reply_to_user_id=None, in_reply_to_user_id_str=None, in_reply_to_screen_name=None, author=User(_api=<tweepy.api.API object at 0x7fc9618f0040>, _json={'id': 830386142797320192, 'id_str': '830386142797320192', 'name': 'Lazy Marketing🏆', 'screen_name': 'jameshickstwi', 'location': 'London, England', 'description': 'On a mission to teach people how to get paid to LIVE.. not live to work! Secret lazy income creation method available now at https://t.co/Dg8ZwumN3Q', 'url': 'https://t.co/r5uzPUUGYO', 'entities': {'url': {'urls': [{'url': 'https://t.co/r5uzPUUGYO', 'expanded_url': 'http://bit.ly/2FrlFin', 'display_url': 'bit.ly/2FrlFin', 'indices': [0, 23]}]}, 'description': {'urls': [{'url': 'https://t.co/Dg8ZwumN3Q', 'expanded_url': 'http://bit.ly/2FysmLt', 'display_url': 'bit.ly/2FysmLt', 'indices': [125, 148]}]}}, 'protected': False, 'followers_count': 39853, 'friends_count': 34134, 'listed_count': 171, 'created_at': 'Sat Feb 11 12:00:59 +0000 2017', 'favourites_count': 66, 'utc_offset': None, 'time_zone': None, 'geo_enabled': False, 'verified': False, 'statuses_count': 645974, 'lang': None, 'contributors_enabled': False, 'is_translator': False, 'is_translation_enabled': False, 'profile_background_color': '000000', 'profile_background_image_url': 'http://abs.twimg.com/images/themes/theme1/bg.png', 'profile_background_image_url_https': 'https://abs.twimg.com/images/themes/theme1/bg.png', 'profile_background_tile': False, 'profile_image_url': 'http://pbs.twimg.com/profile_images/985390369444716544/vD5iUSmV_normal.jpg', 'profile_image_url_https': 'https://pbs.twimg.com/profile_images/985390369444716544/vD5iUSmV_normal.jpg', 'profile_banner_url': 'https://pbs.twimg.com/profile_banners/830386142797320192/1535272145', 'profile_link_color': 'FF691F', 'profile_sidebar_border_color': '000000', 'profile_sidebar_fill_color': '000000', 'profile_text_color': '000000', 'profile_use_background_image': False, 'has_extended_profile': True, 'default_profile': False, 'default_profile_image': False, 'following': False, 'follow_request_sent': False, 'notifications': False, 'translator_type': 'none', 'withheld_in_countries': []}, id=830386142797320192, id_str='830386142797320192', name='Lazy Marketing🏆', screen_name='jameshickstwi', location='London, England', description='On a mission to teach people how to get paid to LIVE.. not live to work! Secret lazy income creation method available now at https://t.co/Dg8ZwumN3Q', url='https://t.co/r5uzPUUGYO', entities={'url': {'urls': [{'url': 'https://t.co/r5uzPUUGYO', 'expanded_url': 'http://bit.ly/2FrlFin', 'display_url': 'bit.ly/2FrlFin', 'indices': [0, 23]}]}, 'description': {'urls': [{'url': 'https://t.co/Dg8ZwumN3Q', 'expanded_url': 'http://bit.ly/2FysmLt', 'display_url': 'bit.ly/2FysmLt', 'indices': [125, 148]}]}}, protected=False, followers_count=39853, friends_count=34134, listed_count=171, created_at=datetime.datetime(2017, 2, 11, 12, 0, 59), favourites_count=66, utc_offset=None, time_zone=None, geo_enabled=False, verified=False, statuses_count=645974, lang=None, contributors_enabled=False, is_translator=False, is_translation_enabled=False, profile_background_color='000000', profile_background_image_url='http://abs.twimg.com/images/themes/theme1/bg.png', profile_background_image_url_https='https://abs.twimg.com/images/themes/theme1/bg.png', profile_background_tile=False, profile_image_url='http://pbs.twimg.com/profile_images/985390369444716544/vD5iUSmV_normal.jpg', profile_image_url_https='https://pbs.twimg.com/profile_images/985390369444716544/vD5iUSmV_normal.jpg', profile_banner_url='https://pbs.twimg.com/profile_banners/830386142797320192/1535272145', profile_link_color='FF691F', profile_sidebar_border_color='000000', profile_sidebar_fill_color='000000', profile_text_color='000000', profile_use_background_image=False, has_extended_profile=True, default_profile=False, default_profile_image=False, following=False, follow_request_sent=False, notifications=False, translator_type='none', withheld_in_countries=[]), user=User(_api=<tweepy.api.API object at 0x7fc9618f0040>, _json={'id': 830386142797320192, 'id_str': '830386142797320192', 'name': 'Lazy Marketing🏆', 'screen_name': 'jameshickstwi', 'location': 'London, England', 'description': 'On a mission to teach people how to get paid to LIVE.. not live to work! Secret lazy income creation method available now at https://t.co/Dg8ZwumN3Q', 'url': 'https://t.co/r5uzPUUGYO', 'entities': {'url': {'urls': [{'url': 'https://t.co/r5uzPUUGYO', 'expanded_url': 'http://bit.ly/2FrlFin', 'display_url': 'bit.ly/2FrlFin', 'indices': [0, 23]}]}, 'description': {'urls': [{'url': 'https://t.co/Dg8ZwumN3Q', 'expanded_url': 'http://bit.ly/2FysmLt', 'display_url': 'bit.ly/2FysmLt', 'indices': [125, 148]}]}}, 'protected': False, 'followers_count': 39853, 'friends_count': 34134, 'listed_count': 171, 'created_at': 'Sat Feb 11 12:00:59 +0000 2017', 'favourites_count': 66, 'utc_offset': None, 'time_zone': None, 'geo_enabled': False, 'verified': False, 'statuses_count': 645974, 'lang': None, 'contributors_enabled': False, 'is_translator': False, 'is_translation_enabled': False, 'profile_background_color': '000000', 'profile_background_image_url': 'http://abs.twimg.com/images/themes/theme1/bg.png', 'profile_background_image_url_https': 'https://abs.twimg.com/images/themes/theme1/bg.png', 'profile_background_tile': False, 'profile_image_url': 'http://pbs.twimg.com/profile_images/985390369444716544/vD5iUSmV_normal.jpg', 'profile_image_url_https': 'https://pbs.twimg.com/profile_images/985390369444716544/vD5iUSmV_normal.jpg', 'profile_banner_url': 'https://pbs.twimg.com/profile_banners/830386142797320192/1535272145', 'profile_link_color': 'FF691F', 'profile_sidebar_border_color': '000000', 'profile_sidebar_fill_color': '000000', 'profile_text_color': '000000', 'profile_use_background_image': False, 'has_extended_profile': True, 'default_profile': False, 'default_profile_image': False, 'following': False, 'follow_request_sent': False, 'notifications': False, 'translator_type': 'none', 'withheld_in_countries': []}, id=830386142797320192, id_str='830386142797320192', name='Lazy Marketing🏆', screen_name='jameshickstwi', location='London, England', description='On a mission to teach people how to get paid to LIVE.. not live to work! Secret lazy income creation method available now at https://t.co/Dg8ZwumN3Q', url='https://t.co/r5uzPUUGYO', entities={'url': {'urls': [{'url': 'https://t.co/r5uzPUUGYO', 'expanded_url': 'http://bit.ly/2FrlFin', 'display_url': 'bit.ly/2FrlFin', 'indices': [0, 23]}]}, 'description': {'urls': [{'url': 'https://t.co/Dg8ZwumN3Q', 'expanded_url': 'http://bit.ly/2FysmLt', 'display_url': 'bit.ly/2FysmLt', 'indices': [125, 148]}]}}, protected=False, followers_count=39853, friends_count=34134, listed_count=171, created_at=datetime.datetime(2017, 2, 11, 12, 0, 59), favourites_count=66, utc_offset=None, time_zone=None, geo_enabled=False, verified=False, statuses_count=645974, lang=None, contributors_enabled=False, is_translator=False, is_translation_enabled=False, profile_background_color='000000', profile_background_image_url='http://abs.twimg.com/images/themes/theme1/bg.png', profile_background_image_url_https='https://abs.twimg.com/images/themes/theme1/bg.png', profile_background_tile=False, profile_image_url='http://pbs.twimg.com/profile_images/985390369444716544/vD5iUSmV_normal.jpg', profile_image_url_https='https://pbs.twimg.com/profile_images/985390369444716544/vD5iUSmV_normal.jpg', profile_banner_url='https://pbs.twimg.com/profile_banners/830386142797320192/1535272145', profile_link_color='FF691F', profile_sidebar_border_color='000000', profile_sidebar_fill_color='000000', profile_text_color='000000', profile_use_background_image=False, has_extended_profile=True, default_profile=False, default_profile_image=False, following=False, follow_request_sent=False, notifications=False, translator_type='none', withheld_in_countries=[]), geo=None, coordinates=None, place=None, contributors=None, is_quote_status=False, retweet_count=0, favorite_count=0, favorited=False, retweeted=False, possibly_sensitive=False, lang='en') \n",
      "\n",
      ".....................................\n",
      "\n",
      "Status(_api=<tweepy.api.API object at 0x7fc9618f0040>, _json={'created_at': 'Wed Jun 30 17:57:34 +0000 2021', 'id': 1410296467982635011, 'id_str': '1410296467982635011', 'full_text': 'A Multi-Billion Dollar idea to defeat Corona Virus\\n#covid19\\n#getrich\\n#savehumanity\\n#thinkoutsidethebox https://t.co/UNWnRHHNXL', 'truncated': False, 'display_text_range': [0, 126], 'entities': {'hashtags': [{'text': 'covid19', 'indices': [51, 59]}, {'text': 'getrich', 'indices': [60, 68]}, {'text': 'savehumanity', 'indices': [69, 82]}, {'text': 'thinkoutsidethebox', 'indices': [83, 102]}], 'symbols': [], 'user_mentions': [], 'urls': [{'url': 'https://t.co/UNWnRHHNXL', 'expanded_url': 'https://authortwscott.wordpress.com/2021/06/30/a-multi-billion-dollar-idea-to-defeat-corona-virus/', 'display_url': 'authortwscott.wordpress.com/2021/06/30/a-m…', 'indices': [103, 126]}]}, 'metadata': {'iso_language_code': 'en', 'result_type': 'recent'}, 'source': '<a href=\"http://publicize.wp.com/\" rel=\"nofollow\">WordPress.com</a>', 'in_reply_to_status_id': None, 'in_reply_to_status_id_str': None, 'in_reply_to_user_id': None, 'in_reply_to_user_id_str': None, 'in_reply_to_screen_name': None, 'user': {'id': 770471636491497472, 'id_str': '770471636491497472', 'name': 'TWScott', 'screen_name': 'AuthorTWScott', 'location': 'Texas, USA', 'description': 'Artist, Author of many Novels and counting. Goal is to quit the day job and write full time!    🐧  https://t.co/ORtJHP2q0Q   https://t.co/0uQqAopzqf…', 'url': 'https://t.co/ZMP6MdvQlG', 'entities': {'url': {'urls': [{'url': 'https://t.co/ZMP6MdvQlG', 'expanded_url': 'http://www.AuthorTWScott.com', 'display_url': 'AuthorTWScott.com', 'indices': [0, 23]}]}, 'description': {'urls': [{'url': 'https://t.co/ORtJHP2q0Q', 'expanded_url': 'http://authortwscott.wordpress.com', 'display_url': 'authortwscott.wordpress.com', 'indices': [99, 122]}, {'url': 'https://t.co/0uQqAopzqf', 'expanded_url': 'http://amazon.com/TW-Scott/e/B01', 'display_url': 'amazon.com/TW-Scott/e/B01', 'indices': [125, 148]}]}}, 'protected': False, 'followers_count': 675, 'friends_count': 1217, 'listed_count': 83, 'created_at': 'Tue Aug 30 04:02:07 +0000 2016', 'favourites_count': 124, 'utc_offset': None, 'time_zone': None, 'geo_enabled': False, 'verified': False, 'statuses_count': 39665, 'lang': None, 'contributors_enabled': False, 'is_translator': False, 'is_translation_enabled': False, 'profile_background_color': '000000', 'profile_background_image_url': 'http://abs.twimg.com/images/themes/theme1/bg.png', 'profile_background_image_url_https': 'https://abs.twimg.com/images/themes/theme1/bg.png', 'profile_background_tile': False, 'profile_image_url': 'http://pbs.twimg.com/profile_images/807336876751233024/zKKxGLd7_normal.jpg', 'profile_image_url_https': 'https://pbs.twimg.com/profile_images/807336876751233024/zKKxGLd7_normal.jpg', 'profile_banner_url': 'https://pbs.twimg.com/profile_banners/770471636491497472/1472534236', 'profile_link_color': '1B95E0', 'profile_sidebar_border_color': '000000', 'profile_sidebar_fill_color': '000000', 'profile_text_color': '000000', 'profile_use_background_image': False, 'has_extended_profile': False, 'default_profile': False, 'default_profile_image': False, 'following': False, 'follow_request_sent': False, 'notifications': False, 'translator_type': 'none', 'withheld_in_countries': []}, 'geo': None, 'coordinates': None, 'place': None, 'contributors': None, 'is_quote_status': False, 'retweet_count': 0, 'favorite_count': 0, 'favorited': False, 'retweeted': False, 'possibly_sensitive': False, 'lang': 'en'}, created_at=datetime.datetime(2021, 6, 30, 17, 57, 34), id=1410296467982635011, id_str='1410296467982635011', full_text='A Multi-Billion Dollar idea to defeat Corona Virus\\n#covid19\\n#getrich\\n#savehumanity\\n#thinkoutsidethebox https://t.co/UNWnRHHNXL', truncated=False, display_text_range=[0, 126], entities={'hashtags': [{'text': 'covid19', 'indices': [51, 59]}, {'text': 'getrich', 'indices': [60, 68]}, {'text': 'savehumanity', 'indices': [69, 82]}, {'text': 'thinkoutsidethebox', 'indices': [83, 102]}], 'symbols': [], 'user_mentions': [], 'urls': [{'url': 'https://t.co/UNWnRHHNXL', 'expanded_url': 'https://authortwscott.wordpress.com/2021/06/30/a-multi-billion-dollar-idea-to-defeat-corona-virus/', 'display_url': 'authortwscott.wordpress.com/2021/06/30/a-m…', 'indices': [103, 126]}]}, metadata={'iso_language_code': 'en', 'result_type': 'recent'}, source='WordPress.com', source_url='http://publicize.wp.com/', in_reply_to_status_id=None, in_reply_to_status_id_str=None, in_reply_to_user_id=None, in_reply_to_user_id_str=None, in_reply_to_screen_name=None, author=User(_api=<tweepy.api.API object at 0x7fc9618f0040>, _json={'id': 770471636491497472, 'id_str': '770471636491497472', 'name': 'TWScott', 'screen_name': 'AuthorTWScott', 'location': 'Texas, USA', 'description': 'Artist, Author of many Novels and counting. Goal is to quit the day job and write full time!    🐧  https://t.co/ORtJHP2q0Q   https://t.co/0uQqAopzqf…', 'url': 'https://t.co/ZMP6MdvQlG', 'entities': {'url': {'urls': [{'url': 'https://t.co/ZMP6MdvQlG', 'expanded_url': 'http://www.AuthorTWScott.com', 'display_url': 'AuthorTWScott.com', 'indices': [0, 23]}]}, 'description': {'urls': [{'url': 'https://t.co/ORtJHP2q0Q', 'expanded_url': 'http://authortwscott.wordpress.com', 'display_url': 'authortwscott.wordpress.com', 'indices': [99, 122]}, {'url': 'https://t.co/0uQqAopzqf', 'expanded_url': 'http://amazon.com/TW-Scott/e/B01', 'display_url': 'amazon.com/TW-Scott/e/B01', 'indices': [125, 148]}]}}, 'protected': False, 'followers_count': 675, 'friends_count': 1217, 'listed_count': 83, 'created_at': 'Tue Aug 30 04:02:07 +0000 2016', 'favourites_count': 124, 'utc_offset': None, 'time_zone': None, 'geo_enabled': False, 'verified': False, 'statuses_count': 39665, 'lang': None, 'contributors_enabled': False, 'is_translator': False, 'is_translation_enabled': False, 'profile_background_color': '000000', 'profile_background_image_url': 'http://abs.twimg.com/images/themes/theme1/bg.png', 'profile_background_image_url_https': 'https://abs.twimg.com/images/themes/theme1/bg.png', 'profile_background_tile': False, 'profile_image_url': 'http://pbs.twimg.com/profile_images/807336876751233024/zKKxGLd7_normal.jpg', 'profile_image_url_https': 'https://pbs.twimg.com/profile_images/807336876751233024/zKKxGLd7_normal.jpg', 'profile_banner_url': 'https://pbs.twimg.com/profile_banners/770471636491497472/1472534236', 'profile_link_color': '1B95E0', 'profile_sidebar_border_color': '000000', 'profile_sidebar_fill_color': '000000', 'profile_text_color': '000000', 'profile_use_background_image': False, 'has_extended_profile': False, 'default_profile': False, 'default_profile_image': False, 'following': False, 'follow_request_sent': False, 'notifications': False, 'translator_type': 'none', 'withheld_in_countries': []}, id=770471636491497472, id_str='770471636491497472', name='TWScott', screen_name='AuthorTWScott', location='Texas, USA', description='Artist, Author of many Novels and counting. Goal is to quit the day job and write full time!    🐧  https://t.co/ORtJHP2q0Q   https://t.co/0uQqAopzqf…', url='https://t.co/ZMP6MdvQlG', entities={'url': {'urls': [{'url': 'https://t.co/ZMP6MdvQlG', 'expanded_url': 'http://www.AuthorTWScott.com', 'display_url': 'AuthorTWScott.com', 'indices': [0, 23]}]}, 'description': {'urls': [{'url': 'https://t.co/ORtJHP2q0Q', 'expanded_url': 'http://authortwscott.wordpress.com', 'display_url': 'authortwscott.wordpress.com', 'indices': [99, 122]}, {'url': 'https://t.co/0uQqAopzqf', 'expanded_url': 'http://amazon.com/TW-Scott/e/B01', 'display_url': 'amazon.com/TW-Scott/e/B01', 'indices': [125, 148]}]}}, protected=False, followers_count=675, friends_count=1217, listed_count=83, created_at=datetime.datetime(2016, 8, 30, 4, 2, 7), favourites_count=124, utc_offset=None, time_zone=None, geo_enabled=False, verified=False, statuses_count=39665, lang=None, contributors_enabled=False, is_translator=False, is_translation_enabled=False, profile_background_color='000000', profile_background_image_url='http://abs.twimg.com/images/themes/theme1/bg.png', profile_background_image_url_https='https://abs.twimg.com/images/themes/theme1/bg.png', profile_background_tile=False, profile_image_url='http://pbs.twimg.com/profile_images/807336876751233024/zKKxGLd7_normal.jpg', profile_image_url_https='https://pbs.twimg.com/profile_images/807336876751233024/zKKxGLd7_normal.jpg', profile_banner_url='https://pbs.twimg.com/profile_banners/770471636491497472/1472534236', profile_link_color='1B95E0', profile_sidebar_border_color='000000', profile_sidebar_fill_color='000000', profile_text_color='000000', profile_use_background_image=False, has_extended_profile=False, default_profile=False, default_profile_image=False, following=False, follow_request_sent=False, notifications=False, translator_type='none', withheld_in_countries=[]), user=User(_api=<tweepy.api.API object at 0x7fc9618f0040>, _json={'id': 770471636491497472, 'id_str': '770471636491497472', 'name': 'TWScott', 'screen_name': 'AuthorTWScott', 'location': 'Texas, USA', 'description': 'Artist, Author of many Novels and counting. Goal is to quit the day job and write full time!    🐧  https://t.co/ORtJHP2q0Q   https://t.co/0uQqAopzqf…', 'url': 'https://t.co/ZMP6MdvQlG', 'entities': {'url': {'urls': [{'url': 'https://t.co/ZMP6MdvQlG', 'expanded_url': 'http://www.AuthorTWScott.com', 'display_url': 'AuthorTWScott.com', 'indices': [0, 23]}]}, 'description': {'urls': [{'url': 'https://t.co/ORtJHP2q0Q', 'expanded_url': 'http://authortwscott.wordpress.com', 'display_url': 'authortwscott.wordpress.com', 'indices': [99, 122]}, {'url': 'https://t.co/0uQqAopzqf', 'expanded_url': 'http://amazon.com/TW-Scott/e/B01', 'display_url': 'amazon.com/TW-Scott/e/B01', 'indices': [125, 148]}]}}, 'protected': False, 'followers_count': 675, 'friends_count': 1217, 'listed_count': 83, 'created_at': 'Tue Aug 30 04:02:07 +0000 2016', 'favourites_count': 124, 'utc_offset': None, 'time_zone': None, 'geo_enabled': False, 'verified': False, 'statuses_count': 39665, 'lang': None, 'contributors_enabled': False, 'is_translator': False, 'is_translation_enabled': False, 'profile_background_color': '000000', 'profile_background_image_url': 'http://abs.twimg.com/images/themes/theme1/bg.png', 'profile_background_image_url_https': 'https://abs.twimg.com/images/themes/theme1/bg.png', 'profile_background_tile': False, 'profile_image_url': 'http://pbs.twimg.com/profile_images/807336876751233024/zKKxGLd7_normal.jpg', 'profile_image_url_https': 'https://pbs.twimg.com/profile_images/807336876751233024/zKKxGLd7_normal.jpg', 'profile_banner_url': 'https://pbs.twimg.com/profile_banners/770471636491497472/1472534236', 'profile_link_color': '1B95E0', 'profile_sidebar_border_color': '000000', 'profile_sidebar_fill_color': '000000', 'profile_text_color': '000000', 'profile_use_background_image': False, 'has_extended_profile': False, 'default_profile': False, 'default_profile_image': False, 'following': False, 'follow_request_sent': False, 'notifications': False, 'translator_type': 'none', 'withheld_in_countries': []}, id=770471636491497472, id_str='770471636491497472', name='TWScott', screen_name='AuthorTWScott', location='Texas, USA', description='Artist, Author of many Novels and counting. Goal is to quit the day job and write full time!    🐧  https://t.co/ORtJHP2q0Q   https://t.co/0uQqAopzqf…', url='https://t.co/ZMP6MdvQlG', entities={'url': {'urls': [{'url': 'https://t.co/ZMP6MdvQlG', 'expanded_url': 'http://www.AuthorTWScott.com', 'display_url': 'AuthorTWScott.com', 'indices': [0, 23]}]}, 'description': {'urls': [{'url': 'https://t.co/ORtJHP2q0Q', 'expanded_url': 'http://authortwscott.wordpress.com', 'display_url': 'authortwscott.wordpress.com', 'indices': [99, 122]}, {'url': 'https://t.co/0uQqAopzqf', 'expanded_url': 'http://amazon.com/TW-Scott/e/B01', 'display_url': 'amazon.com/TW-Scott/e/B01', 'indices': [125, 148]}]}}, protected=False, followers_count=675, friends_count=1217, listed_count=83, created_at=datetime.datetime(2016, 8, 30, 4, 2, 7), favourites_count=124, utc_offset=None, time_zone=None, geo_enabled=False, verified=False, statuses_count=39665, lang=None, contributors_enabled=False, is_translator=False, is_translation_enabled=False, profile_background_color='000000', profile_background_image_url='http://abs.twimg.com/images/themes/theme1/bg.png', profile_background_image_url_https='https://abs.twimg.com/images/themes/theme1/bg.png', profile_background_tile=False, profile_image_url='http://pbs.twimg.com/profile_images/807336876751233024/zKKxGLd7_normal.jpg', profile_image_url_https='https://pbs.twimg.com/profile_images/807336876751233024/zKKxGLd7_normal.jpg', profile_banner_url='https://pbs.twimg.com/profile_banners/770471636491497472/1472534236', profile_link_color='1B95E0', profile_sidebar_border_color='000000', profile_sidebar_fill_color='000000', profile_text_color='000000', profile_use_background_image=False, has_extended_profile=False, default_profile=False, default_profile_image=False, following=False, follow_request_sent=False, notifications=False, translator_type='none', withheld_in_countries=[]), geo=None, coordinates=None, place=None, contributors=None, is_quote_status=False, retweet_count=0, favorite_count=0, favorited=False, retweeted=False, possibly_sensitive=False, lang='en') \n",
      "\n",
      ".....................................\n",
      "\n",
      "Status(_api=<tweepy.api.API object at 0x7fc9618f0040>, _json={'created_at': 'Wed Jun 30 17:55:24 +0000 2021', 'id': 1410295920336457728, 'id_str': '1410295920336457728', 'full_text': 'KU Leuven: Second corona wave in Europe after summer 2020 mainly due to the introduction of new virus\\xa0strains https://t.co/lgBg2q89sG', 'truncated': False, 'display_text_range': [0, 133], 'entities': {'hashtags': [], 'symbols': [], 'user_mentions': [], 'urls': [{'url': 'https://t.co/lgBg2q89sG', 'expanded_url': 'https://indiaeducationdiary.in/ku-leuven-second-corona-wave-in-europe-after-summer-2020-mainly-due-to-the-introduction-of-new-virus-strains/', 'display_url': 'indiaeducationdiary.in/ku-leuven-seco…', 'indices': [110, 133]}]}, 'metadata': {'iso_language_code': 'en', 'result_type': 'recent'}, 'source': '<a href=\"http://publicize.wp.com/\" rel=\"nofollow\">WordPress.com</a>', 'in_reply_to_status_id': None, 'in_reply_to_status_id_str': None, 'in_reply_to_user_id': None, 'in_reply_to_user_id_str': None, 'in_reply_to_screen_name': None, 'user': {'id': 73707872, 'id_str': '73707872', 'name': 'India Education Diary', 'screen_name': 'indiaedudiary', 'location': 'New Delhi', 'description': 'One Stop Platform on #Education. Follow Us to know the latest in Indian & Global Education , research, books, literature, academics and education sector news', 'url': 'http://t.co/DfKTMw503a', 'entities': {'url': {'urls': [{'url': 'http://t.co/DfKTMw503a', 'expanded_url': 'http://www.indiaeducationdiary.in', 'display_url': 'indiaeducationdiary.in', 'indices': [0, 22]}]}, 'description': {'urls': []}}, 'protected': False, 'followers_count': 853, 'friends_count': 356, 'listed_count': 8, 'created_at': 'Sat Sep 12 18:51:43 +0000 2009', 'favourites_count': 1279, 'utc_offset': None, 'time_zone': None, 'geo_enabled': False, 'verified': False, 'statuses_count': 54075, 'lang': None, 'contributors_enabled': False, 'is_translator': False, 'is_translation_enabled': False, 'profile_background_color': 'C0DEED', 'profile_background_image_url': 'http://abs.twimg.com/images/themes/theme1/bg.png', 'profile_background_image_url_https': 'https://abs.twimg.com/images/themes/theme1/bg.png', 'profile_background_tile': False, 'profile_image_url': 'http://pbs.twimg.com/profile_images/841703402308419584/O3Le8fND_normal.jpg', 'profile_image_url_https': 'https://pbs.twimg.com/profile_images/841703402308419584/O3Le8fND_normal.jpg', 'profile_banner_url': 'https://pbs.twimg.com/profile_banners/73707872/1489512726', 'profile_link_color': '1DA1F2', 'profile_sidebar_border_color': 'C0DEED', 'profile_sidebar_fill_color': 'DDEEF6', 'profile_text_color': '333333', 'profile_use_background_image': True, 'has_extended_profile': False, 'default_profile': True, 'default_profile_image': False, 'following': False, 'follow_request_sent': False, 'notifications': False, 'translator_type': 'none', 'withheld_in_countries': []}, 'geo': None, 'coordinates': None, 'place': None, 'contributors': None, 'is_quote_status': False, 'retweet_count': 0, 'favorite_count': 0, 'favorited': False, 'retweeted': False, 'possibly_sensitive': False, 'lang': 'en'}, created_at=datetime.datetime(2021, 6, 30, 17, 55, 24), id=1410295920336457728, id_str='1410295920336457728', full_text='KU Leuven: Second corona wave in Europe after summer 2020 mainly due to the introduction of new virus\\xa0strains https://t.co/lgBg2q89sG', truncated=False, display_text_range=[0, 133], entities={'hashtags': [], 'symbols': [], 'user_mentions': [], 'urls': [{'url': 'https://t.co/lgBg2q89sG', 'expanded_url': 'https://indiaeducationdiary.in/ku-leuven-second-corona-wave-in-europe-after-summer-2020-mainly-due-to-the-introduction-of-new-virus-strains/', 'display_url': 'indiaeducationdiary.in/ku-leuven-seco…', 'indices': [110, 133]}]}, metadata={'iso_language_code': 'en', 'result_type': 'recent'}, source='WordPress.com', source_url='http://publicize.wp.com/', in_reply_to_status_id=None, in_reply_to_status_id_str=None, in_reply_to_user_id=None, in_reply_to_user_id_str=None, in_reply_to_screen_name=None, author=User(_api=<tweepy.api.API object at 0x7fc9618f0040>, _json={'id': 73707872, 'id_str': '73707872', 'name': 'India Education Diary', 'screen_name': 'indiaedudiary', 'location': 'New Delhi', 'description': 'One Stop Platform on #Education. Follow Us to know the latest in Indian & Global Education , research, books, literature, academics and education sector news', 'url': 'http://t.co/DfKTMw503a', 'entities': {'url': {'urls': [{'url': 'http://t.co/DfKTMw503a', 'expanded_url': 'http://www.indiaeducationdiary.in', 'display_url': 'indiaeducationdiary.in', 'indices': [0, 22]}]}, 'description': {'urls': []}}, 'protected': False, 'followers_count': 853, 'friends_count': 356, 'listed_count': 8, 'created_at': 'Sat Sep 12 18:51:43 +0000 2009', 'favourites_count': 1279, 'utc_offset': None, 'time_zone': None, 'geo_enabled': False, 'verified': False, 'statuses_count': 54075, 'lang': None, 'contributors_enabled': False, 'is_translator': False, 'is_translation_enabled': False, 'profile_background_color': 'C0DEED', 'profile_background_image_url': 'http://abs.twimg.com/images/themes/theme1/bg.png', 'profile_background_image_url_https': 'https://abs.twimg.com/images/themes/theme1/bg.png', 'profile_background_tile': False, 'profile_image_url': 'http://pbs.twimg.com/profile_images/841703402308419584/O3Le8fND_normal.jpg', 'profile_image_url_https': 'https://pbs.twimg.com/profile_images/841703402308419584/O3Le8fND_normal.jpg', 'profile_banner_url': 'https://pbs.twimg.com/profile_banners/73707872/1489512726', 'profile_link_color': '1DA1F2', 'profile_sidebar_border_color': 'C0DEED', 'profile_sidebar_fill_color': 'DDEEF6', 'profile_text_color': '333333', 'profile_use_background_image': True, 'has_extended_profile': False, 'default_profile': True, 'default_profile_image': False, 'following': False, 'follow_request_sent': False, 'notifications': False, 'translator_type': 'none', 'withheld_in_countries': []}, id=73707872, id_str='73707872', name='India Education Diary', screen_name='indiaedudiary', location='New Delhi', description='One Stop Platform on #Education. Follow Us to know the latest in Indian & Global Education , research, books, literature, academics and education sector news', url='http://t.co/DfKTMw503a', entities={'url': {'urls': [{'url': 'http://t.co/DfKTMw503a', 'expanded_url': 'http://www.indiaeducationdiary.in', 'display_url': 'indiaeducationdiary.in', 'indices': [0, 22]}]}, 'description': {'urls': []}}, protected=False, followers_count=853, friends_count=356, listed_count=8, created_at=datetime.datetime(2009, 9, 12, 18, 51, 43), favourites_count=1279, utc_offset=None, time_zone=None, geo_enabled=False, verified=False, statuses_count=54075, lang=None, contributors_enabled=False, is_translator=False, is_translation_enabled=False, profile_background_color='C0DEED', profile_background_image_url='http://abs.twimg.com/images/themes/theme1/bg.png', profile_background_image_url_https='https://abs.twimg.com/images/themes/theme1/bg.png', profile_background_tile=False, profile_image_url='http://pbs.twimg.com/profile_images/841703402308419584/O3Le8fND_normal.jpg', profile_image_url_https='https://pbs.twimg.com/profile_images/841703402308419584/O3Le8fND_normal.jpg', profile_banner_url='https://pbs.twimg.com/profile_banners/73707872/1489512726', profile_link_color='1DA1F2', profile_sidebar_border_color='C0DEED', profile_sidebar_fill_color='DDEEF6', profile_text_color='333333', profile_use_background_image=True, has_extended_profile=False, default_profile=True, default_profile_image=False, following=False, follow_request_sent=False, notifications=False, translator_type='none', withheld_in_countries=[]), user=User(_api=<tweepy.api.API object at 0x7fc9618f0040>, _json={'id': 73707872, 'id_str': '73707872', 'name': 'India Education Diary', 'screen_name': 'indiaedudiary', 'location': 'New Delhi', 'description': 'One Stop Platform on #Education. Follow Us to know the latest in Indian & Global Education , research, books, literature, academics and education sector news', 'url': 'http://t.co/DfKTMw503a', 'entities': {'url': {'urls': [{'url': 'http://t.co/DfKTMw503a', 'expanded_url': 'http://www.indiaeducationdiary.in', 'display_url': 'indiaeducationdiary.in', 'indices': [0, 22]}]}, 'description': {'urls': []}}, 'protected': False, 'followers_count': 853, 'friends_count': 356, 'listed_count': 8, 'created_at': 'Sat Sep 12 18:51:43 +0000 2009', 'favourites_count': 1279, 'utc_offset': None, 'time_zone': None, 'geo_enabled': False, 'verified': False, 'statuses_count': 54075, 'lang': None, 'contributors_enabled': False, 'is_translator': False, 'is_translation_enabled': False, 'profile_background_color': 'C0DEED', 'profile_background_image_url': 'http://abs.twimg.com/images/themes/theme1/bg.png', 'profile_background_image_url_https': 'https://abs.twimg.com/images/themes/theme1/bg.png', 'profile_background_tile': False, 'profile_image_url': 'http://pbs.twimg.com/profile_images/841703402308419584/O3Le8fND_normal.jpg', 'profile_image_url_https': 'https://pbs.twimg.com/profile_images/841703402308419584/O3Le8fND_normal.jpg', 'profile_banner_url': 'https://pbs.twimg.com/profile_banners/73707872/1489512726', 'profile_link_color': '1DA1F2', 'profile_sidebar_border_color': 'C0DEED', 'profile_sidebar_fill_color': 'DDEEF6', 'profile_text_color': '333333', 'profile_use_background_image': True, 'has_extended_profile': False, 'default_profile': True, 'default_profile_image': False, 'following': False, 'follow_request_sent': False, 'notifications': False, 'translator_type': 'none', 'withheld_in_countries': []}, id=73707872, id_str='73707872', name='India Education Diary', screen_name='indiaedudiary', location='New Delhi', description='One Stop Platform on #Education. Follow Us to know the latest in Indian & Global Education , research, books, literature, academics and education sector news', url='http://t.co/DfKTMw503a', entities={'url': {'urls': [{'url': 'http://t.co/DfKTMw503a', 'expanded_url': 'http://www.indiaeducationdiary.in', 'display_url': 'indiaeducationdiary.in', 'indices': [0, 22]}]}, 'description': {'urls': []}}, protected=False, followers_count=853, friends_count=356, listed_count=8, created_at=datetime.datetime(2009, 9, 12, 18, 51, 43), favourites_count=1279, utc_offset=None, time_zone=None, geo_enabled=False, verified=False, statuses_count=54075, lang=None, contributors_enabled=False, is_translator=False, is_translation_enabled=False, profile_background_color='C0DEED', profile_background_image_url='http://abs.twimg.com/images/themes/theme1/bg.png', profile_background_image_url_https='https://abs.twimg.com/images/themes/theme1/bg.png', profile_background_tile=False, profile_image_url='http://pbs.twimg.com/profile_images/841703402308419584/O3Le8fND_normal.jpg', profile_image_url_https='https://pbs.twimg.com/profile_images/841703402308419584/O3Le8fND_normal.jpg', profile_banner_url='https://pbs.twimg.com/profile_banners/73707872/1489512726', profile_link_color='1DA1F2', profile_sidebar_border_color='C0DEED', profile_sidebar_fill_color='DDEEF6', profile_text_color='333333', profile_use_background_image=True, has_extended_profile=False, default_profile=True, default_profile_image=False, following=False, follow_request_sent=False, notifications=False, translator_type='none', withheld_in_countries=[]), geo=None, coordinates=None, place=None, contributors=None, is_quote_status=False, retweet_count=0, favorite_count=0, favorited=False, retweeted=False, possibly_sensitive=False, lang='en') \n",
      "\n",
      ".....................................\n",
      "\n",
      "Status(_api=<tweepy.api.API object at 0x7fc9618f0040>, _json={'created_at': 'Wed Jun 30 17:54:36 +0000 2021', 'id': 1410295721673170947, 'id_str': '1410295721673170947', 'full_text': \"@laurenboebert Let's see. Now you are concerned about the Corona virus. Earlier today you tweeted a 'joke' about the Delta variant, but then deleted. \\nSeems like I can use this response on a daily basis. \\nhttps://t.co/uYhZDW3X8h\", 'truncated': False, 'display_text_range': [15, 228], 'entities': {'hashtags': [], 'symbols': [], 'user_mentions': [{'screen_name': 'laurenboebert', 'name': 'Lauren Boebert', 'id': 1201670995435646976, 'id_str': '1201670995435646976', 'indices': [0, 14]}], 'urls': [{'url': 'https://t.co/uYhZDW3X8h', 'expanded_url': 'https://twitter.com/COResistor/status/1409350454580969478', 'display_url': 'twitter.com/COResistor/sta…', 'indices': [205, 228]}]}, 'metadata': {'iso_language_code': 'en', 'result_type': 'recent'}, 'source': '<a href=\"https://mobile.twitter.com\" rel=\"nofollow\">Twitter Web App</a>', 'in_reply_to_status_id': 1410290762760265731, 'in_reply_to_status_id_str': '1410290762760265731', 'in_reply_to_user_id': 1201670995435646976, 'in_reply_to_user_id_str': '1201670995435646976', 'in_reply_to_screen_name': 'laurenboebert', 'user': {'id': 1278166951487889408, 'id_str': '1278166951487889408', 'name': 'COPersists', 'screen_name': 'COResistor', 'location': '', 'description': 'Proud Coloradan, dog-lover, and blue voter who believes in science and equality. Missing my family, and dreaming of Italy.', 'url': None, 'entities': {'description': {'urls': []}}, 'protected': False, 'followers_count': 299, 'friends_count': 541, 'listed_count': 2, 'created_at': 'Wed Jul 01 03:22:17 +0000 2020', 'favourites_count': 7605, 'utc_offset': None, 'time_zone': None, 'geo_enabled': False, 'verified': False, 'statuses_count': 5263, 'lang': None, 'contributors_enabled': False, 'is_translator': False, 'is_translation_enabled': False, 'profile_background_color': 'F5F8FA', 'profile_background_image_url': None, 'profile_background_image_url_https': None, 'profile_background_tile': False, 'profile_image_url': 'http://pbs.twimg.com/profile_images/1406651825424535553/3ksHBKTk_normal.jpg', 'profile_image_url_https': 'https://pbs.twimg.com/profile_images/1406651825424535553/3ksHBKTk_normal.jpg', 'profile_banner_url': 'https://pbs.twimg.com/profile_banners/1278166951487889408/1594242117', 'profile_link_color': '1DA1F2', 'profile_sidebar_border_color': 'C0DEED', 'profile_sidebar_fill_color': 'DDEEF6', 'profile_text_color': '333333', 'profile_use_background_image': True, 'has_extended_profile': True, 'default_profile': True, 'default_profile_image': False, 'following': False, 'follow_request_sent': False, 'notifications': False, 'translator_type': 'none', 'withheld_in_countries': []}, 'geo': None, 'coordinates': None, 'place': None, 'contributors': None, 'is_quote_status': True, 'quoted_status_id': 1409350454580969478, 'quoted_status_id_str': '1409350454580969478', 'quoted_status': {'created_at': 'Mon Jun 28 03:18:27 +0000 2021', 'id': 1409350454580969478, 'id_str': '1409350454580969478', 'full_text': \"@laurenboebert You only complain about Covid when it's politically advantageous. You don't give a shit otherwise. \\n\\nYou mocked ppl for wearing masks &amp;  distancing, rarely bothered to wear a mask, bitched about closures, whined about regulations, flouted restrictions, held events and more.\", 'truncated': False, 'display_text_range': [15, 293], 'entities': {'hashtags': [], 'symbols': [], 'user_mentions': [{'screen_name': 'laurenboebert', 'name': 'Lauren Boebert', 'id': 1201670995435646976, 'id_str': '1201670995435646976', 'indices': [0, 14]}], 'urls': []}, 'metadata': {'iso_language_code': 'en', 'result_type': 'recent'}, 'source': '<a href=\"https://mobile.twitter.com\" rel=\"nofollow\">Twitter Web App</a>', 'in_reply_to_status_id': 1409347409151500290, 'in_reply_to_status_id_str': '1409347409151500290', 'in_reply_to_user_id': 1201670995435646976, 'in_reply_to_user_id_str': '1201670995435646976', 'in_reply_to_screen_name': 'laurenboebert', 'user': {'id': 1278166951487889408, 'id_str': '1278166951487889408', 'name': 'COPersists', 'screen_name': 'COResistor', 'location': '', 'description': 'Proud Coloradan, dog-lover, and blue voter who believes in science and equality. Missing my family, and dreaming of Italy.', 'url': None, 'entities': {'description': {'urls': []}}, 'protected': False, 'followers_count': 299, 'friends_count': 541, 'listed_count': 2, 'created_at': 'Wed Jul 01 03:22:17 +0000 2020', 'favourites_count': 7605, 'utc_offset': None, 'time_zone': None, 'geo_enabled': False, 'verified': False, 'statuses_count': 5263, 'lang': None, 'contributors_enabled': False, 'is_translator': False, 'is_translation_enabled': False, 'profile_background_color': 'F5F8FA', 'profile_background_image_url': None, 'profile_background_image_url_https': None, 'profile_background_tile': False, 'profile_image_url': 'http://pbs.twimg.com/profile_images/1406651825424535553/3ksHBKTk_normal.jpg', 'profile_image_url_https': 'https://pbs.twimg.com/profile_images/1406651825424535553/3ksHBKTk_normal.jpg', 'profile_banner_url': 'https://pbs.twimg.com/profile_banners/1278166951487889408/1594242117', 'profile_link_color': '1DA1F2', 'profile_sidebar_border_color': 'C0DEED', 'profile_sidebar_fill_color': 'DDEEF6', 'profile_text_color': '333333', 'profile_use_background_image': True, 'has_extended_profile': True, 'default_profile': True, 'default_profile_image': False, 'following': False, 'follow_request_sent': False, 'notifications': False, 'translator_type': 'none', 'withheld_in_countries': []}, 'geo': None, 'coordinates': None, 'place': None, 'contributors': None, 'is_quote_status': False, 'retweet_count': 0, 'favorite_count': 13, 'favorited': False, 'retweeted': False, 'lang': 'en'}, 'retweet_count': 0, 'favorite_count': 1, 'favorited': False, 'retweeted': False, 'possibly_sensitive': False, 'lang': 'en'}, created_at=datetime.datetime(2021, 6, 30, 17, 54, 36), id=1410295721673170947, id_str='1410295721673170947', full_text=\"@laurenboebert Let's see. Now you are concerned about the Corona virus. Earlier today you tweeted a 'joke' about the Delta variant, but then deleted. \\nSeems like I can use this response on a daily basis. \\nhttps://t.co/uYhZDW3X8h\", truncated=False, display_text_range=[15, 228], entities={'hashtags': [], 'symbols': [], 'user_mentions': [{'screen_name': 'laurenboebert', 'name': 'Lauren Boebert', 'id': 1201670995435646976, 'id_str': '1201670995435646976', 'indices': [0, 14]}], 'urls': [{'url': 'https://t.co/uYhZDW3X8h', 'expanded_url': 'https://twitter.com/COResistor/status/1409350454580969478', 'display_url': 'twitter.com/COResistor/sta…', 'indices': [205, 228]}]}, metadata={'iso_language_code': 'en', 'result_type': 'recent'}, source='Twitter Web App', source_url='https://mobile.twitter.com', in_reply_to_status_id=1410290762760265731, in_reply_to_status_id_str='1410290762760265731', in_reply_to_user_id=1201670995435646976, in_reply_to_user_id_str='1201670995435646976', in_reply_to_screen_name='laurenboebert', author=User(_api=<tweepy.api.API object at 0x7fc9618f0040>, _json={'id': 1278166951487889408, 'id_str': '1278166951487889408', 'name': 'COPersists', 'screen_name': 'COResistor', 'location': '', 'description': 'Proud Coloradan, dog-lover, and blue voter who believes in science and equality. Missing my family, and dreaming of Italy.', 'url': None, 'entities': {'description': {'urls': []}}, 'protected': False, 'followers_count': 299, 'friends_count': 541, 'listed_count': 2, 'created_at': 'Wed Jul 01 03:22:17 +0000 2020', 'favourites_count': 7605, 'utc_offset': None, 'time_zone': None, 'geo_enabled': False, 'verified': False, 'statuses_count': 5263, 'lang': None, 'contributors_enabled': False, 'is_translator': False, 'is_translation_enabled': False, 'profile_background_color': 'F5F8FA', 'profile_background_image_url': None, 'profile_background_image_url_https': None, 'profile_background_tile': False, 'profile_image_url': 'http://pbs.twimg.com/profile_images/1406651825424535553/3ksHBKTk_normal.jpg', 'profile_image_url_https': 'https://pbs.twimg.com/profile_images/1406651825424535553/3ksHBKTk_normal.jpg', 'profile_banner_url': 'https://pbs.twimg.com/profile_banners/1278166951487889408/1594242117', 'profile_link_color': '1DA1F2', 'profile_sidebar_border_color': 'C0DEED', 'profile_sidebar_fill_color': 'DDEEF6', 'profile_text_color': '333333', 'profile_use_background_image': True, 'has_extended_profile': True, 'default_profile': True, 'default_profile_image': False, 'following': False, 'follow_request_sent': False, 'notifications': False, 'translator_type': 'none', 'withheld_in_countries': []}, id=1278166951487889408, id_str='1278166951487889408', name='COPersists', screen_name='COResistor', location='', description='Proud Coloradan, dog-lover, and blue voter who believes in science and equality. Missing my family, and dreaming of Italy.', url=None, entities={'description': {'urls': []}}, protected=False, followers_count=299, friends_count=541, listed_count=2, created_at=datetime.datetime(2020, 7, 1, 3, 22, 17), favourites_count=7605, utc_offset=None, time_zone=None, geo_enabled=False, verified=False, statuses_count=5263, lang=None, contributors_enabled=False, is_translator=False, is_translation_enabled=False, profile_background_color='F5F8FA', profile_background_image_url=None, profile_background_image_url_https=None, profile_background_tile=False, profile_image_url='http://pbs.twimg.com/profile_images/1406651825424535553/3ksHBKTk_normal.jpg', profile_image_url_https='https://pbs.twimg.com/profile_images/1406651825424535553/3ksHBKTk_normal.jpg', profile_banner_url='https://pbs.twimg.com/profile_banners/1278166951487889408/1594242117', profile_link_color='1DA1F2', profile_sidebar_border_color='C0DEED', profile_sidebar_fill_color='DDEEF6', profile_text_color='333333', profile_use_background_image=True, has_extended_profile=True, default_profile=True, default_profile_image=False, following=False, follow_request_sent=False, notifications=False, translator_type='none', withheld_in_countries=[]), user=User(_api=<tweepy.api.API object at 0x7fc9618f0040>, _json={'id': 1278166951487889408, 'id_str': '1278166951487889408', 'name': 'COPersists', 'screen_name': 'COResistor', 'location': '', 'description': 'Proud Coloradan, dog-lover, and blue voter who believes in science and equality. Missing my family, and dreaming of Italy.', 'url': None, 'entities': {'description': {'urls': []}}, 'protected': False, 'followers_count': 299, 'friends_count': 541, 'listed_count': 2, 'created_at': 'Wed Jul 01 03:22:17 +0000 2020', 'favourites_count': 7605, 'utc_offset': None, 'time_zone': None, 'geo_enabled': False, 'verified': False, 'statuses_count': 5263, 'lang': None, 'contributors_enabled': False, 'is_translator': False, 'is_translation_enabled': False, 'profile_background_color': 'F5F8FA', 'profile_background_image_url': None, 'profile_background_image_url_https': None, 'profile_background_tile': False, 'profile_image_url': 'http://pbs.twimg.com/profile_images/1406651825424535553/3ksHBKTk_normal.jpg', 'profile_image_url_https': 'https://pbs.twimg.com/profile_images/1406651825424535553/3ksHBKTk_normal.jpg', 'profile_banner_url': 'https://pbs.twimg.com/profile_banners/1278166951487889408/1594242117', 'profile_link_color': '1DA1F2', 'profile_sidebar_border_color': 'C0DEED', 'profile_sidebar_fill_color': 'DDEEF6', 'profile_text_color': '333333', 'profile_use_background_image': True, 'has_extended_profile': True, 'default_profile': True, 'default_profile_image': False, 'following': False, 'follow_request_sent': False, 'notifications': False, 'translator_type': 'none', 'withheld_in_countries': []}, id=1278166951487889408, id_str='1278166951487889408', name='COPersists', screen_name='COResistor', location='', description='Proud Coloradan, dog-lover, and blue voter who believes in science and equality. Missing my family, and dreaming of Italy.', url=None, entities={'description': {'urls': []}}, protected=False, followers_count=299, friends_count=541, listed_count=2, created_at=datetime.datetime(2020, 7, 1, 3, 22, 17), favourites_count=7605, utc_offset=None, time_zone=None, geo_enabled=False, verified=False, statuses_count=5263, lang=None, contributors_enabled=False, is_translator=False, is_translation_enabled=False, profile_background_color='F5F8FA', profile_background_image_url=None, profile_background_image_url_https=None, profile_background_tile=False, profile_image_url='http://pbs.twimg.com/profile_images/1406651825424535553/3ksHBKTk_normal.jpg', profile_image_url_https='https://pbs.twimg.com/profile_images/1406651825424535553/3ksHBKTk_normal.jpg', profile_banner_url='https://pbs.twimg.com/profile_banners/1278166951487889408/1594242117', profile_link_color='1DA1F2', profile_sidebar_border_color='C0DEED', profile_sidebar_fill_color='DDEEF6', profile_text_color='333333', profile_use_background_image=True, has_extended_profile=True, default_profile=True, default_profile_image=False, following=False, follow_request_sent=False, notifications=False, translator_type='none', withheld_in_countries=[]), geo=None, coordinates=None, place=None, contributors=None, is_quote_status=True, quoted_status_id=1409350454580969478, quoted_status_id_str='1409350454580969478', quoted_status=Status(_api=<tweepy.api.API object at 0x7fc9618f0040>, _json={'created_at': 'Mon Jun 28 03:18:27 +0000 2021', 'id': 1409350454580969478, 'id_str': '1409350454580969478', 'full_text': \"@laurenboebert You only complain about Covid when it's politically advantageous. You don't give a shit otherwise. \\n\\nYou mocked ppl for wearing masks &amp;  distancing, rarely bothered to wear a mask, bitched about closures, whined about regulations, flouted restrictions, held events and more.\", 'truncated': False, 'display_text_range': [15, 293], 'entities': {'hashtags': [], 'symbols': [], 'user_mentions': [{'screen_name': 'laurenboebert', 'name': 'Lauren Boebert', 'id': 1201670995435646976, 'id_str': '1201670995435646976', 'indices': [0, 14]}], 'urls': []}, 'metadata': {'iso_language_code': 'en', 'result_type': 'recent'}, 'source': '<a href=\"https://mobile.twitter.com\" rel=\"nofollow\">Twitter Web App</a>', 'in_reply_to_status_id': 1409347409151500290, 'in_reply_to_status_id_str': '1409347409151500290', 'in_reply_to_user_id': 1201670995435646976, 'in_reply_to_user_id_str': '1201670995435646976', 'in_reply_to_screen_name': 'laurenboebert', 'user': {'id': 1278166951487889408, 'id_str': '1278166951487889408', 'name': 'COPersists', 'screen_name': 'COResistor', 'location': '', 'description': 'Proud Coloradan, dog-lover, and blue voter who believes in science and equality. Missing my family, and dreaming of Italy.', 'url': None, 'entities': {'description': {'urls': []}}, 'protected': False, 'followers_count': 299, 'friends_count': 541, 'listed_count': 2, 'created_at': 'Wed Jul 01 03:22:17 +0000 2020', 'favourites_count': 7605, 'utc_offset': None, 'time_zone': None, 'geo_enabled': False, 'verified': False, 'statuses_count': 5263, 'lang': None, 'contributors_enabled': False, 'is_translator': False, 'is_translation_enabled': False, 'profile_background_color': 'F5F8FA', 'profile_background_image_url': None, 'profile_background_image_url_https': None, 'profile_background_tile': False, 'profile_image_url': 'http://pbs.twimg.com/profile_images/1406651825424535553/3ksHBKTk_normal.jpg', 'profile_image_url_https': 'https://pbs.twimg.com/profile_images/1406651825424535553/3ksHBKTk_normal.jpg', 'profile_banner_url': 'https://pbs.twimg.com/profile_banners/1278166951487889408/1594242117', 'profile_link_color': '1DA1F2', 'profile_sidebar_border_color': 'C0DEED', 'profile_sidebar_fill_color': 'DDEEF6', 'profile_text_color': '333333', 'profile_use_background_image': True, 'has_extended_profile': True, 'default_profile': True, 'default_profile_image': False, 'following': False, 'follow_request_sent': False, 'notifications': False, 'translator_type': 'none', 'withheld_in_countries': []}, 'geo': None, 'coordinates': None, 'place': None, 'contributors': None, 'is_quote_status': False, 'retweet_count': 0, 'favorite_count': 13, 'favorited': False, 'retweeted': False, 'lang': 'en'}, created_at=datetime.datetime(2021, 6, 28, 3, 18, 27), id=1409350454580969478, id_str='1409350454580969478', full_text=\"@laurenboebert You only complain about Covid when it's politically advantageous. You don't give a shit otherwise. \\n\\nYou mocked ppl for wearing masks &amp;  distancing, rarely bothered to wear a mask, bitched about closures, whined about regulations, flouted restrictions, held events and more.\", truncated=False, display_text_range=[15, 293], entities={'hashtags': [], 'symbols': [], 'user_mentions': [{'screen_name': 'laurenboebert', 'name': 'Lauren Boebert', 'id': 1201670995435646976, 'id_str': '1201670995435646976', 'indices': [0, 14]}], 'urls': []}, metadata={'iso_language_code': 'en', 'result_type': 'recent'}, source='Twitter Web App', source_url='https://mobile.twitter.com', in_reply_to_status_id=1409347409151500290, in_reply_to_status_id_str='1409347409151500290', in_reply_to_user_id=1201670995435646976, in_reply_to_user_id_str='1201670995435646976', in_reply_to_screen_name='laurenboebert', author=User(_api=<tweepy.api.API object at 0x7fc9618f0040>, _json={'id': 1278166951487889408, 'id_str': '1278166951487889408', 'name': 'COPersists', 'screen_name': 'COResistor', 'location': '', 'description': 'Proud Coloradan, dog-lover, and blue voter who believes in science and equality. Missing my family, and dreaming of Italy.', 'url': None, 'entities': {'description': {'urls': []}}, 'protected': False, 'followers_count': 299, 'friends_count': 541, 'listed_count': 2, 'created_at': 'Wed Jul 01 03:22:17 +0000 2020', 'favourites_count': 7605, 'utc_offset': None, 'time_zone': None, 'geo_enabled': False, 'verified': False, 'statuses_count': 5263, 'lang': None, 'contributors_enabled': False, 'is_translator': False, 'is_translation_enabled': False, 'profile_background_color': 'F5F8FA', 'profile_background_image_url': None, 'profile_background_image_url_https': None, 'profile_background_tile': False, 'profile_image_url': 'http://pbs.twimg.com/profile_images/1406651825424535553/3ksHBKTk_normal.jpg', 'profile_image_url_https': 'https://pbs.twimg.com/profile_images/1406651825424535553/3ksHBKTk_normal.jpg', 'profile_banner_url': 'https://pbs.twimg.com/profile_banners/1278166951487889408/1594242117', 'profile_link_color': '1DA1F2', 'profile_sidebar_border_color': 'C0DEED', 'profile_sidebar_fill_color': 'DDEEF6', 'profile_text_color': '333333', 'profile_use_background_image': True, 'has_extended_profile': True, 'default_profile': True, 'default_profile_image': False, 'following': False, 'follow_request_sent': False, 'notifications': False, 'translator_type': 'none', 'withheld_in_countries': []}, id=1278166951487889408, id_str='1278166951487889408', name='COPersists', screen_name='COResistor', location='', description='Proud Coloradan, dog-lover, and blue voter who believes in science and equality. Missing my family, and dreaming of Italy.', url=None, entities={'description': {'urls': []}}, protected=False, followers_count=299, friends_count=541, listed_count=2, created_at=datetime.datetime(2020, 7, 1, 3, 22, 17), favourites_count=7605, utc_offset=None, time_zone=None, geo_enabled=False, verified=False, statuses_count=5263, lang=None, contributors_enabled=False, is_translator=False, is_translation_enabled=False, profile_background_color='F5F8FA', profile_background_image_url=None, profile_background_image_url_https=None, profile_background_tile=False, profile_image_url='http://pbs.twimg.com/profile_images/1406651825424535553/3ksHBKTk_normal.jpg', profile_image_url_https='https://pbs.twimg.com/profile_images/1406651825424535553/3ksHBKTk_normal.jpg', profile_banner_url='https://pbs.twimg.com/profile_banners/1278166951487889408/1594242117', profile_link_color='1DA1F2', profile_sidebar_border_color='C0DEED', profile_sidebar_fill_color='DDEEF6', profile_text_color='333333', profile_use_background_image=True, has_extended_profile=True, default_profile=True, default_profile_image=False, following=False, follow_request_sent=False, notifications=False, translator_type='none', withheld_in_countries=[]), user=User(_api=<tweepy.api.API object at 0x7fc9618f0040>, _json={'id': 1278166951487889408, 'id_str': '1278166951487889408', 'name': 'COPersists', 'screen_name': 'COResistor', 'location': '', 'description': 'Proud Coloradan, dog-lover, and blue voter who believes in science and equality. Missing my family, and dreaming of Italy.', 'url': None, 'entities': {'description': {'urls': []}}, 'protected': False, 'followers_count': 299, 'friends_count': 541, 'listed_count': 2, 'created_at': 'Wed Jul 01 03:22:17 +0000 2020', 'favourites_count': 7605, 'utc_offset': None, 'time_zone': None, 'geo_enabled': False, 'verified': False, 'statuses_count': 5263, 'lang': None, 'contributors_enabled': False, 'is_translator': False, 'is_translation_enabled': False, 'profile_background_color': 'F5F8FA', 'profile_background_image_url': None, 'profile_background_image_url_https': None, 'profile_background_tile': False, 'profile_image_url': 'http://pbs.twimg.com/profile_images/1406651825424535553/3ksHBKTk_normal.jpg', 'profile_image_url_https': 'https://pbs.twimg.com/profile_images/1406651825424535553/3ksHBKTk_normal.jpg', 'profile_banner_url': 'https://pbs.twimg.com/profile_banners/1278166951487889408/1594242117', 'profile_link_color': '1DA1F2', 'profile_sidebar_border_color': 'C0DEED', 'profile_sidebar_fill_color': 'DDEEF6', 'profile_text_color': '333333', 'profile_use_background_image': True, 'has_extended_profile': True, 'default_profile': True, 'default_profile_image': False, 'following': False, 'follow_request_sent': False, 'notifications': False, 'translator_type': 'none', 'withheld_in_countries': []}, id=1278166951487889408, id_str='1278166951487889408', name='COPersists', screen_name='COResistor', location='', description='Proud Coloradan, dog-lover, and blue voter who believes in science and equality. Missing my family, and dreaming of Italy.', url=None, entities={'description': {'urls': []}}, protected=False, followers_count=299, friends_count=541, listed_count=2, created_at=datetime.datetime(2020, 7, 1, 3, 22, 17), favourites_count=7605, utc_offset=None, time_zone=None, geo_enabled=False, verified=False, statuses_count=5263, lang=None, contributors_enabled=False, is_translator=False, is_translation_enabled=False, profile_background_color='F5F8FA', profile_background_image_url=None, profile_background_image_url_https=None, profile_background_tile=False, profile_image_url='http://pbs.twimg.com/profile_images/1406651825424535553/3ksHBKTk_normal.jpg', profile_image_url_https='https://pbs.twimg.com/profile_images/1406651825424535553/3ksHBKTk_normal.jpg', profile_banner_url='https://pbs.twimg.com/profile_banners/1278166951487889408/1594242117', profile_link_color='1DA1F2', profile_sidebar_border_color='C0DEED', profile_sidebar_fill_color='DDEEF6', profile_text_color='333333', profile_use_background_image=True, has_extended_profile=True, default_profile=True, default_profile_image=False, following=False, follow_request_sent=False, notifications=False, translator_type='none', withheld_in_countries=[]), geo=None, coordinates=None, place=None, contributors=None, is_quote_status=False, retweet_count=0, favorite_count=13, favorited=False, retweeted=False, lang='en'), retweet_count=0, favorite_count=1, favorited=False, retweeted=False, possibly_sensitive=False, lang='en') \n",
      "\n",
      ".....................................\n",
      "\n",
      "Status(_api=<tweepy.api.API object at 0x7fc9618f0040>, _json={'created_at': 'Wed Jun 30 17:54:18 +0000 2021', 'id': 1410295643353014279, 'id_str': '1410295643353014279', 'full_text': '@fuck_off_korea [This is a pen.] \\n[Japanese TV Corona Virus Theory Debunked by Foreign Residents][The Japanese media run by the right wing groups make the young the ignorant.]=日本報道(Wow!Japan)\\nhttps://t.co/jxvlAtUM22', 'truncated': False, 'display_text_range': [16, 215], 'entities': {'hashtags': [], 'symbols': [], 'user_mentions': [{'screen_name': 'fuck_off_korea', 'name': 'LoveJapan2012', 'id': 839271162, 'id_str': '839271162', 'indices': [0, 15]}], 'urls': [{'url': 'https://t.co/jxvlAtUM22', 'expanded_url': 'https://www.youtube.com/watch?v=qtguUkJ0fWM&t=57s', 'display_url': 'youtube.com/watch?v=qtguUk…', 'indices': [192, 215]}]}, 'metadata': {'iso_language_code': 'en', 'result_type': 'recent'}, 'source': '<a href=\"https://mobile.twitter.com\" rel=\"nofollow\">Twitter Web App</a>', 'in_reply_to_status_id': 1410218978987823104, 'in_reply_to_status_id_str': '1410218978987823104', 'in_reply_to_user_id': 839271162, 'in_reply_to_user_id_str': '839271162', 'in_reply_to_screen_name': 'fuck_off_korea', 'user': {'id': 3995358759, 'id_str': '3995358759', 'name': 'BTS solid Fan', 'screen_name': 'BTS_BP_SFan', 'location': '', 'description': '', 'url': None, 'entities': {'description': {'urls': []}}, 'protected': False, 'followers_count': 61, 'friends_count': 125, 'listed_count': 4, 'created_at': 'Mon Oct 19 15:36:18 +0000 2015', 'favourites_count': 14209, 'utc_offset': None, 'time_zone': None, 'geo_enabled': False, 'verified': False, 'statuses_count': 25270, 'lang': None, 'contributors_enabled': False, 'is_translator': False, 'is_translation_enabled': False, 'profile_background_color': 'C0DEED', 'profile_background_image_url': 'http://abs.twimg.com/images/themes/theme1/bg.png', 'profile_background_image_url_https': 'https://abs.twimg.com/images/themes/theme1/bg.png', 'profile_background_tile': False, 'profile_image_url': 'http://pbs.twimg.com/profile_images/1358760729139163141/Ur6uEjH7_normal.jpg', 'profile_image_url_https': 'https://pbs.twimg.com/profile_images/1358760729139163141/Ur6uEjH7_normal.jpg', 'profile_banner_url': 'https://pbs.twimg.com/profile_banners/3995358759/1445270823', 'profile_link_color': '1DA1F2', 'profile_sidebar_border_color': 'C0DEED', 'profile_sidebar_fill_color': 'DDEEF6', 'profile_text_color': '333333', 'profile_use_background_image': True, 'has_extended_profile': False, 'default_profile': True, 'default_profile_image': False, 'following': False, 'follow_request_sent': False, 'notifications': False, 'translator_type': 'none', 'withheld_in_countries': []}, 'geo': None, 'coordinates': None, 'place': None, 'contributors': None, 'is_quote_status': False, 'retweet_count': 0, 'favorite_count': 0, 'favorited': False, 'retweeted': False, 'possibly_sensitive': True, 'lang': 'en'}, created_at=datetime.datetime(2021, 6, 30, 17, 54, 18), id=1410295643353014279, id_str='1410295643353014279', full_text='@fuck_off_korea [This is a pen.] \\n[Japanese TV Corona Virus Theory Debunked by Foreign Residents][The Japanese media run by the right wing groups make the young the ignorant.]=日本報道(Wow!Japan)\\nhttps://t.co/jxvlAtUM22', truncated=False, display_text_range=[16, 215], entities={'hashtags': [], 'symbols': [], 'user_mentions': [{'screen_name': 'fuck_off_korea', 'name': 'LoveJapan2012', 'id': 839271162, 'id_str': '839271162', 'indices': [0, 15]}], 'urls': [{'url': 'https://t.co/jxvlAtUM22', 'expanded_url': 'https://www.youtube.com/watch?v=qtguUkJ0fWM&t=57s', 'display_url': 'youtube.com/watch?v=qtguUk…', 'indices': [192, 215]}]}, metadata={'iso_language_code': 'en', 'result_type': 'recent'}, source='Twitter Web App', source_url='https://mobile.twitter.com', in_reply_to_status_id=1410218978987823104, in_reply_to_status_id_str='1410218978987823104', in_reply_to_user_id=839271162, in_reply_to_user_id_str='839271162', in_reply_to_screen_name='fuck_off_korea', author=User(_api=<tweepy.api.API object at 0x7fc9618f0040>, _json={'id': 3995358759, 'id_str': '3995358759', 'name': 'BTS solid Fan', 'screen_name': 'BTS_BP_SFan', 'location': '', 'description': '', 'url': None, 'entities': {'description': {'urls': []}}, 'protected': False, 'followers_count': 61, 'friends_count': 125, 'listed_count': 4, 'created_at': 'Mon Oct 19 15:36:18 +0000 2015', 'favourites_count': 14209, 'utc_offset': None, 'time_zone': None, 'geo_enabled': False, 'verified': False, 'statuses_count': 25270, 'lang': None, 'contributors_enabled': False, 'is_translator': False, 'is_translation_enabled': False, 'profile_background_color': 'C0DEED', 'profile_background_image_url': 'http://abs.twimg.com/images/themes/theme1/bg.png', 'profile_background_image_url_https': 'https://abs.twimg.com/images/themes/theme1/bg.png', 'profile_background_tile': False, 'profile_image_url': 'http://pbs.twimg.com/profile_images/1358760729139163141/Ur6uEjH7_normal.jpg', 'profile_image_url_https': 'https://pbs.twimg.com/profile_images/1358760729139163141/Ur6uEjH7_normal.jpg', 'profile_banner_url': 'https://pbs.twimg.com/profile_banners/3995358759/1445270823', 'profile_link_color': '1DA1F2', 'profile_sidebar_border_color': 'C0DEED', 'profile_sidebar_fill_color': 'DDEEF6', 'profile_text_color': '333333', 'profile_use_background_image': True, 'has_extended_profile': False, 'default_profile': True, 'default_profile_image': False, 'following': False, 'follow_request_sent': False, 'notifications': False, 'translator_type': 'none', 'withheld_in_countries': []}, id=3995358759, id_str='3995358759', name='BTS solid Fan', screen_name='BTS_BP_SFan', location='', description='', url=None, entities={'description': {'urls': []}}, protected=False, followers_count=61, friends_count=125, listed_count=4, created_at=datetime.datetime(2015, 10, 19, 15, 36, 18), favourites_count=14209, utc_offset=None, time_zone=None, geo_enabled=False, verified=False, statuses_count=25270, lang=None, contributors_enabled=False, is_translator=False, is_translation_enabled=False, profile_background_color='C0DEED', profile_background_image_url='http://abs.twimg.com/images/themes/theme1/bg.png', profile_background_image_url_https='https://abs.twimg.com/images/themes/theme1/bg.png', profile_background_tile=False, profile_image_url='http://pbs.twimg.com/profile_images/1358760729139163141/Ur6uEjH7_normal.jpg', profile_image_url_https='https://pbs.twimg.com/profile_images/1358760729139163141/Ur6uEjH7_normal.jpg', profile_banner_url='https://pbs.twimg.com/profile_banners/3995358759/1445270823', profile_link_color='1DA1F2', profile_sidebar_border_color='C0DEED', profile_sidebar_fill_color='DDEEF6', profile_text_color='333333', profile_use_background_image=True, has_extended_profile=False, default_profile=True, default_profile_image=False, following=False, follow_request_sent=False, notifications=False, translator_type='none', withheld_in_countries=[]), user=User(_api=<tweepy.api.API object at 0x7fc9618f0040>, _json={'id': 3995358759, 'id_str': '3995358759', 'name': 'BTS solid Fan', 'screen_name': 'BTS_BP_SFan', 'location': '', 'description': '', 'url': None, 'entities': {'description': {'urls': []}}, 'protected': False, 'followers_count': 61, 'friends_count': 125, 'listed_count': 4, 'created_at': 'Mon Oct 19 15:36:18 +0000 2015', 'favourites_count': 14209, 'utc_offset': None, 'time_zone': None, 'geo_enabled': False, 'verified': False, 'statuses_count': 25270, 'lang': None, 'contributors_enabled': False, 'is_translator': False, 'is_translation_enabled': False, 'profile_background_color': 'C0DEED', 'profile_background_image_url': 'http://abs.twimg.com/images/themes/theme1/bg.png', 'profile_background_image_url_https': 'https://abs.twimg.com/images/themes/theme1/bg.png', 'profile_background_tile': False, 'profile_image_url': 'http://pbs.twimg.com/profile_images/1358760729139163141/Ur6uEjH7_normal.jpg', 'profile_image_url_https': 'https://pbs.twimg.com/profile_images/1358760729139163141/Ur6uEjH7_normal.jpg', 'profile_banner_url': 'https://pbs.twimg.com/profile_banners/3995358759/1445270823', 'profile_link_color': '1DA1F2', 'profile_sidebar_border_color': 'C0DEED', 'profile_sidebar_fill_color': 'DDEEF6', 'profile_text_color': '333333', 'profile_use_background_image': True, 'has_extended_profile': False, 'default_profile': True, 'default_profile_image': False, 'following': False, 'follow_request_sent': False, 'notifications': False, 'translator_type': 'none', 'withheld_in_countries': []}, id=3995358759, id_str='3995358759', name='BTS solid Fan', screen_name='BTS_BP_SFan', location='', description='', url=None, entities={'description': {'urls': []}}, protected=False, followers_count=61, friends_count=125, listed_count=4, created_at=datetime.datetime(2015, 10, 19, 15, 36, 18), favourites_count=14209, utc_offset=None, time_zone=None, geo_enabled=False, verified=False, statuses_count=25270, lang=None, contributors_enabled=False, is_translator=False, is_translation_enabled=False, profile_background_color='C0DEED', profile_background_image_url='http://abs.twimg.com/images/themes/theme1/bg.png', profile_background_image_url_https='https://abs.twimg.com/images/themes/theme1/bg.png', profile_background_tile=False, profile_image_url='http://pbs.twimg.com/profile_images/1358760729139163141/Ur6uEjH7_normal.jpg', profile_image_url_https='https://pbs.twimg.com/profile_images/1358760729139163141/Ur6uEjH7_normal.jpg', profile_banner_url='https://pbs.twimg.com/profile_banners/3995358759/1445270823', profile_link_color='1DA1F2', profile_sidebar_border_color='C0DEED', profile_sidebar_fill_color='DDEEF6', profile_text_color='333333', profile_use_background_image=True, has_extended_profile=False, default_profile=True, default_profile_image=False, following=False, follow_request_sent=False, notifications=False, translator_type='none', withheld_in_countries=[]), geo=None, coordinates=None, place=None, contributors=None, is_quote_status=False, retweet_count=0, favorite_count=0, favorited=False, retweeted=False, possibly_sensitive=True, lang='en') \n",
      "\n",
      ".....................................\n",
      "\n",
      "Status(_api=<tweepy.api.API object at 0x7fc9618f0040>, _json={'created_at': 'Wed Jun 30 17:53:41 +0000 2021', 'id': 1410295489510129672, 'id_str': '1410295489510129672', 'full_text': '@SteveWYwg @LisbetBiden @sdesla Flu vaccines have been in development for over 90 years and while they are mostly safe, but require yearly doses and it is hard to say whether they do more good than harm.  Previous corona virus vaccines were extremely unsafe, the ones rushed into EUA are safer but by how much.', 'truncated': False, 'display_text_range': [32, 310], 'entities': {'hashtags': [], 'symbols': [], 'user_mentions': [{'screen_name': 'SteveWYwg', 'name': 'Steve W 🇨🇦 🇺🇸', 'id': 264336511, 'id_str': '264336511', 'indices': [0, 10]}, {'screen_name': 'LisbetBiden', 'name': 'Lisbet Croissant', 'id': 1009399303771688960, 'id_str': '1009399303771688960', 'indices': [11, 23]}, {'screen_name': 'sdesla', 'name': 'SugarCookie ♥️', 'id': 185508695, 'id_str': '185508695', 'indices': [24, 31]}], 'urls': []}, 'metadata': {'iso_language_code': 'en', 'result_type': 'recent'}, 'source': '<a href=\"https://mobile.twitter.com\" rel=\"nofollow\">Twitter Web App</a>', 'in_reply_to_status_id': 1410293558830116878, 'in_reply_to_status_id_str': '1410293558830116878', 'in_reply_to_user_id': 264336511, 'in_reply_to_user_id_str': '264336511', 'in_reply_to_screen_name': 'SteveWYwg', 'user': {'id': 123324789, 'id_str': '123324789', 'name': '120 yrs on twatter', 'screen_name': 'UgandaTwatter', 'location': 'Uganda', 'description': \"Ahead of the Ugandan election, we're hearing reports that Internet service providers are being ordered to block social media and messaging apps.\\n \\nWe…condemn\", 'url': None, 'entities': {'description': {'urls': []}}, 'protected': False, 'followers_count': 229, 'friends_count': 507, 'listed_count': 9, 'created_at': 'Mon Mar 15 18:44:14 +0000 2010', 'favourites_count': 20246, 'utc_offset': None, 'time_zone': None, 'geo_enabled': True, 'verified': False, 'statuses_count': 9366, 'lang': None, 'contributors_enabled': False, 'is_translator': False, 'is_translation_enabled': False, 'profile_background_color': 'C0DEED', 'profile_background_image_url': 'http://abs.twimg.com/images/themes/theme1/bg.png', 'profile_background_image_url_https': 'https://abs.twimg.com/images/themes/theme1/bg.png', 'profile_background_tile': False, 'profile_image_url': 'http://pbs.twimg.com/profile_images/1350245189869309952/CGXLOHPZ_normal.jpg', 'profile_image_url_https': 'https://pbs.twimg.com/profile_images/1350245189869309952/CGXLOHPZ_normal.jpg', 'profile_banner_url': 'https://pbs.twimg.com/profile_banners/123324789/1624640386', 'profile_link_color': '1DA1F2', 'profile_sidebar_border_color': 'C0DEED', 'profile_sidebar_fill_color': 'DDEEF6', 'profile_text_color': '333333', 'profile_use_background_image': True, 'has_extended_profile': False, 'default_profile': True, 'default_profile_image': False, 'following': False, 'follow_request_sent': False, 'notifications': False, 'translator_type': 'none', 'withheld_in_countries': []}, 'geo': None, 'coordinates': None, 'place': None, 'contributors': None, 'is_quote_status': False, 'retweet_count': 0, 'favorite_count': 0, 'favorited': False, 'retweeted': False, 'lang': 'en'}, created_at=datetime.datetime(2021, 6, 30, 17, 53, 41), id=1410295489510129672, id_str='1410295489510129672', full_text='@SteveWYwg @LisbetBiden @sdesla Flu vaccines have been in development for over 90 years and while they are mostly safe, but require yearly doses and it is hard to say whether they do more good than harm.  Previous corona virus vaccines were extremely unsafe, the ones rushed into EUA are safer but by how much.', truncated=False, display_text_range=[32, 310], entities={'hashtags': [], 'symbols': [], 'user_mentions': [{'screen_name': 'SteveWYwg', 'name': 'Steve W 🇨🇦 🇺🇸', 'id': 264336511, 'id_str': '264336511', 'indices': [0, 10]}, {'screen_name': 'LisbetBiden', 'name': 'Lisbet Croissant', 'id': 1009399303771688960, 'id_str': '1009399303771688960', 'indices': [11, 23]}, {'screen_name': 'sdesla', 'name': 'SugarCookie ♥️', 'id': 185508695, 'id_str': '185508695', 'indices': [24, 31]}], 'urls': []}, metadata={'iso_language_code': 'en', 'result_type': 'recent'}, source='Twitter Web App', source_url='https://mobile.twitter.com', in_reply_to_status_id=1410293558830116878, in_reply_to_status_id_str='1410293558830116878', in_reply_to_user_id=264336511, in_reply_to_user_id_str='264336511', in_reply_to_screen_name='SteveWYwg', author=User(_api=<tweepy.api.API object at 0x7fc9618f0040>, _json={'id': 123324789, 'id_str': '123324789', 'name': '120 yrs on twatter', 'screen_name': 'UgandaTwatter', 'location': 'Uganda', 'description': \"Ahead of the Ugandan election, we're hearing reports that Internet service providers are being ordered to block social media and messaging apps.\\n \\nWe…condemn\", 'url': None, 'entities': {'description': {'urls': []}}, 'protected': False, 'followers_count': 229, 'friends_count': 507, 'listed_count': 9, 'created_at': 'Mon Mar 15 18:44:14 +0000 2010', 'favourites_count': 20246, 'utc_offset': None, 'time_zone': None, 'geo_enabled': True, 'verified': False, 'statuses_count': 9366, 'lang': None, 'contributors_enabled': False, 'is_translator': False, 'is_translation_enabled': False, 'profile_background_color': 'C0DEED', 'profile_background_image_url': 'http://abs.twimg.com/images/themes/theme1/bg.png', 'profile_background_image_url_https': 'https://abs.twimg.com/images/themes/theme1/bg.png', 'profile_background_tile': False, 'profile_image_url': 'http://pbs.twimg.com/profile_images/1350245189869309952/CGXLOHPZ_normal.jpg', 'profile_image_url_https': 'https://pbs.twimg.com/profile_images/1350245189869309952/CGXLOHPZ_normal.jpg', 'profile_banner_url': 'https://pbs.twimg.com/profile_banners/123324789/1624640386', 'profile_link_color': '1DA1F2', 'profile_sidebar_border_color': 'C0DEED', 'profile_sidebar_fill_color': 'DDEEF6', 'profile_text_color': '333333', 'profile_use_background_image': True, 'has_extended_profile': False, 'default_profile': True, 'default_profile_image': False, 'following': False, 'follow_request_sent': False, 'notifications': False, 'translator_type': 'none', 'withheld_in_countries': []}, id=123324789, id_str='123324789', name='120 yrs on twatter', screen_name='UgandaTwatter', location='Uganda', description=\"Ahead of the Ugandan election, we're hearing reports that Internet service providers are being ordered to block social media and messaging apps.\\n \\nWe…condemn\", url=None, entities={'description': {'urls': []}}, protected=False, followers_count=229, friends_count=507, listed_count=9, created_at=datetime.datetime(2010, 3, 15, 18, 44, 14), favourites_count=20246, utc_offset=None, time_zone=None, geo_enabled=True, verified=False, statuses_count=9366, lang=None, contributors_enabled=False, is_translator=False, is_translation_enabled=False, profile_background_color='C0DEED', profile_background_image_url='http://abs.twimg.com/images/themes/theme1/bg.png', profile_background_image_url_https='https://abs.twimg.com/images/themes/theme1/bg.png', profile_background_tile=False, profile_image_url='http://pbs.twimg.com/profile_images/1350245189869309952/CGXLOHPZ_normal.jpg', profile_image_url_https='https://pbs.twimg.com/profile_images/1350245189869309952/CGXLOHPZ_normal.jpg', profile_banner_url='https://pbs.twimg.com/profile_banners/123324789/1624640386', profile_link_color='1DA1F2', profile_sidebar_border_color='C0DEED', profile_sidebar_fill_color='DDEEF6', profile_text_color='333333', profile_use_background_image=True, has_extended_profile=False, default_profile=True, default_profile_image=False, following=False, follow_request_sent=False, notifications=False, translator_type='none', withheld_in_countries=[]), user=User(_api=<tweepy.api.API object at 0x7fc9618f0040>, _json={'id': 123324789, 'id_str': '123324789', 'name': '120 yrs on twatter', 'screen_name': 'UgandaTwatter', 'location': 'Uganda', 'description': \"Ahead of the Ugandan election, we're hearing reports that Internet service providers are being ordered to block social media and messaging apps.\\n \\nWe…condemn\", 'url': None, 'entities': {'description': {'urls': []}}, 'protected': False, 'followers_count': 229, 'friends_count': 507, 'listed_count': 9, 'created_at': 'Mon Mar 15 18:44:14 +0000 2010', 'favourites_count': 20246, 'utc_offset': None, 'time_zone': None, 'geo_enabled': True, 'verified': False, 'statuses_count': 9366, 'lang': None, 'contributors_enabled': False, 'is_translator': False, 'is_translation_enabled': False, 'profile_background_color': 'C0DEED', 'profile_background_image_url': 'http://abs.twimg.com/images/themes/theme1/bg.png', 'profile_background_image_url_https': 'https://abs.twimg.com/images/themes/theme1/bg.png', 'profile_background_tile': False, 'profile_image_url': 'http://pbs.twimg.com/profile_images/1350245189869309952/CGXLOHPZ_normal.jpg', 'profile_image_url_https': 'https://pbs.twimg.com/profile_images/1350245189869309952/CGXLOHPZ_normal.jpg', 'profile_banner_url': 'https://pbs.twimg.com/profile_banners/123324789/1624640386', 'profile_link_color': '1DA1F2', 'profile_sidebar_border_color': 'C0DEED', 'profile_sidebar_fill_color': 'DDEEF6', 'profile_text_color': '333333', 'profile_use_background_image': True, 'has_extended_profile': False, 'default_profile': True, 'default_profile_image': False, 'following': False, 'follow_request_sent': False, 'notifications': False, 'translator_type': 'none', 'withheld_in_countries': []}, id=123324789, id_str='123324789', name='120 yrs on twatter', screen_name='UgandaTwatter', location='Uganda', description=\"Ahead of the Ugandan election, we're hearing reports that Internet service providers are being ordered to block social media and messaging apps.\\n \\nWe…condemn\", url=None, entities={'description': {'urls': []}}, protected=False, followers_count=229, friends_count=507, listed_count=9, created_at=datetime.datetime(2010, 3, 15, 18, 44, 14), favourites_count=20246, utc_offset=None, time_zone=None, geo_enabled=True, verified=False, statuses_count=9366, lang=None, contributors_enabled=False, is_translator=False, is_translation_enabled=False, profile_background_color='C0DEED', profile_background_image_url='http://abs.twimg.com/images/themes/theme1/bg.png', profile_background_image_url_https='https://abs.twimg.com/images/themes/theme1/bg.png', profile_background_tile=False, profile_image_url='http://pbs.twimg.com/profile_images/1350245189869309952/CGXLOHPZ_normal.jpg', profile_image_url_https='https://pbs.twimg.com/profile_images/1350245189869309952/CGXLOHPZ_normal.jpg', profile_banner_url='https://pbs.twimg.com/profile_banners/123324789/1624640386', profile_link_color='1DA1F2', profile_sidebar_border_color='C0DEED', profile_sidebar_fill_color='DDEEF6', profile_text_color='333333', profile_use_background_image=True, has_extended_profile=False, default_profile=True, default_profile_image=False, following=False, follow_request_sent=False, notifications=False, translator_type='none', withheld_in_countries=[]), geo=None, coordinates=None, place=None, contributors=None, is_quote_status=False, retweet_count=0, favorite_count=0, favorited=False, retweeted=False, lang='en') \n",
      "\n",
      ".....................................\n",
      "\n",
      "Status(_api=<tweepy.api.API object at 0x7fc9618f0040>, _json={'created_at': 'Wed Jun 30 17:51:44 +0000 2021', 'id': 1410294999942504448, 'id_str': '1410294999942504448', 'full_text': 'I understand that many immunocompromised people receive no benefit from the vaccine because their body cannot make antibodies to fight the corona virus', 'truncated': False, 'display_text_range': [0, 151], 'entities': {'hashtags': [], 'symbols': [], 'user_mentions': [], 'urls': []}, 'metadata': {'iso_language_code': 'en', 'result_type': 'recent'}, 'source': '<a href=\"https://mobile.twitter.com\" rel=\"nofollow\">Twitter Web App</a>', 'in_reply_to_status_id': None, 'in_reply_to_status_id_str': None, 'in_reply_to_user_id': None, 'in_reply_to_user_id_str': None, 'in_reply_to_screen_name': None, 'user': {'id': 845162538, 'id_str': '845162538', 'name': 'Nik', 'screen_name': 'nikleetweets', 'location': '', 'description': '', 'url': None, 'entities': {'description': {'urls': []}}, 'protected': False, 'followers_count': 5, 'friends_count': 70, 'listed_count': 0, 'created_at': 'Tue Sep 25 09:08:48 +0000 2012', 'favourites_count': 56, 'utc_offset': None, 'time_zone': None, 'geo_enabled': False, 'verified': False, 'statuses_count': 486, 'lang': None, 'contributors_enabled': False, 'is_translator': False, 'is_translation_enabled': False, 'profile_background_color': 'C0DEED', 'profile_background_image_url': 'http://abs.twimg.com/images/themes/theme1/bg.png', 'profile_background_image_url_https': 'https://abs.twimg.com/images/themes/theme1/bg.png', 'profile_background_tile': False, 'profile_image_url': 'http://pbs.twimg.com/profile_images/1400207555087933442/j1nWXilY_normal.jpg', 'profile_image_url_https': 'https://pbs.twimg.com/profile_images/1400207555087933442/j1nWXilY_normal.jpg', 'profile_banner_url': 'https://pbs.twimg.com/profile_banners/845162538/1622600908', 'profile_link_color': '1DA1F2', 'profile_sidebar_border_color': 'C0DEED', 'profile_sidebar_fill_color': 'DDEEF6', 'profile_text_color': '333333', 'profile_use_background_image': True, 'has_extended_profile': False, 'default_profile': True, 'default_profile_image': False, 'following': False, 'follow_request_sent': False, 'notifications': False, 'translator_type': 'none', 'withheld_in_countries': []}, 'geo': None, 'coordinates': None, 'place': None, 'contributors': None, 'is_quote_status': False, 'retweet_count': 0, 'favorite_count': 0, 'favorited': False, 'retweeted': False, 'lang': 'en'}, created_at=datetime.datetime(2021, 6, 30, 17, 51, 44), id=1410294999942504448, id_str='1410294999942504448', full_text='I understand that many immunocompromised people receive no benefit from the vaccine because their body cannot make antibodies to fight the corona virus', truncated=False, display_text_range=[0, 151], entities={'hashtags': [], 'symbols': [], 'user_mentions': [], 'urls': []}, metadata={'iso_language_code': 'en', 'result_type': 'recent'}, source='Twitter Web App', source_url='https://mobile.twitter.com', in_reply_to_status_id=None, in_reply_to_status_id_str=None, in_reply_to_user_id=None, in_reply_to_user_id_str=None, in_reply_to_screen_name=None, author=User(_api=<tweepy.api.API object at 0x7fc9618f0040>, _json={'id': 845162538, 'id_str': '845162538', 'name': 'Nik', 'screen_name': 'nikleetweets', 'location': '', 'description': '', 'url': None, 'entities': {'description': {'urls': []}}, 'protected': False, 'followers_count': 5, 'friends_count': 70, 'listed_count': 0, 'created_at': 'Tue Sep 25 09:08:48 +0000 2012', 'favourites_count': 56, 'utc_offset': None, 'time_zone': None, 'geo_enabled': False, 'verified': False, 'statuses_count': 486, 'lang': None, 'contributors_enabled': False, 'is_translator': False, 'is_translation_enabled': False, 'profile_background_color': 'C0DEED', 'profile_background_image_url': 'http://abs.twimg.com/images/themes/theme1/bg.png', 'profile_background_image_url_https': 'https://abs.twimg.com/images/themes/theme1/bg.png', 'profile_background_tile': False, 'profile_image_url': 'http://pbs.twimg.com/profile_images/1400207555087933442/j1nWXilY_normal.jpg', 'profile_image_url_https': 'https://pbs.twimg.com/profile_images/1400207555087933442/j1nWXilY_normal.jpg', 'profile_banner_url': 'https://pbs.twimg.com/profile_banners/845162538/1622600908', 'profile_link_color': '1DA1F2', 'profile_sidebar_border_color': 'C0DEED', 'profile_sidebar_fill_color': 'DDEEF6', 'profile_text_color': '333333', 'profile_use_background_image': True, 'has_extended_profile': False, 'default_profile': True, 'default_profile_image': False, 'following': False, 'follow_request_sent': False, 'notifications': False, 'translator_type': 'none', 'withheld_in_countries': []}, id=845162538, id_str='845162538', name='Nik', screen_name='nikleetweets', location='', description='', url=None, entities={'description': {'urls': []}}, protected=False, followers_count=5, friends_count=70, listed_count=0, created_at=datetime.datetime(2012, 9, 25, 9, 8, 48), favourites_count=56, utc_offset=None, time_zone=None, geo_enabled=False, verified=False, statuses_count=486, lang=None, contributors_enabled=False, is_translator=False, is_translation_enabled=False, profile_background_color='C0DEED', profile_background_image_url='http://abs.twimg.com/images/themes/theme1/bg.png', profile_background_image_url_https='https://abs.twimg.com/images/themes/theme1/bg.png', profile_background_tile=False, profile_image_url='http://pbs.twimg.com/profile_images/1400207555087933442/j1nWXilY_normal.jpg', profile_image_url_https='https://pbs.twimg.com/profile_images/1400207555087933442/j1nWXilY_normal.jpg', profile_banner_url='https://pbs.twimg.com/profile_banners/845162538/1622600908', profile_link_color='1DA1F2', profile_sidebar_border_color='C0DEED', profile_sidebar_fill_color='DDEEF6', profile_text_color='333333', profile_use_background_image=True, has_extended_profile=False, default_profile=True, default_profile_image=False, following=False, follow_request_sent=False, notifications=False, translator_type='none', withheld_in_countries=[]), user=User(_api=<tweepy.api.API object at 0x7fc9618f0040>, _json={'id': 845162538, 'id_str': '845162538', 'name': 'Nik', 'screen_name': 'nikleetweets', 'location': '', 'description': '', 'url': None, 'entities': {'description': {'urls': []}}, 'protected': False, 'followers_count': 5, 'friends_count': 70, 'listed_count': 0, 'created_at': 'Tue Sep 25 09:08:48 +0000 2012', 'favourites_count': 56, 'utc_offset': None, 'time_zone': None, 'geo_enabled': False, 'verified': False, 'statuses_count': 486, 'lang': None, 'contributors_enabled': False, 'is_translator': False, 'is_translation_enabled': False, 'profile_background_color': 'C0DEED', 'profile_background_image_url': 'http://abs.twimg.com/images/themes/theme1/bg.png', 'profile_background_image_url_https': 'https://abs.twimg.com/images/themes/theme1/bg.png', 'profile_background_tile': False, 'profile_image_url': 'http://pbs.twimg.com/profile_images/1400207555087933442/j1nWXilY_normal.jpg', 'profile_image_url_https': 'https://pbs.twimg.com/profile_images/1400207555087933442/j1nWXilY_normal.jpg', 'profile_banner_url': 'https://pbs.twimg.com/profile_banners/845162538/1622600908', 'profile_link_color': '1DA1F2', 'profile_sidebar_border_color': 'C0DEED', 'profile_sidebar_fill_color': 'DDEEF6', 'profile_text_color': '333333', 'profile_use_background_image': True, 'has_extended_profile': False, 'default_profile': True, 'default_profile_image': False, 'following': False, 'follow_request_sent': False, 'notifications': False, 'translator_type': 'none', 'withheld_in_countries': []}, id=845162538, id_str='845162538', name='Nik', screen_name='nikleetweets', location='', description='', url=None, entities={'description': {'urls': []}}, protected=False, followers_count=5, friends_count=70, listed_count=0, created_at=datetime.datetime(2012, 9, 25, 9, 8, 48), favourites_count=56, utc_offset=None, time_zone=None, geo_enabled=False, verified=False, statuses_count=486, lang=None, contributors_enabled=False, is_translator=False, is_translation_enabled=False, profile_background_color='C0DEED', profile_background_image_url='http://abs.twimg.com/images/themes/theme1/bg.png', profile_background_image_url_https='https://abs.twimg.com/images/themes/theme1/bg.png', profile_background_tile=False, profile_image_url='http://pbs.twimg.com/profile_images/1400207555087933442/j1nWXilY_normal.jpg', profile_image_url_https='https://pbs.twimg.com/profile_images/1400207555087933442/j1nWXilY_normal.jpg', profile_banner_url='https://pbs.twimg.com/profile_banners/845162538/1622600908', profile_link_color='1DA1F2', profile_sidebar_border_color='C0DEED', profile_sidebar_fill_color='DDEEF6', profile_text_color='333333', profile_use_background_image=True, has_extended_profile=False, default_profile=True, default_profile_image=False, following=False, follow_request_sent=False, notifications=False, translator_type='none', withheld_in_countries=[]), geo=None, coordinates=None, place=None, contributors=None, is_quote_status=False, retweet_count=0, favorite_count=0, favorited=False, retweeted=False, lang='en') \n",
      "\n",
      ".....................................\n",
      "\n",
      "Status(_api=<tweepy.api.API object at 0x7fc9618f0040>, _json={'created_at': 'Wed Jun 30 17:51:22 +0000 2021', 'id': 1410294905990230021, 'id_str': '1410294905990230021', 'full_text': '@MarketWatch Didnt read thw article but did bill get released because of corona virus delta variant?', 'truncated': False, 'display_text_range': [13, 100], 'entities': {'hashtags': [], 'symbols': [], 'user_mentions': [{'screen_name': 'MarketWatch', 'name': 'MarketWatch', 'id': 624413, 'id_str': '624413', 'indices': [0, 12]}], 'urls': []}, 'metadata': {'iso_language_code': 'en', 'result_type': 'recent'}, 'source': '<a href=\"http://twitter.com/download/iphone\" rel=\"nofollow\">Twitter for iPhone</a>', 'in_reply_to_status_id': 1410293961143599109, 'in_reply_to_status_id_str': '1410293961143599109', 'in_reply_to_user_id': 624413, 'in_reply_to_user_id_str': '624413', 'in_reply_to_screen_name': 'MarketWatch', 'user': {'id': 33083872, 'id_str': '33083872', 'name': 'J Le', 'screen_name': 'daxemperor', 'location': 'New York, NY', 'description': '', 'url': None, 'entities': {'description': {'urls': []}}, 'protected': False, 'followers_count': 46, 'friends_count': 291, 'listed_count': 1, 'created_at': 'Sun Apr 19 01:33:23 +0000 2009', 'favourites_count': 112, 'utc_offset': None, 'time_zone': None, 'geo_enabled': False, 'verified': False, 'statuses_count': 272, 'lang': None, 'contributors_enabled': False, 'is_translator': False, 'is_translation_enabled': False, 'profile_background_color': 'C0DEED', 'profile_background_image_url': 'http://abs.twimg.com/images/themes/theme1/bg.png', 'profile_background_image_url_https': 'https://abs.twimg.com/images/themes/theme1/bg.png', 'profile_background_tile': False, 'profile_image_url': 'http://pbs.twimg.com/profile_images/493806329920622592/JY1uLsju_normal.jpeg', 'profile_image_url_https': 'https://pbs.twimg.com/profile_images/493806329920622592/JY1uLsju_normal.jpeg', 'profile_banner_url': 'https://pbs.twimg.com/profile_banners/33083872/1372632059', 'profile_link_color': '1DA1F2', 'profile_sidebar_border_color': 'C0DEED', 'profile_sidebar_fill_color': 'DDEEF6', 'profile_text_color': '333333', 'profile_use_background_image': True, 'has_extended_profile': False, 'default_profile': True, 'default_profile_image': False, 'following': False, 'follow_request_sent': False, 'notifications': False, 'translator_type': 'none', 'withheld_in_countries': []}, 'geo': None, 'coordinates': None, 'place': None, 'contributors': None, 'is_quote_status': False, 'retweet_count': 0, 'favorite_count': 0, 'favorited': False, 'retweeted': False, 'lang': 'en'}, created_at=datetime.datetime(2021, 6, 30, 17, 51, 22), id=1410294905990230021, id_str='1410294905990230021', full_text='@MarketWatch Didnt read thw article but did bill get released because of corona virus delta variant?', truncated=False, display_text_range=[13, 100], entities={'hashtags': [], 'symbols': [], 'user_mentions': [{'screen_name': 'MarketWatch', 'name': 'MarketWatch', 'id': 624413, 'id_str': '624413', 'indices': [0, 12]}], 'urls': []}, metadata={'iso_language_code': 'en', 'result_type': 'recent'}, source='Twitter for iPhone', source_url='http://twitter.com/download/iphone', in_reply_to_status_id=1410293961143599109, in_reply_to_status_id_str='1410293961143599109', in_reply_to_user_id=624413, in_reply_to_user_id_str='624413', in_reply_to_screen_name='MarketWatch', author=User(_api=<tweepy.api.API object at 0x7fc9618f0040>, _json={'id': 33083872, 'id_str': '33083872', 'name': 'J Le', 'screen_name': 'daxemperor', 'location': 'New York, NY', 'description': '', 'url': None, 'entities': {'description': {'urls': []}}, 'protected': False, 'followers_count': 46, 'friends_count': 291, 'listed_count': 1, 'created_at': 'Sun Apr 19 01:33:23 +0000 2009', 'favourites_count': 112, 'utc_offset': None, 'time_zone': None, 'geo_enabled': False, 'verified': False, 'statuses_count': 272, 'lang': None, 'contributors_enabled': False, 'is_translator': False, 'is_translation_enabled': False, 'profile_background_color': 'C0DEED', 'profile_background_image_url': 'http://abs.twimg.com/images/themes/theme1/bg.png', 'profile_background_image_url_https': 'https://abs.twimg.com/images/themes/theme1/bg.png', 'profile_background_tile': False, 'profile_image_url': 'http://pbs.twimg.com/profile_images/493806329920622592/JY1uLsju_normal.jpeg', 'profile_image_url_https': 'https://pbs.twimg.com/profile_images/493806329920622592/JY1uLsju_normal.jpeg', 'profile_banner_url': 'https://pbs.twimg.com/profile_banners/33083872/1372632059', 'profile_link_color': '1DA1F2', 'profile_sidebar_border_color': 'C0DEED', 'profile_sidebar_fill_color': 'DDEEF6', 'profile_text_color': '333333', 'profile_use_background_image': True, 'has_extended_profile': False, 'default_profile': True, 'default_profile_image': False, 'following': False, 'follow_request_sent': False, 'notifications': False, 'translator_type': 'none', 'withheld_in_countries': []}, id=33083872, id_str='33083872', name='J Le', screen_name='daxemperor', location='New York, NY', description='', url=None, entities={'description': {'urls': []}}, protected=False, followers_count=46, friends_count=291, listed_count=1, created_at=datetime.datetime(2009, 4, 19, 1, 33, 23), favourites_count=112, utc_offset=None, time_zone=None, geo_enabled=False, verified=False, statuses_count=272, lang=None, contributors_enabled=False, is_translator=False, is_translation_enabled=False, profile_background_color='C0DEED', profile_background_image_url='http://abs.twimg.com/images/themes/theme1/bg.png', profile_background_image_url_https='https://abs.twimg.com/images/themes/theme1/bg.png', profile_background_tile=False, profile_image_url='http://pbs.twimg.com/profile_images/493806329920622592/JY1uLsju_normal.jpeg', profile_image_url_https='https://pbs.twimg.com/profile_images/493806329920622592/JY1uLsju_normal.jpeg', profile_banner_url='https://pbs.twimg.com/profile_banners/33083872/1372632059', profile_link_color='1DA1F2', profile_sidebar_border_color='C0DEED', profile_sidebar_fill_color='DDEEF6', profile_text_color='333333', profile_use_background_image=True, has_extended_profile=False, default_profile=True, default_profile_image=False, following=False, follow_request_sent=False, notifications=False, translator_type='none', withheld_in_countries=[]), user=User(_api=<tweepy.api.API object at 0x7fc9618f0040>, _json={'id': 33083872, 'id_str': '33083872', 'name': 'J Le', 'screen_name': 'daxemperor', 'location': 'New York, NY', 'description': '', 'url': None, 'entities': {'description': {'urls': []}}, 'protected': False, 'followers_count': 46, 'friends_count': 291, 'listed_count': 1, 'created_at': 'Sun Apr 19 01:33:23 +0000 2009', 'favourites_count': 112, 'utc_offset': None, 'time_zone': None, 'geo_enabled': False, 'verified': False, 'statuses_count': 272, 'lang': None, 'contributors_enabled': False, 'is_translator': False, 'is_translation_enabled': False, 'profile_background_color': 'C0DEED', 'profile_background_image_url': 'http://abs.twimg.com/images/themes/theme1/bg.png', 'profile_background_image_url_https': 'https://abs.twimg.com/images/themes/theme1/bg.png', 'profile_background_tile': False, 'profile_image_url': 'http://pbs.twimg.com/profile_images/493806329920622592/JY1uLsju_normal.jpeg', 'profile_image_url_https': 'https://pbs.twimg.com/profile_images/493806329920622592/JY1uLsju_normal.jpeg', 'profile_banner_url': 'https://pbs.twimg.com/profile_banners/33083872/1372632059', 'profile_link_color': '1DA1F2', 'profile_sidebar_border_color': 'C0DEED', 'profile_sidebar_fill_color': 'DDEEF6', 'profile_text_color': '333333', 'profile_use_background_image': True, 'has_extended_profile': False, 'default_profile': True, 'default_profile_image': False, 'following': False, 'follow_request_sent': False, 'notifications': False, 'translator_type': 'none', 'withheld_in_countries': []}, id=33083872, id_str='33083872', name='J Le', screen_name='daxemperor', location='New York, NY', description='', url=None, entities={'description': {'urls': []}}, protected=False, followers_count=46, friends_count=291, listed_count=1, created_at=datetime.datetime(2009, 4, 19, 1, 33, 23), favourites_count=112, utc_offset=None, time_zone=None, geo_enabled=False, verified=False, statuses_count=272, lang=None, contributors_enabled=False, is_translator=False, is_translation_enabled=False, profile_background_color='C0DEED', profile_background_image_url='http://abs.twimg.com/images/themes/theme1/bg.png', profile_background_image_url_https='https://abs.twimg.com/images/themes/theme1/bg.png', profile_background_tile=False, profile_image_url='http://pbs.twimg.com/profile_images/493806329920622592/JY1uLsju_normal.jpeg', profile_image_url_https='https://pbs.twimg.com/profile_images/493806329920622592/JY1uLsju_normal.jpeg', profile_banner_url='https://pbs.twimg.com/profile_banners/33083872/1372632059', profile_link_color='1DA1F2', profile_sidebar_border_color='C0DEED', profile_sidebar_fill_color='DDEEF6', profile_text_color='333333', profile_use_background_image=True, has_extended_profile=False, default_profile=True, default_profile_image=False, following=False, follow_request_sent=False, notifications=False, translator_type='none', withheld_in_countries=[]), geo=None, coordinates=None, place=None, contributors=None, is_quote_status=False, retweet_count=0, favorite_count=0, favorited=False, retweeted=False, lang='en') \n",
      "\n",
      ".....................................\n",
      "\n",
      "Status(_api=<tweepy.api.API object at 0x7fc9618f0040>, _json={'created_at': 'Wed Jun 30 17:49:39 +0000 2021', 'id': 1410294473997815815, 'id_str': '1410294473997815815', 'full_text': \"I'm more worried about the Zombie Virus than the Corona Virus.  Least the Zombie Virus seems real.\", 'truncated': False, 'display_text_range': [0, 98], 'entities': {'hashtags': [], 'symbols': [], 'user_mentions': [], 'urls': []}, 'metadata': {'iso_language_code': 'en', 'result_type': 'recent'}, 'source': '<a href=\"https://mobile.twitter.com\" rel=\"nofollow\">Twitter Web App</a>', 'in_reply_to_status_id': None, 'in_reply_to_status_id_str': None, 'in_reply_to_user_id': None, 'in_reply_to_user_id_str': None, 'in_reply_to_screen_name': None, 'user': {'id': 862294740234100736, 'id_str': '862294740234100736', 'name': 'George Szymanski', 'screen_name': 'GeoG85', 'location': '', 'description': '•No sassiness.  •No cheekiness.  •No shenanigans.  •No crop shaming.  •No poofters, m8.  Eye Power.', 'url': None, 'entities': {'description': {'urls': []}}, 'protected': False, 'followers_count': 251, 'friends_count': 5, 'listed_count': 0, 'created_at': 'Wed May 10 13:14:21 +0000 2017', 'favourites_count': 54705, 'utc_offset': None, 'time_zone': None, 'geo_enabled': False, 'verified': False, 'statuses_count': 2402, 'lang': None, 'contributors_enabled': False, 'is_translator': False, 'is_translation_enabled': False, 'profile_background_color': '000000', 'profile_background_image_url': 'http://abs.twimg.com/images/themes/theme1/bg.png', 'profile_background_image_url_https': 'https://abs.twimg.com/images/themes/theme1/bg.png', 'profile_background_tile': False, 'profile_image_url': 'http://pbs.twimg.com/profile_images/1397233455650443268/g7Zu58OA_normal.jpg', 'profile_image_url_https': 'https://pbs.twimg.com/profile_images/1397233455650443268/g7Zu58OA_normal.jpg', 'profile_banner_url': 'https://pbs.twimg.com/profile_banners/862294740234100736/1623694357', 'profile_link_color': 'FAB81E', 'profile_sidebar_border_color': '000000', 'profile_sidebar_fill_color': '000000', 'profile_text_color': '000000', 'profile_use_background_image': False, 'has_extended_profile': True, 'default_profile': False, 'default_profile_image': False, 'following': False, 'follow_request_sent': False, 'notifications': False, 'translator_type': 'none', 'withheld_in_countries': []}, 'geo': None, 'coordinates': None, 'place': None, 'contributors': None, 'is_quote_status': False, 'retweet_count': 0, 'favorite_count': 0, 'favorited': False, 'retweeted': False, 'lang': 'en'}, created_at=datetime.datetime(2021, 6, 30, 17, 49, 39), id=1410294473997815815, id_str='1410294473997815815', full_text=\"I'm more worried about the Zombie Virus than the Corona Virus.  Least the Zombie Virus seems real.\", truncated=False, display_text_range=[0, 98], entities={'hashtags': [], 'symbols': [], 'user_mentions': [], 'urls': []}, metadata={'iso_language_code': 'en', 'result_type': 'recent'}, source='Twitter Web App', source_url='https://mobile.twitter.com', in_reply_to_status_id=None, in_reply_to_status_id_str=None, in_reply_to_user_id=None, in_reply_to_user_id_str=None, in_reply_to_screen_name=None, author=User(_api=<tweepy.api.API object at 0x7fc9618f0040>, _json={'id': 862294740234100736, 'id_str': '862294740234100736', 'name': 'George Szymanski', 'screen_name': 'GeoG85', 'location': '', 'description': '•No sassiness.  •No cheekiness.  •No shenanigans.  •No crop shaming.  •No poofters, m8.  Eye Power.', 'url': None, 'entities': {'description': {'urls': []}}, 'protected': False, 'followers_count': 251, 'friends_count': 5, 'listed_count': 0, 'created_at': 'Wed May 10 13:14:21 +0000 2017', 'favourites_count': 54705, 'utc_offset': None, 'time_zone': None, 'geo_enabled': False, 'verified': False, 'statuses_count': 2402, 'lang': None, 'contributors_enabled': False, 'is_translator': False, 'is_translation_enabled': False, 'profile_background_color': '000000', 'profile_background_image_url': 'http://abs.twimg.com/images/themes/theme1/bg.png', 'profile_background_image_url_https': 'https://abs.twimg.com/images/themes/theme1/bg.png', 'profile_background_tile': False, 'profile_image_url': 'http://pbs.twimg.com/profile_images/1397233455650443268/g7Zu58OA_normal.jpg', 'profile_image_url_https': 'https://pbs.twimg.com/profile_images/1397233455650443268/g7Zu58OA_normal.jpg', 'profile_banner_url': 'https://pbs.twimg.com/profile_banners/862294740234100736/1623694357', 'profile_link_color': 'FAB81E', 'profile_sidebar_border_color': '000000', 'profile_sidebar_fill_color': '000000', 'profile_text_color': '000000', 'profile_use_background_image': False, 'has_extended_profile': True, 'default_profile': False, 'default_profile_image': False, 'following': False, 'follow_request_sent': False, 'notifications': False, 'translator_type': 'none', 'withheld_in_countries': []}, id=862294740234100736, id_str='862294740234100736', name='George Szymanski', screen_name='GeoG85', location='', description='•No sassiness.  •No cheekiness.  •No shenanigans.  •No crop shaming.  •No poofters, m8.  Eye Power.', url=None, entities={'description': {'urls': []}}, protected=False, followers_count=251, friends_count=5, listed_count=0, created_at=datetime.datetime(2017, 5, 10, 13, 14, 21), favourites_count=54705, utc_offset=None, time_zone=None, geo_enabled=False, verified=False, statuses_count=2402, lang=None, contributors_enabled=False, is_translator=False, is_translation_enabled=False, profile_background_color='000000', profile_background_image_url='http://abs.twimg.com/images/themes/theme1/bg.png', profile_background_image_url_https='https://abs.twimg.com/images/themes/theme1/bg.png', profile_background_tile=False, profile_image_url='http://pbs.twimg.com/profile_images/1397233455650443268/g7Zu58OA_normal.jpg', profile_image_url_https='https://pbs.twimg.com/profile_images/1397233455650443268/g7Zu58OA_normal.jpg', profile_banner_url='https://pbs.twimg.com/profile_banners/862294740234100736/1623694357', profile_link_color='FAB81E', profile_sidebar_border_color='000000', profile_sidebar_fill_color='000000', profile_text_color='000000', profile_use_background_image=False, has_extended_profile=True, default_profile=False, default_profile_image=False, following=False, follow_request_sent=False, notifications=False, translator_type='none', withheld_in_countries=[]), user=User(_api=<tweepy.api.API object at 0x7fc9618f0040>, _json={'id': 862294740234100736, 'id_str': '862294740234100736', 'name': 'George Szymanski', 'screen_name': 'GeoG85', 'location': '', 'description': '•No sassiness.  •No cheekiness.  •No shenanigans.  •No crop shaming.  •No poofters, m8.  Eye Power.', 'url': None, 'entities': {'description': {'urls': []}}, 'protected': False, 'followers_count': 251, 'friends_count': 5, 'listed_count': 0, 'created_at': 'Wed May 10 13:14:21 +0000 2017', 'favourites_count': 54705, 'utc_offset': None, 'time_zone': None, 'geo_enabled': False, 'verified': False, 'statuses_count': 2402, 'lang': None, 'contributors_enabled': False, 'is_translator': False, 'is_translation_enabled': False, 'profile_background_color': '000000', 'profile_background_image_url': 'http://abs.twimg.com/images/themes/theme1/bg.png', 'profile_background_image_url_https': 'https://abs.twimg.com/images/themes/theme1/bg.png', 'profile_background_tile': False, 'profile_image_url': 'http://pbs.twimg.com/profile_images/1397233455650443268/g7Zu58OA_normal.jpg', 'profile_image_url_https': 'https://pbs.twimg.com/profile_images/1397233455650443268/g7Zu58OA_normal.jpg', 'profile_banner_url': 'https://pbs.twimg.com/profile_banners/862294740234100736/1623694357', 'profile_link_color': 'FAB81E', 'profile_sidebar_border_color': '000000', 'profile_sidebar_fill_color': '000000', 'profile_text_color': '000000', 'profile_use_background_image': False, 'has_extended_profile': True, 'default_profile': False, 'default_profile_image': False, 'following': False, 'follow_request_sent': False, 'notifications': False, 'translator_type': 'none', 'withheld_in_countries': []}, id=862294740234100736, id_str='862294740234100736', name='George Szymanski', screen_name='GeoG85', location='', description='•No sassiness.  •No cheekiness.  •No shenanigans.  •No crop shaming.  •No poofters, m8.  Eye Power.', url=None, entities={'description': {'urls': []}}, protected=False, followers_count=251, friends_count=5, listed_count=0, created_at=datetime.datetime(2017, 5, 10, 13, 14, 21), favourites_count=54705, utc_offset=None, time_zone=None, geo_enabled=False, verified=False, statuses_count=2402, lang=None, contributors_enabled=False, is_translator=False, is_translation_enabled=False, profile_background_color='000000', profile_background_image_url='http://abs.twimg.com/images/themes/theme1/bg.png', profile_background_image_url_https='https://abs.twimg.com/images/themes/theme1/bg.png', profile_background_tile=False, profile_image_url='http://pbs.twimg.com/profile_images/1397233455650443268/g7Zu58OA_normal.jpg', profile_image_url_https='https://pbs.twimg.com/profile_images/1397233455650443268/g7Zu58OA_normal.jpg', profile_banner_url='https://pbs.twimg.com/profile_banners/862294740234100736/1623694357', profile_link_color='FAB81E', profile_sidebar_border_color='000000', profile_sidebar_fill_color='000000', profile_text_color='000000', profile_use_background_image=False, has_extended_profile=True, default_profile=False, default_profile_image=False, following=False, follow_request_sent=False, notifications=False, translator_type='none', withheld_in_countries=[]), geo=None, coordinates=None, place=None, contributors=None, is_quote_status=False, retweet_count=0, favorite_count=0, favorited=False, retweeted=False, lang='en') \n",
      "\n",
      ".....................................\n",
      "\n"
     ]
    }
   ],
   "source": [
    "Tweets = api.search( query , count=10 , lang='en' , exclude='retweets' , tweet_mode='extended' )\n",
    "# tweet_mode='extended'\n",
    "# tweet_mode='compat'\n",
    "\n",
    "for tweet in Tweets:\n",
    "    print(tweet,\"\\n\")\n",
    "    print(\".....................................\\n\")"
   ]
  },
  {
   "cell_type": "markdown",
   "metadata": {
    "id": "Yi61BOpJgoo5"
   },
   "source": [
    "## ***Get the tweets and some Attributes***"
   ]
  },
  {
   "cell_type": "code",
   "execution_count": 8,
   "metadata": {
    "colab": {
     "base_uri": "https://localhost:8080/"
    },
    "id": "4JVv80OPgPbB",
    "outputId": "e609af06-5fcd-47c5-8986-0005cfc35966"
   },
   "outputs": [
    {
     "name": "stdout",
     "output_type": "stream",
     "text": [
      "Empty DataFrame\n",
      "Columns: [Tweets, User, User_statuses_count, user_followers, User_location, User_verified, fav_count, rt_count, tweet_date]\n",
      "Index: []\n"
     ]
    }
   ],
   "source": [
    "df = pd.DataFrame(columns = ['Tweets' , 'User' , 'User_statuses_count' , \n",
    "                            'user_followers' , 'User_location' , 'User_verified' ,\n",
    "                            'fav_count' , 'rt_count' , 'tweet_date'] )\n",
    "print(df)\n",
    "# print(df.shape)"
   ]
  },
  {
   "cell_type": "code",
   "execution_count": 9,
   "metadata": {
    "id": "MGjIiZ1Tgz_n"
   },
   "outputs": [],
   "source": [
    "def stream(data, file_name):\n",
    "    i = 0\n",
    "    for tweet in tweepy.Cursor(api.search, q=data, count=100, lang='en').items():\n",
    "        print(i, end='\\r')\n",
    "        df.loc[i, 'Tweets'] = tweet.text\n",
    "        df.loc[i, 'User'] = tweet.user.name\n",
    "        df.loc[i, 'User_statuses_count'] = tweet.user.statuses_count\n",
    "        df.loc[i, 'user_followers'] = tweet.user.followers_count\n",
    "        df.loc[i, 'User_location'] = tweet.user.location\n",
    "        df.loc[i, 'User_verified'] = tweet.user.verified\n",
    "        df.loc[i, 'fav_count'] = tweet.favorite_count\n",
    "        df.loc[i, 'rt_count'] = tweet.retweet_count\n",
    "        df.loc[i, 'tweet_date'] = tweet.created_at\n",
    "        df.to_excel('{}.xlsx'.format(file_name))\n",
    "        i = i+1\n",
    "        if i == 1000:\n",
    "            break\n",
    "        else:\n",
    "            pass"
   ]
  },
  {
   "cell_type": "code",
   "execution_count": 10,
   "metadata": {
    "colab": {
     "base_uri": "https://localhost:8080/"
    },
    "id": "GKoaqfdahC7t",
    "outputId": "a2b10ea5-85b8-4061-c2d7-8c733ef3a61e"
   },
   "outputs": [
    {
     "name": "stdout",
     "output_type": "stream",
     "text": [
      "999\r"
     ]
    }
   ],
   "source": [
    "stream(data=[\"corona virus\"] , file_name='my_tweets')"
   ]
  },
  {
   "cell_type": "code",
   "execution_count": 11,
   "metadata": {
    "colab": {
     "base_uri": "https://localhost:8080/",
     "height": 289
    },
    "id": "c_Ow6C8yhjS5",
    "outputId": "c61114b1-0c4e-4b84-dc7b-2d69bccb4f47"
   },
   "outputs": [
    {
     "data": {
      "text/html": [
       "<div>\n",
       "<style scoped>\n",
       "    .dataframe tbody tr th:only-of-type {\n",
       "        vertical-align: middle;\n",
       "    }\n",
       "\n",
       "    .dataframe tbody tr th {\n",
       "        vertical-align: top;\n",
       "    }\n",
       "\n",
       "    .dataframe thead th {\n",
       "        text-align: right;\n",
       "    }\n",
       "</style>\n",
       "<table border=\"1\" class=\"dataframe\">\n",
       "  <thead>\n",
       "    <tr style=\"text-align: right;\">\n",
       "      <th></th>\n",
       "      <th>Tweets</th>\n",
       "      <th>User</th>\n",
       "      <th>User_statuses_count</th>\n",
       "      <th>user_followers</th>\n",
       "      <th>User_location</th>\n",
       "      <th>User_verified</th>\n",
       "      <th>fav_count</th>\n",
       "      <th>rt_count</th>\n",
       "      <th>tweet_date</th>\n",
       "    </tr>\n",
       "  </thead>\n",
       "  <tbody>\n",
       "    <tr>\n",
       "      <th>0</th>\n",
       "      <td>@H_M_Parker @AlexMorgan1984 Covid hasnt been v...</td>\n",
       "      <td>Dillon Dualy</td>\n",
       "      <td>752</td>\n",
       "      <td>191</td>\n",
       "      <td>Roanoke, VA</td>\n",
       "      <td>False</td>\n",
       "      <td>0</td>\n",
       "      <td>0</td>\n",
       "      <td>2021-06-30 17:58:52</td>\n",
       "    </tr>\n",
       "    <tr>\n",
       "      <th>1</th>\n",
       "      <td>When you need extended losing weight read up o...</td>\n",
       "      <td>Lazy Marketing🏆</td>\n",
       "      <td>645974</td>\n",
       "      <td>39853</td>\n",
       "      <td>London, England</td>\n",
       "      <td>False</td>\n",
       "      <td>0</td>\n",
       "      <td>0</td>\n",
       "      <td>2021-06-30 17:58:41</td>\n",
       "    </tr>\n",
       "    <tr>\n",
       "      <th>2</th>\n",
       "      <td>RT @Oliviadede4: Just watch how this tweet wil...</td>\n",
       "      <td>DEAN OF STUDENTS🎈🇬🇭</td>\n",
       "      <td>50091</td>\n",
       "      <td>13090</td>\n",
       "      <td>Accra, Ghana</td>\n",
       "      <td>False</td>\n",
       "      <td>0</td>\n",
       "      <td>14</td>\n",
       "      <td>2021-06-30 17:57:42</td>\n",
       "    </tr>\n",
       "    <tr>\n",
       "      <th>3</th>\n",
       "      <td>A Multi-Billion Dollar idea to defeat Corona V...</td>\n",
       "      <td>TWScott</td>\n",
       "      <td>39665</td>\n",
       "      <td>675</td>\n",
       "      <td>Texas, USA</td>\n",
       "      <td>False</td>\n",
       "      <td>0</td>\n",
       "      <td>0</td>\n",
       "      <td>2021-06-30 17:57:34</td>\n",
       "    </tr>\n",
       "    <tr>\n",
       "      <th>4</th>\n",
       "      <td>RT @myogioffice: 'The sweet challenge during t...</td>\n",
       "      <td>vipin chikara</td>\n",
       "      <td>288</td>\n",
       "      <td>62</td>\n",
       "      <td>Baraut, India</td>\n",
       "      <td>False</td>\n",
       "      <td>0</td>\n",
       "      <td>104</td>\n",
       "      <td>2021-06-30 17:57:34</td>\n",
       "    </tr>\n",
       "  </tbody>\n",
       "</table>\n",
       "</div>"
      ],
      "text/plain": [
       "                                              Tweets                 User  \\\n",
       "0  @H_M_Parker @AlexMorgan1984 Covid hasnt been v...         Dillon Dualy   \n",
       "1  When you need extended losing weight read up o...      Lazy Marketing🏆   \n",
       "2  RT @Oliviadede4: Just watch how this tweet wil...  DEAN OF STUDENTS🎈🇬🇭   \n",
       "3  A Multi-Billion Dollar idea to defeat Corona V...              TWScott   \n",
       "4  RT @myogioffice: 'The sweet challenge during t...        vipin chikara   \n",
       "\n",
       "  User_statuses_count user_followers    User_location User_verified fav_count  \\\n",
       "0                 752            191      Roanoke, VA         False         0   \n",
       "1              645974          39853  London, England         False         0   \n",
       "2               50091          13090     Accra, Ghana         False         0   \n",
       "3               39665            675       Texas, USA         False         0   \n",
       "4                 288             62    Baraut, India         False         0   \n",
       "\n",
       "  rt_count           tweet_date  \n",
       "0        0  2021-06-30 17:58:52  \n",
       "1        0  2021-06-30 17:58:41  \n",
       "2       14  2021-06-30 17:57:42  \n",
       "3        0  2021-06-30 17:57:34  \n",
       "4      104  2021-06-30 17:57:34  "
      ]
     },
     "execution_count": 11,
     "metadata": {},
     "output_type": "execute_result"
    }
   ],
   "source": [
    "df.head()"
   ]
  },
  {
   "cell_type": "code",
   "execution_count": 12,
   "metadata": {
    "colab": {
     "base_uri": "https://localhost:8080/"
    },
    "id": "lER38sSnihsd",
    "outputId": "67ba826c-941c-4d14-8764-8622c9899696"
   },
   "outputs": [
    {
     "name": "stdout",
     "output_type": "stream",
     "text": [
      "Collecting textblob\n",
      "  Downloading textblob-0.15.3-py2.py3-none-any.whl (636 kB)\n",
      "\u001b[K     |████████████████████████████████| 636 kB 652 kB/s eta 0:00:01\n",
      "\u001b[?25hRequirement already satisfied: nltk>=3.1 in /home/fenicx/anaconda3/lib/python3.8/site-packages (from textblob) (3.6.1)\n",
      "Requirement already satisfied: tqdm in /home/fenicx/anaconda3/lib/python3.8/site-packages (from nltk>=3.1->textblob) (4.59.0)\n",
      "Requirement already satisfied: regex in /home/fenicx/anaconda3/lib/python3.8/site-packages (from nltk>=3.1->textblob) (2021.4.4)\n",
      "Requirement already satisfied: joblib in /home/fenicx/anaconda3/lib/python3.8/site-packages (from nltk>=3.1->textblob) (1.0.1)\n",
      "Requirement already satisfied: click in /home/fenicx/anaconda3/lib/python3.8/site-packages (from nltk>=3.1->textblob) (7.1.2)\n",
      "Installing collected packages: textblob\n",
      "Successfully installed textblob-0.15.3\n"
     ]
    }
   ],
   "source": [
    "!pip install textblob"
   ]
  },
  {
   "cell_type": "code",
   "execution_count": 13,
   "metadata": {
    "id": "hZAyg4yBinzW"
   },
   "outputs": [],
   "source": [
    "from textblob import TextBlob"
   ]
  },
  {
   "cell_type": "code",
   "execution_count": 14,
   "metadata": {
    "id": "CVhPGxODiveE"
   },
   "outputs": [],
   "source": [
    "import re\n",
    "def clean_tweet(tweet):\n",
    "    return ' '.join(re.sub('(@[A-Za-z0-9]+)|([^0-9A-Za-z \\t])|(\\w+:\\/\\/\\S+)', ' ', tweet).split())"
   ]
  },
  {
   "cell_type": "code",
   "execution_count": 15,
   "metadata": {
    "id": "TRnL6bX0i4m1"
   },
   "outputs": [],
   "source": [
    "def analyze_sentiment(tweet):\n",
    "    analysis = TextBlob(tweet)\n",
    "    if analysis.sentiment.polarity > 0:\n",
    "        return 'Positive'\n",
    "    elif analysis.sentiment.polarity == 0:\n",
    "        return 'Neutral'\n",
    "    else:\n",
    "        return 'Negative'"
   ]
  },
  {
   "cell_type": "code",
   "execution_count": 16,
   "metadata": {
    "id": "MUW9LtQLnlUA"
   },
   "outputs": [],
   "source": [
    "df['clean_tweet'] = df['Tweets'].apply(lambda x : clean_tweet(x))"
   ]
  },
  {
   "cell_type": "code",
   "execution_count": 19,
   "metadata": {
    "colab": {
     "base_uri": "https://localhost:8080/",
     "height": 510
    },
    "id": "e1IHrWkUnuoz",
    "outputId": "a07f6006-aaab-48e6-fb0b-b144512f1a4f"
   },
   "outputs": [
    {
     "data": {
      "text/html": [
       "<div>\n",
       "<style scoped>\n",
       "    .dataframe tbody tr th:only-of-type {\n",
       "        vertical-align: middle;\n",
       "    }\n",
       "\n",
       "    .dataframe tbody tr th {\n",
       "        vertical-align: top;\n",
       "    }\n",
       "\n",
       "    .dataframe thead th {\n",
       "        text-align: right;\n",
       "    }\n",
       "</style>\n",
       "<table border=\"1\" class=\"dataframe\">\n",
       "  <thead>\n",
       "    <tr style=\"text-align: right;\">\n",
       "      <th></th>\n",
       "      <th>Tweets</th>\n",
       "      <th>User</th>\n",
       "      <th>User_statuses_count</th>\n",
       "      <th>user_followers</th>\n",
       "      <th>User_location</th>\n",
       "      <th>User_verified</th>\n",
       "      <th>fav_count</th>\n",
       "      <th>rt_count</th>\n",
       "      <th>tweet_date</th>\n",
       "      <th>clean_tweet</th>\n",
       "    </tr>\n",
       "  </thead>\n",
       "  <tbody>\n",
       "    <tr>\n",
       "      <th>0</th>\n",
       "      <td>RT @nhsrcofficial: If you or someone in your f...</td>\n",
       "      <td>Zeenat Talpur</td>\n",
       "      <td>103272</td>\n",
       "      <td>1517</td>\n",
       "      <td></td>\n",
       "      <td>False</td>\n",
       "      <td>0</td>\n",
       "      <td>264</td>\n",
       "      <td>2021-02-20 13:01:13</td>\n",
       "      <td>RT If you or someone in your family suspects t...</td>\n",
       "    </tr>\n",
       "    <tr>\n",
       "      <th>1</th>\n",
       "      <td>RT @anistonism: remember when the morning show...</td>\n",
       "      <td>Federico</td>\n",
       "      <td>18407</td>\n",
       "      <td>256</td>\n",
       "      <td>Italia</td>\n",
       "      <td>False</td>\n",
       "      <td>0</td>\n",
       "      <td>25</td>\n",
       "      <td>2021-02-20 13:00:37</td>\n",
       "      <td>RT remember when the morning show predicted th...</td>\n",
       "    </tr>\n",
       "    <tr>\n",
       "      <th>2</th>\n",
       "      <td>@G2Pengu We all know that Corona Virus, Trump,...</td>\n",
       "      <td>h3nder</td>\n",
       "      <td>8007</td>\n",
       "      <td>25</td>\n",
       "      <td></td>\n",
       "      <td>False</td>\n",
       "      <td>0</td>\n",
       "      <td>0</td>\n",
       "      <td>2021-02-20 13:00:35</td>\n",
       "      <td>We all know that Corona Virus Trump Biden and ...</td>\n",
       "    </tr>\n",
       "    <tr>\n",
       "      <th>3</th>\n",
       "      <td>@GregClinker @NHSActivistRN The needed percent...</td>\n",
       "      <td>Lars F. Jensen</td>\n",
       "      <td>25583</td>\n",
       "      <td>1074</td>\n",
       "      <td>Danmark</td>\n",
       "      <td>False</td>\n",
       "      <td>0</td>\n",
       "      <td>0</td>\n",
       "      <td>2021-02-20 13:00:25</td>\n",
       "      <td>The needed percentage depends a lot on 1 the e...</td>\n",
       "    </tr>\n",
       "    <tr>\n",
       "      <th>4</th>\n",
       "      <td>RT @HousingITguy: Many countries already have ...</td>\n",
       "      <td>Ｔｏｎｙ Ｓｍｉｔｈ ＡＣＩＨ                     #SocialHou...</td>\n",
       "      <td>128367</td>\n",
       "      <td>17125</td>\n",
       "      <td>North West UK</td>\n",
       "      <td>False</td>\n",
       "      <td>0</td>\n",
       "      <td>3</td>\n",
       "      <td>2021-02-20 13:00:07</td>\n",
       "      <td>RT Many countries already have a successful Co...</td>\n",
       "    </tr>\n",
       "  </tbody>\n",
       "</table>\n",
       "</div>"
      ],
      "text/plain": [
       "                                              Tweets  ...                                        clean_tweet\n",
       "0  RT @nhsrcofficial: If you or someone in your f...  ...  RT If you or someone in your family suspects t...\n",
       "1  RT @anistonism: remember when the morning show...  ...  RT remember when the morning show predicted th...\n",
       "2  @G2Pengu We all know that Corona Virus, Trump,...  ...  We all know that Corona Virus Trump Biden and ...\n",
       "3  @GregClinker @NHSActivistRN The needed percent...  ...  The needed percentage depends a lot on 1 the e...\n",
       "4  RT @HousingITguy: Many countries already have ...  ...  RT Many countries already have a successful Co...\n",
       "\n",
       "[5 rows x 10 columns]"
      ]
     },
     "execution_count": 19,
     "metadata": {
      "tags": []
     },
     "output_type": "execute_result"
    }
   ],
   "source": [
    "df.head()"
   ]
  },
  {
   "cell_type": "code",
   "execution_count": 17,
   "metadata": {
    "colab": {
     "base_uri": "https://localhost:8080/",
     "height": 510
    },
    "id": "tqyMAfBlnyFy",
    "outputId": "6c70ea84-4a4c-4990-99ea-6fdb4adedaaa"
   },
   "outputs": [
    {
     "data": {
      "text/html": [
       "<div>\n",
       "<style scoped>\n",
       "    .dataframe tbody tr th:only-of-type {\n",
       "        vertical-align: middle;\n",
       "    }\n",
       "\n",
       "    .dataframe tbody tr th {\n",
       "        vertical-align: top;\n",
       "    }\n",
       "\n",
       "    .dataframe thead th {\n",
       "        text-align: right;\n",
       "    }\n",
       "</style>\n",
       "<table border=\"1\" class=\"dataframe\">\n",
       "  <thead>\n",
       "    <tr style=\"text-align: right;\">\n",
       "      <th></th>\n",
       "      <th>Tweets</th>\n",
       "      <th>User</th>\n",
       "      <th>User_statuses_count</th>\n",
       "      <th>user_followers</th>\n",
       "      <th>User_location</th>\n",
       "      <th>User_verified</th>\n",
       "      <th>fav_count</th>\n",
       "      <th>rt_count</th>\n",
       "      <th>tweet_date</th>\n",
       "      <th>clean_tweet</th>\n",
       "      <th>Sentiment</th>\n",
       "    </tr>\n",
       "  </thead>\n",
       "  <tbody>\n",
       "    <tr>\n",
       "      <th>0</th>\n",
       "      <td>@H_M_Parker @AlexMorgan1984 Covid hasnt been v...</td>\n",
       "      <td>Dillon Dualy</td>\n",
       "      <td>752</td>\n",
       "      <td>191</td>\n",
       "      <td>Roanoke, VA</td>\n",
       "      <td>False</td>\n",
       "      <td>0</td>\n",
       "      <td>0</td>\n",
       "      <td>2021-06-30 17:58:52</td>\n",
       "      <td>M Parker Covid hasnt been verified isolated or...</td>\n",
       "      <td>Neutral</td>\n",
       "    </tr>\n",
       "    <tr>\n",
       "      <th>1</th>\n",
       "      <td>When you need extended losing weight read up o...</td>\n",
       "      <td>Lazy Marketing🏆</td>\n",
       "      <td>645974</td>\n",
       "      <td>39853</td>\n",
       "      <td>London, England</td>\n",
       "      <td>False</td>\n",
       "      <td>0</td>\n",
       "      <td>0</td>\n",
       "      <td>2021-06-30 17:58:41</td>\n",
       "      <td>When you need extended losing weight read up o...</td>\n",
       "      <td>Neutral</td>\n",
       "    </tr>\n",
       "    <tr>\n",
       "      <th>2</th>\n",
       "      <td>RT @Oliviadede4: Just watch how this tweet wil...</td>\n",
       "      <td>DEAN OF STUDENTS🎈🇬🇭</td>\n",
       "      <td>50091</td>\n",
       "      <td>13090</td>\n",
       "      <td>Accra, Ghana</td>\n",
       "      <td>False</td>\n",
       "      <td>0</td>\n",
       "      <td>14</td>\n",
       "      <td>2021-06-30 17:57:42</td>\n",
       "      <td>RT Just watch how this tweet will blow and com...</td>\n",
       "      <td>Negative</td>\n",
       "    </tr>\n",
       "    <tr>\n",
       "      <th>3</th>\n",
       "      <td>A Multi-Billion Dollar idea to defeat Corona V...</td>\n",
       "      <td>TWScott</td>\n",
       "      <td>39665</td>\n",
       "      <td>675</td>\n",
       "      <td>Texas, USA</td>\n",
       "      <td>False</td>\n",
       "      <td>0</td>\n",
       "      <td>0</td>\n",
       "      <td>2021-06-30 17:57:34</td>\n",
       "      <td>A Multi Billion Dollar idea to defeat Corona V...</td>\n",
       "      <td>Neutral</td>\n",
       "    </tr>\n",
       "    <tr>\n",
       "      <th>4</th>\n",
       "      <td>RT @myogioffice: 'The sweet challenge during t...</td>\n",
       "      <td>vipin chikara</td>\n",
       "      <td>288</td>\n",
       "      <td>62</td>\n",
       "      <td>Baraut, India</td>\n",
       "      <td>False</td>\n",
       "      <td>0</td>\n",
       "      <td>104</td>\n",
       "      <td>2021-06-30 17:57:34</td>\n",
       "      <td>RT The sweet challenge during the Corona virus...</td>\n",
       "      <td>Positive</td>\n",
       "    </tr>\n",
       "  </tbody>\n",
       "</table>\n",
       "</div>"
      ],
      "text/plain": [
       "                                              Tweets                 User  \\\n",
       "0  @H_M_Parker @AlexMorgan1984 Covid hasnt been v...         Dillon Dualy   \n",
       "1  When you need extended losing weight read up o...      Lazy Marketing🏆   \n",
       "2  RT @Oliviadede4: Just watch how this tweet wil...  DEAN OF STUDENTS🎈🇬🇭   \n",
       "3  A Multi-Billion Dollar idea to defeat Corona V...              TWScott   \n",
       "4  RT @myogioffice: 'The sweet challenge during t...        vipin chikara   \n",
       "\n",
       "  User_statuses_count user_followers    User_location User_verified fav_count  \\\n",
       "0                 752            191      Roanoke, VA         False         0   \n",
       "1              645974          39853  London, England         False         0   \n",
       "2               50091          13090     Accra, Ghana         False         0   \n",
       "3               39665            675       Texas, USA         False         0   \n",
       "4                 288             62    Baraut, India         False         0   \n",
       "\n",
       "  rt_count           tweet_date  \\\n",
       "0        0  2021-06-30 17:58:52   \n",
       "1        0  2021-06-30 17:58:41   \n",
       "2       14  2021-06-30 17:57:42   \n",
       "3        0  2021-06-30 17:57:34   \n",
       "4      104  2021-06-30 17:57:34   \n",
       "\n",
       "                                         clean_tweet Sentiment  \n",
       "0  M Parker Covid hasnt been verified isolated or...   Neutral  \n",
       "1  When you need extended losing weight read up o...   Neutral  \n",
       "2  RT Just watch how this tweet will blow and com...  Negative  \n",
       "3  A Multi Billion Dollar idea to defeat Corona V...   Neutral  \n",
       "4  RT The sweet challenge during the Corona virus...  Positive  "
      ]
     },
     "execution_count": 17,
     "metadata": {},
     "output_type": "execute_result"
    }
   ],
   "source": [
    "df['Sentiment'] = df['clean_tweet'].apply(lambda x : analyze_sentiment(x) )\n",
    "df.head()"
   ]
  },
  {
   "cell_type": "code",
   "execution_count": 18,
   "metadata": {
    "colab": {
     "base_uri": "https://localhost:8080/"
    },
    "id": "nk-sQJxmn4G0",
    "outputId": "b04fc169-1277-4853-84c0-fd020e01978f"
   },
   "outputs": [
    {
     "name": "stdout",
     "output_type": "stream",
     "text": [
      "Original tweet:\n",
      " When you need extended losing weight read up on this online page https://t.co/KG5Zx4KbXs\n",
      "\n",
      "Clean tweet:\n",
      " When you need extended losing weight read up on this online page\n",
      "\n",
      "Sentiment of the tweet:\n",
      " Neutral\n"
     ]
    }
   ],
   "source": [
    "n = 1\n",
    "print(\"Original tweet:\\n\",df['Tweets'][n])\n",
    "print()\n",
    "print(\"Clean tweet:\\n\",df['clean_tweet'][n])\n",
    "print()\n",
    "print(\"Sentiment of the tweet:\\n\",df['Sentiment'][n])"
   ]
  },
  {
   "cell_type": "code",
   "execution_count": 19,
   "metadata": {
    "colab": {
     "base_uri": "https://localhost:8080/"
    },
    "id": "2xMIBq2Zn-H5",
    "outputId": "bdf6d521-fd38-404d-a2d0-230b1f1b535b"
   },
   "outputs": [
    {
     "name": "stdout",
     "output_type": "stream",
     "text": [
      "Original tweet:\n",
      " @laurenboebert Trump said President Xi was doing an excellent job with the Corona virus, and that it would never co… https://t.co/iOi26sMwCT\n",
      "\n",
      "Clean tweet:\n",
      " Trump said President Xi was doing an excellent job with the Corona virus and that it would never co\n",
      "\n",
      "Sentiment of the tweet:\n",
      " Positive\n"
     ]
    }
   ],
   "source": [
    "n = 20\n",
    "print(\"Original tweet:\\n\",df['Tweets'][n])\n",
    "print()\n",
    "print(\"Clean tweet:\\n\",df['clean_tweet'][n])\n",
    "print()\n",
    "print(\"Sentiment of the tweet:\\n\",df['Sentiment'][n])"
   ]
  },
  {
   "cell_type": "code",
   "execution_count": 20,
   "metadata": {
    "colab": {
     "base_uri": "https://localhost:8080/"
    },
    "id": "h0MNswRuoESW",
    "outputId": "0776f60c-8792-4aec-fd6c-492f9419a69f"
   },
   "outputs": [
    {
     "name": "stdout",
     "output_type": "stream",
     "text": [
      "Original tweet:\n",
      " My new corona virus highlight is the crystal maze-esque games required to finish lab bits over video when isolating 😂\n",
      "\n",
      "Clean tweet:\n",
      " My new corona virus highlight is the crystal maze esque games required to finish lab bits over video when isolating\n",
      "\n",
      "Sentiment of the tweet:\n",
      " Positive\n"
     ]
    }
   ],
   "source": [
    "n = 203\n",
    "print(\"Original tweet:\\n\",df['Tweets'][n])\n",
    "print()\n",
    "print(\"Clean tweet:\\n\",df['clean_tweet'][n])\n",
    "print()\n",
    "print(\"Sentiment of the tweet:\\n\",df['Sentiment'][n])"
   ]
  },
  {
   "cell_type": "code",
   "execution_count": 21,
   "metadata": {
    "colab": {
     "base_uri": "https://localhost:8080/"
    },
    "id": "biDahRf-oJdZ",
    "outputId": "8aede860-c3eb-4ab5-b2be-7987372ba4a7"
   },
   "outputs": [
    {
     "data": {
      "text/plain": [
       "392"
      ]
     },
     "execution_count": 21,
     "metadata": {},
     "output_type": "execute_result"
    }
   ],
   "source": [
    "df[df.Sentiment == 'Positive'].shape[0]"
   ]
  },
  {
   "cell_type": "code",
   "execution_count": 22,
   "metadata": {
    "colab": {
     "base_uri": "https://localhost:8080/"
    },
    "id": "R7c_uBOsoMzv",
    "outputId": "39c86e17-afa5-4204-8e14-bfb54345a1cf"
   },
   "outputs": [
    {
     "data": {
      "text/plain": [
       "443"
      ]
     },
     "execution_count": 22,
     "metadata": {},
     "output_type": "execute_result"
    }
   ],
   "source": [
    "df[df.Sentiment == 'Neutral'].shape[0]"
   ]
  },
  {
   "cell_type": "code",
   "execution_count": 23,
   "metadata": {
    "colab": {
     "base_uri": "https://localhost:8080/"
    },
    "id": "-e-j0lTXoP1g",
    "outputId": "caf28f0d-1319-476d-c99e-8b3ab0f88cd9"
   },
   "outputs": [
    {
     "data": {
      "text/plain": [
       "165"
      ]
     },
     "execution_count": 23,
     "metadata": {},
     "output_type": "execute_result"
    }
   ],
   "source": [
    "df[df.Sentiment == 'Negative'].shape[0]"
   ]
  },
  {
   "cell_type": "code",
   "execution_count": null,
   "metadata": {
    "id": "Ehg24teToTjT"
   },
   "outputs": [],
   "source": []
  }
 ],
 "metadata": {
  "accelerator": "GPU",
  "colab": {
   "collapsed_sections": [],
   "name": "Project 4 - Twitter Sentiment Analyser.ipynb",
   "provenance": []
  },
  "kernelspec": {
   "display_name": "Python 3",
   "language": "python",
   "name": "python3"
  },
  "language_info": {
   "codemirror_mode": {
    "name": "ipython",
    "version": 3
   },
   "file_extension": ".py",
   "mimetype": "text/x-python",
   "name": "python",
   "nbconvert_exporter": "python",
   "pygments_lexer": "ipython3",
   "version": "3.8.8"
  }
 },
 "nbformat": 4,
 "nbformat_minor": 1
}
